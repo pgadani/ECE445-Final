{
 "cells": [
  {
   "cell_type": "code",
   "execution_count": 1,
   "metadata": {},
   "outputs": [],
   "source": [
    "import numpy as np\n",
    "from matplotlib import pyplot as plt\n",
    "from mpl_toolkits.mplot3d import Axes3D\n",
    "import math\n",
    "import pandas as pd\n",
    "from collections import Counter"
   ]
  },
  {
   "cell_type": "code",
   "execution_count": 2,
   "metadata": {},
   "outputs": [],
   "source": [
    "from sklearn.neighbors import KNeighborsClassifier"
   ]
  },
  {
   "cell_type": "code",
   "execution_count": null,
   "metadata": {},
   "outputs": [],
   "source": []
  },
  {
   "cell_type": "code",
   "execution_count": null,
   "metadata": {},
   "outputs": [],
   "source": []
  },
  {
   "cell_type": "code",
   "execution_count": null,
   "metadata": {},
   "outputs": [],
   "source": []
  },
  {
   "cell_type": "code",
   "execution_count": null,
   "metadata": {},
   "outputs": [],
   "source": []
  },
  {
   "cell_type": "code",
   "execution_count": 3,
   "metadata": {},
   "outputs": [
    {
     "name": "stdout",
     "output_type": "stream",
     "text": [
      "PTS\n",
      "FG%\n",
      "3P%\n",
      "REB\n",
      "AST\n",
      "STL\n",
      "BLK\n",
      "Height\n",
      "Pos\n",
      "{'C', 'SF', 'SG', 'PG', 'PF'}\n"
     ]
    },
    {
     "data": {
      "text/plain": [
       "Counter({'G': 184, 'F': 166, 'C': 72})"
      ]
     },
     "execution_count": 3,
     "metadata": {},
     "output_type": "execute_result"
    }
   ],
   "source": [
    "nba_players = pd.read_csv('./NBA_clean.csv', index_col=0)\n",
    "nba_players = nba_players.sample(frac=1) #shuffle 100% of rows\n",
    "\n",
    "nba_players = nba_players.drop(['MIN', 'Age', 'Weight', 'BMI', 'OREB', 'DREB', 'FTM',  'FTA', 'FT%', 'TOV', 'PF', 'EFF', 'AST/TOV', 'STL/TOV', 'FGM', 'FGA', '3PM', '3PA'], axis=1)\n",
    "for stat in nba_players:\n",
    "    print(stat)\n",
    "nba_players = nba_players.reset_index(drop=True)\n",
    "#nba_players\n",
    "\n",
    "print(set(nba_players.loc[:, 'Pos']))\n",
    "Counter(nba_players.loc[:, 'Pos'])\n",
    "f = nba_players.loc[:, 'Pos']\n",
    "genpos = []\n",
    "for a in f:\n",
    "    genpos.append(a[-1])\n",
    "nba_players['Pos'] = genpos\n",
    "Counter(nba_players.loc[:, 'Pos'])"
   ]
  },
  {
   "cell_type": "code",
   "execution_count": 4,
   "metadata": {},
   "outputs": [],
   "source": [
    "def normalize(nba_players):\n",
    "    nbamean = np.mean(nba_players.loc[:, nba_players.columns != 'Pos'], axis = 0)\n",
    "    nba_players = nba_players - nbamean\n",
    "    nbastd = np.std(nba_players.loc[:, nba_players.columns != 'Pos'], axis = 0)\n",
    "    nba_players = nba_players / nbastd\n",
    "    #for stat in nba_players.loc[:, nba_players.columns != 'Pos']:\n",
    "    #    nba_players[stat] = nba_players[stat] - np.mean(nba_players[stat])\n",
    "    #for stat in nba_players.loc[:, nba_players.columns != 'Pos']:\n",
    "    #    nba_players[stat] = nba_players[stat]/np.std(nba_players[stat])\n",
    "    return nba_players, nbamean, nbastd"
   ]
  },
  {
   "cell_type": "code",
   "execution_count": 5,
   "metadata": {},
   "outputs": [],
   "source": [
    "validation_data  = nba_players.loc[360:421, nba_players.columns != 'Pos']\n",
    "validation_labels = nba_players.loc[360:421, 'Pos']"
   ]
  },
  {
   "cell_type": "code",
   "execution_count": 6,
   "metadata": {},
   "outputs": [
    {
     "name": "stdout",
     "output_type": "stream",
     "text": [
      "[0.8027777777777777, 0.8081511839708561, 0.8027322404371585, 0.813615664845173, 0.8246357012750455, 0.8164389799635702, 0.813752276867031, 0.8163934426229509, 0.8055100182149363]\n"
     ]
    }
   ],
   "source": [
    "splits = [0, 60 - 1, 120 - 1, 180 - 1, 240 - 1, 300 - 1, 360 - 1]\n",
    "\n",
    "perf = []\n",
    "klist = [4,5,6,7,8,9,10,11,12]\n",
    "for k in klist:\n",
    "    KNN = KNeighborsClassifier(n_neighbors=k)\n",
    "    p = []\n",
    "    for i in range(len(splits) - 1):\n",
    "        #print(i)\n",
    "        s1 = training_data = nba_players.loc[0:splits[i]-1, nba_players.columns != 'Pos']\n",
    "        s2 = training_data = nba_players.loc[splits[i+1]+1:359, nba_players.columns != 'Pos']\n",
    "        l1 = training_data = nba_players.loc[0:splits[i]-1, 'Pos']\n",
    "        l2 = training_data = nba_players.loc[splits[i+1]+1:359,  'Pos']\n",
    "        training_data = pd.concat([s1, s2])\n",
    "        training_labels = pd.concat([l1, l2])\n",
    "        testing_data = nba_players.loc[splits[i]:splits[i+1], nba_players.columns != 'Pos']\n",
    "        testing_labels = nba_players.loc[splits[i]:splits[i+1], 'Pos']\n",
    "        training_data = training_data.reset_index(drop=True)\n",
    "        testing_data = testing_data.reset_index(drop=True)\n",
    "\n",
    "        #testing_data = normalize(testing_data)\n",
    "        training_data, tmean, tstd = normalize(training_data)\n",
    "        U,S,Vh = np.linalg.svd(training_data.T, full_matrices=True)\n",
    "        totalerr = np.linalg.norm(S,2)**2\n",
    "        currenterr = 0\n",
    "        idx = 0\n",
    "        while currenterr < 0.95*totalerr:\n",
    "            currenterr+=S[idx]**2\n",
    "            idx+=1\n",
    "        Uhat = U[:,:idx]\n",
    "        training_data = np.matmul(Uhat, np.matmul(Uhat.T, training_data.T)).T\n",
    "        testing_data = (testing_data - tmean)/tstd\n",
    "        testing_data = np.matmul(Uhat, np.matmul(Uhat.T, testing_data.T)).T\n",
    "        \n",
    "        KNN.fit(training_data, training_labels)\n",
    "        acc = KNN.score(testing_data, testing_labels)\n",
    "        p.append(acc)\n",
    "    perf.append(np.mean(p))\n",
    "print(perf)\n",
    "#KNN3 = KNeighborsClassifier(n_neighbors=3)\n",
    "#KNN3.fit(nba_players.loc[0:359, nba_players.columns != 'Pos'], nba_players.loc[0:359, 'Pos'])"
   ]
  },
  {
   "cell_type": "code",
   "execution_count": 7,
   "metadata": {},
   "outputs": [
    {
     "name": "stdout",
     "output_type": "stream",
     "text": [
      "8\n",
      "(62, 8)\n",
      "(62,)\n",
      "0.7903225806451613\n"
     ]
    }
   ],
   "source": [
    "#validate\n",
    "print(klist[np.argmax(perf)])\n",
    "KNN = KNeighborsClassifier(n_neighbors=klist[np.argmin(perf)])\n",
    "training_data = nba_players.loc[0:359, nba_players.columns != 'Pos']\n",
    "training_labels = nba_players.loc[0:359, 'Pos']\n",
    "training_data = training_data.reset_index(drop=True)\n",
    "training_data, tmean, tstd = normalize(training_data)\n",
    "U,S,Vh = np.linalg.svd(training_data.T, full_matrices=True)\n",
    "totalerr = np.linalg.norm(S,2)**2\n",
    "currenterr = 0\n",
    "idx = 0\n",
    "while currenterr < 0.95*totalerr:\n",
    "    currenterr+=S[idx]**2\n",
    "    idx+=1\n",
    "Uhat = U[:,:idx]\n",
    "training_data = np.matmul(Uhat, np.matmul(Uhat.T, training_data.T)).T\n",
    "\n",
    "KNN.fit(training_data, training_labels)\n",
    "#validation_data = normalize(validation_data)\n",
    "validation_data = (validation_data - tmean)/tstd\n",
    "validation_data = np.matmul(Uhat, np.matmul(Uhat.T, validation_data.T)).T\n",
    "print(validation_data.shape)\n",
    "print(validation_labels.shape)\n",
    "acc = KNN.score(validation_data, validation_labels)\n",
    "print(acc)"
   ]
  },
  {
   "cell_type": "code",
   "execution_count": null,
   "metadata": {},
   "outputs": [],
   "source": []
  },
  {
   "cell_type": "code",
   "execution_count": null,
   "metadata": {},
   "outputs": [],
   "source": []
  },
  {
   "cell_type": "code",
   "execution_count": null,
   "metadata": {},
   "outputs": [],
   "source": []
  }
 ],
 "metadata": {
  "kernelspec": {
   "display_name": "Python 3",
   "language": "python",
   "name": "python3"
  },
  "language_info": {
   "codemirror_mode": {
    "name": "ipython",
    "version": 3
   },
   "file_extension": ".py",
   "mimetype": "text/x-python",
   "name": "python",
   "nbconvert_exporter": "python",
   "pygments_lexer": "ipython3",
   "version": "3.6.5"
  }
 },
 "nbformat": 4,
 "nbformat_minor": 2
}
