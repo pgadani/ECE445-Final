{
 "cells": [
  {
   "cell_type": "code",
   "execution_count": 23,
   "metadata": {},
   "outputs": [],
   "source": [
    "import csv\n",
    "import itertools\n",
    "from matplotlib import pyplot as plt\n",
    "import numpy as np\n",
    "import random\n",
    "\n",
    "from sklearn.metrics import confusion_matrix, roc_curve, auc\n",
    "from sklearn.preprocessing import StandardScaler\n",
    "from sklearn.svm import SVC, LinearSVC\n",
    "\n",
    "from sklearn.linear_model import LogisticRegression\n",
    "from sklearn.neighbors import KNeighborsClassifier\n",
    "\n",
    "# import warnings\n",
    "# warnings.filterwarnings(\"ignore\")"
   ]
  },
  {
   "cell_type": "markdown",
   "metadata": {},
   "source": [
    "### Read the data\n",
    "\n",
    "Note about the data: The dataset is rather large, and very skewed toward valid transactions. To balance it a bit better, we sample and only keep around 5% of the valid transactions (the "
   ]
  },
  {
   "cell_type": "code",
   "execution_count": 38,
   "metadata": {},
   "outputs": [
    {
     "name": "stdout",
     "output_type": "stream",
     "text": [
      "The data is imbalanced, with 14613 samples in total but only 492 cases of fraud\n"
     ]
    }
   ],
   "source": [
    "with open('creditcard.csv', newline='') as f:\n",
    "    reader = csv.reader(f, delimiter=',')\n",
    "    csv_data = list(reader)[1:]\n",
    "    \n",
    "csv_data = [row for row in csv_data if int(row[-1]) == 1 or random.random() < .05]\n",
    "\n",
    "# Format: Time, V1, ..., V28, Amount, Class\n",
    "data = np.array([[float(x) for x in row[1:-1]] for row in csv_data])\n",
    "times = np.array([float(row[0]) for row in csv_data])\n",
    "labels = np.array([int(row[-1]) for row in csv_data])\n",
    "print('The data is imbalanced, with {} samples in total but only {} cases of fraud'.format(len(labels), sum(labels)))"
   ]
  },
  {
   "cell_type": "markdown",
   "metadata": {},
   "source": [
    "### Feature Scaling"
   ]
  },
  {
   "cell_type": "code",
   "execution_count": 39,
   "metadata": {},
   "outputs": [
    {
     "name": "stdout",
     "output_type": "stream",
     "text": [
      "[-1.36138071e-01  1.08747932e-01 -2.31636452e-01  1.43066709e-01\n",
      " -8.71082980e-02 -5.13922332e-02 -1.64526465e-01  7.89883117e-03\n",
      " -9.76343425e-02 -1.88949167e-01  1.24586302e-01 -1.87390859e-01\n",
      " -1.01443419e-02 -2.29775306e-01  7.81853052e-03 -1.31768137e-01\n",
      " -2.22835738e-01 -8.47656214e-02  2.94615613e-02  1.32879422e-02\n",
      "  3.18184249e-02  1.20779615e-02 -5.21694121e-03 -6.69735803e-03\n",
      " -3.74077645e-03  1.01309416e-03  5.11590009e-03 -1.09001717e-03\n",
      "  9.11537166e+01]\n",
      "[5.84373454e+00 3.85842725e+00 5.38963903e+00 2.86785646e+00\n",
      " 3.09604938e+00 1.88607838e+00 4.11254513e+00 2.86731019e+00\n",
      " 1.53335185e+00 2.90503745e+00 1.66953850e+00 2.84290350e+00\n",
      " 9.88577657e-01 2.95215138e+00 8.32541491e-01 1.75163967e+00\n",
      " 3.63238363e+00 1.11950579e+00 7.37049834e-01 7.38136345e-01\n",
      " 1.08624144e+00 6.02125068e-01 4.17537170e-01 3.67978125e-01\n",
      " 2.84038369e-01 2.25896809e-01 2.19285145e-01 8.80268571e-02\n",
      " 8.66798281e+04]\n",
      "The PCA features have mean 0 but different variances\n",
      "The transaction amount is not scaled. We should scale it so it does not affect the SVM too much\n"
     ]
    }
   ],
   "source": [
    "print(np.mean(data, axis=0))\n",
    "print(np.var(data, axis=0))\n",
    "print('The PCA features have mean 0 but different variances')\n",
    "print('The transaction amount is not scaled. We should scale it so it does not affect the SVM too much')"
   ]
  },
  {
   "cell_type": "code",
   "execution_count": 40,
   "metadata": {},
   "outputs": [
    {
     "name": "stdout",
     "output_type": "stream",
     "text": [
      "[ 5.89338261e-16  4.03293471e-16  9.97119007e-16 -5.79879370e-16\n",
      " -4.76211450e-16 -1.81428357e-17 -1.57786829e-16 -2.39646119e-16\n",
      "  3.56482410e-16  1.30526990e-15  1.23003564e-15  5.80259245e-16\n",
      " -2.09903796e-16  6.21574463e-16 -3.82640610e-16 -4.71045148e-19\n",
      " -8.53190022e-17  4.85434818e-16 -6.33631700e-18  2.04657721e-17\n",
      " -1.95960480e-16 -3.43255158e-17  1.72477550e-17 -2.96302593e-18\n",
      " -3.45321679e-16  7.94698750e-17 -1.42871032e-17  1.57553206e-17\n",
      "  6.48917684e-15]\n",
      "[1. 1. 1. 1. 1. 1. 1. 1. 1. 1. 1. 1. 1. 1. 1. 1. 1. 1. 1. 1. 1. 1. 1. 1.\n",
      " 1. 1. 1. 1. 1.]\n"
     ]
    }
   ],
   "source": [
    "scaler = StandardScaler()\n",
    "data_sc = scaler.fit_transform(data)\n",
    "print(np.mean(data_sc, axis=0))\n",
    "print(np.var(data_sc, axis=0))"
   ]
  },
  {
   "cell_type": "markdown",
   "metadata": {},
   "source": [
    "### Preliminary plotting"
   ]
  },
  {
   "cell_type": "code",
   "execution_count": 41,
   "metadata": {},
   "outputs": [
    {
     "name": "stdout",
     "output_type": "stream",
     "text": [
      "[ 1.06937359  0.24749113  1.23742903 -0.93573151 -1.16942246  0.15833178\n",
      "  1.110692    1.14736893  1.15693907]\n"
     ]
    },
    {
     "data": {
      "image/png": "[encoded data removed]",
      "text/plain": [
       "<Figure size 432x288 with 1 Axes>"
      ]
     },
     "metadata": {
      "needs_background": "light"
     },
     "output_type": "display_data"
    }
   ],
   "source": [
    "# plot the first two principal components\n",
    "data_fraud = data[np.where(labels == 1)]\n",
    "data_valid = data[np.where(labels == 0)]\n",
    "plt.scatter(data_valid[:, 0], data_valid[:, -1], c='b')\n",
    "plt.scatter(data_fraud[:, 0], data_fraud[:, -1], c='r')\n",
    "print(data_valid[1:10, 0])\n",
    "plt.ylim((0, 10000))\n",
    "plt.legend(['valid', 'fraud'])\n",
    "plt.xlabel('First PCA feature')\n",
    "plt.ylabel('Transaction amount')\n",
    "plt.show()"
   ]
  },
  {
   "cell_type": "markdown",
   "metadata": {},
   "source": [
    "### Setting up cross-validation"
   ]
  },
  {
   "cell_type": "code",
   "execution_count": 42,
   "metadata": {},
   "outputs": [],
   "source": [
    "fraud_indices = np.where(labels == 1)[0]\n",
    "np.random.shuffle(fraud_indices)\n",
    "fraud_splits = np.array_split(fraud_indices, 5)\n",
    "\n",
    "valid_indices = np.where(labels == 0)[0]\n",
    "np.random.shuffle(valid_indices)\n",
    "valid_splits = np.array_split(valid_indices, 5)\n",
    "\n",
    "folds = [np.concatenate((fraud_sp, valid_sp)) for fraud_sp, valid_sp in zip(fraud_splits, valid_splits)]"
   ]
  },
  {
   "cell_type": "markdown",
   "metadata": {},
   "source": [
    "### SVM"
   ]
  },
  {
   "cell_type": "code",
   "execution_count": 45,
   "metadata": {},
   "outputs": [],
   "source": [
    "def train_binary_SVM(data, scale=False, kernel=None, class_weight=None):\n",
    "    confusion_mat = np.zeros((2, 2))\n",
    "    for i in range(5):\n",
    "        if kernel is None:\n",
    "            if class_weight is None:\n",
    "                svm = LinearSVC(fit_intercept=False, dual=False)\n",
    "            else:\n",
    "                svm = LinearSVC(fit_intercept=False, dual=False, class_weight=class_weight)\n",
    "        else:\n",
    "            if class_weight is None:\n",
    "                svm = SVC(kernel=kernel, gamma='auto')\n",
    "            else:\n",
    "                svm = SVC(kernel=kernel, gamma='auto', class_weight=class_weight)\n",
    "        \n",
    "        train_data = np.delete(data, folds[i], axis=0)\n",
    "        test_data = data[folds[i]]\n",
    "        if scale:\n",
    "            scaler = StandardScaler()\n",
    "            train_data = scaler.fit_transform(train_data)\n",
    "            test_data = scaler.transform(test_data)\n",
    "\n",
    "        svm.fit(train_data, np.delete(labels, folds[i]))\n",
    "        pred = svm.predict(test_data)\n",
    "\n",
    "        conf_mat = confusion_matrix(labels[folds[i]], pred)\n",
    "        print('Fold', i)\n",
    "        print(conf_mat)\n",
    "\n",
    "        confusion_mat += conf_mat\n",
    "\n",
    "    confusion_mat /= 5\n",
    "    print('Final Confusion Matrix')\n",
    "    print(confusion_mat)\n",
    "    print('False negatives (valid):', confusion_mat[0, 1] / sum(confusion_mat[0, :]))\n",
    "    print('False positives (fraud):', confusion_mat[1, 0] / sum(confusion_mat[1,:]))\n",
    "    return confusion_mat"
   ]
  },
  {
   "cell_type": "markdown",
   "metadata": {},
   "source": [
    "#### Linear SVM -- Without scaling or class weights"
   ]
  },
  {
   "cell_type": "code",
   "execution_count": 46,
   "metadata": {},
   "outputs": [
    {
     "name": "stdout",
     "output_type": "stream",
     "text": [
      "Fold 0\n",
      "[[2816    9]\n",
      " [  20   79]]\n",
      "Fold 1\n",
      "[[2810   14]\n",
      " [  19   80]]\n",
      "Fold 2\n",
      "[[2815    9]\n",
      " [  24   74]]\n",
      "Fold 3\n",
      "[[2815    9]\n",
      " [  23   75]]\n",
      "Fold 4\n",
      "[[2816    8]\n",
      " [  19   79]]\n",
      "Final Confusion Matrix\n",
      "[[2814.4    9.8]\n",
      " [  21.    77.4]]\n",
      "False negatives (valid): 0.0034700092061468735\n",
      "False positives (fraud): 0.21341463414634146\n"
     ]
    }
   ],
   "source": [
    "train_binary_SVM(data);"
   ]
  },
  {
   "cell_type": "markdown",
   "metadata": {},
   "source": [
    "#### Linear SVM with Scaling"
   ]
  },
  {
   "cell_type": "code",
   "execution_count": 47,
   "metadata": {},
   "outputs": [
    {
     "name": "stdout",
     "output_type": "stream",
     "text": [
      "Fold 0\n",
      "[[2816    9]\n",
      " [  13   86]]\n",
      "Fold 1\n",
      "[[2820    4]\n",
      " [  16   83]]\n",
      "Fold 2\n",
      "[[2816    8]\n",
      " [  20   78]]\n",
      "Fold 3\n",
      "[[2817    7]\n",
      " [  17   81]]\n",
      "Fold 4\n",
      "[[2813   11]\n",
      " [  16   82]]\n",
      "Final Confusion Matrix\n",
      "[[2816.4    7.8]\n",
      " [  16.4   82. ]]\n",
      "False negatives (valid): 0.002761844062035266\n",
      "False positives (fraud): 0.16666666666666663\n"
     ]
    }
   ],
   "source": [
    "train_binary_SVM(data, scale=True);"
   ]
  },
  {
   "cell_type": "markdown",
   "metadata": {},
   "source": [
    "#### Linear SVM with Scaling and Class Weights"
   ]
  },
  {
   "cell_type": "code",
   "execution_count": 48,
   "metadata": {},
   "outputs": [
    {
     "name": "stdout",
     "output_type": "stream",
     "text": [
      "Fold 0\n",
      "[[2673  152]\n",
      " [   5   94]]\n",
      "Fold 1\n",
      "[[2690  134]\n",
      " [   7   92]]\n",
      "Fold 2\n",
      "[[2723  101]\n",
      " [  11   87]]\n",
      "Fold 3\n",
      "[[2691  133]\n",
      " [   8   90]]\n",
      "Fold 4\n",
      "[[2688  136]\n",
      " [   7   91]]\n",
      "Final Confusion Matrix\n",
      "[[2693.   131.2]\n",
      " [   7.6   90.8]]\n",
      "False negatives (valid): 0.046455633453721404\n",
      "False positives (fraud): 0.07723577235772358\n"
     ]
    }
   ],
   "source": [
    "train_binary_SVM(data, scale=True, class_weight='balanced');"
   ]
  },
  {
   "cell_type": "markdown",
   "metadata": {},
   "source": [
    "### Kernel SVM"
   ]
  },
  {
   "cell_type": "markdown",
   "metadata": {},
   "source": [
    "#### RBF Kernel with Scaling and Class Weights"
   ]
  },
  {
   "cell_type": "code",
   "execution_count": 49,
   "metadata": {},
   "outputs": [
    {
     "name": "stdout",
     "output_type": "stream",
     "text": [
      "Fold 0\n",
      "[[2823    2]\n",
      " [  20   79]]\n",
      "Fold 1\n",
      "[[2821    3]\n",
      " [  21   78]]\n",
      "Fold 2\n",
      "[[2822    2]\n",
      " [  23   75]]\n",
      "Fold 3\n",
      "[[2823    1]\n",
      " [  21   77]]\n",
      "Fold 4\n",
      "[[2823    1]\n",
      " [  18   80]]\n",
      "Final Confusion Matrix\n",
      "[[2.8224e+03 1.8000e+00]\n",
      " [2.0600e+01 7.7800e+01]]\n",
      "False negatives (valid): 0.0006373486297004461\n",
      "False positives (fraud): 0.20934959349593496\n"
     ]
    }
   ],
   "source": [
    "train_binary_SVM(data, scale=True, kernel='rbf');"
   ]
  },
  {
   "cell_type": "code",
   "execution_count": 50,
   "metadata": {},
   "outputs": [
    {
     "name": "stdout",
     "output_type": "stream",
     "text": [
      "Fold 0\n",
      "[[2818    7]\n",
      " [  44   55]]\n",
      "Fold 1\n",
      "[[2807   17]\n",
      " [  41   58]]\n",
      "Fold 2\n",
      "[[2805   19]\n",
      " [  45   53]]\n",
      "Fold 3\n",
      "[[2817    7]\n",
      " [  53   45]]\n",
      "Fold 4\n",
      "[[2817    7]\n",
      " [  50   48]]\n",
      "Final Confusion Matrix\n",
      "[[2812.8   11.4]\n",
      " [  46.6   51.8]]\n",
      "False negatives (valid): 0.004036541321436158\n",
      "False positives (fraud): 0.4735772357723577\n"
     ]
    }
   ],
   "source": [
    "train_binary_SVM(data, kernel='rbf', class_weight='balanced');"
   ]
  },
  {
   "cell_type": "markdown",
   "metadata": {},
   "source": [
    "#### Polynomial Kernel with Scaling and Class Weights"
   ]
  },
  {
   "cell_type": "code",
   "execution_count": 51,
   "metadata": {},
   "outputs": [
    {
     "name": "stdout",
     "output_type": "stream",
     "text": [
      "Fold 0\n",
      "[[2822    3]\n",
      " [  14   85]]\n",
      "Fold 1\n",
      "[[2821    3]\n",
      " [  15   84]]\n",
      "Fold 2\n",
      "[[2821    3]\n",
      " [  24   74]]\n",
      "Fold 3\n",
      "[[2818    6]\n",
      " [  21   77]]\n",
      "Fold 4\n",
      "[[2819    5]\n",
      " [  21   77]]\n",
      "Final Confusion Matrix\n",
      "[[2820.2    4. ]\n",
      " [  19.    79.4]]\n",
      "False negatives (valid): 0.0014163302882232137\n",
      "False positives (fraud): 0.19308943089430894\n"
     ]
    }
   ],
   "source": [
    "train_binary_SVM(data, scale=True, kernel='poly');"
   ]
  },
  {
   "cell_type": "code",
   "execution_count": 52,
   "metadata": {},
   "outputs": [
    {
     "name": "stdout",
     "output_type": "stream",
     "text": [
      "Fold 0\n",
      "[[2807   18]\n",
      " [  10   89]]\n",
      "Fold 1\n",
      "[[2804   20]\n",
      " [  13   86]]\n",
      "Fold 2\n",
      "[[2812   12]\n",
      " [  19   79]]\n",
      "Fold 3\n",
      "[[2801   23]\n",
      " [  18   80]]\n",
      "Fold 4\n",
      "[[2806   18]\n",
      " [  14   84]]\n",
      "Final Confusion Matrix\n",
      "[[2806.    18.2]\n",
      " [  14.8   83.6]]\n",
      "False negatives (valid): 0.006444302811415622\n",
      "False positives (fraud): 0.15040650406504066\n"
     ]
    }
   ],
   "source": [
    "train_binary_SVM(data, scale=True, kernel='poly', class_weight='balanced');"
   ]
  },
  {
   "cell_type": "markdown",
   "metadata": {},
   "source": [
    "### Logistic Regression"
   ]
  },
  {
   "cell_type": "code",
   "execution_count": 53,
   "metadata": {},
   "outputs": [],
   "source": [
    "def train_logistic_regression(data, class_weight = None, C=1.0):\n",
    "    err = 0\n",
    "    err_valid = 0\n",
    "    err_fraud = 0\n",
    "    confusion_mat = np.zeros((2, 2))\n",
    "    AU = 0\n",
    "    for i in range(5):\n",
    "        model = LogisticRegression(class_weight=class_weight, C=C)\n",
    "        \n",
    "        model.fit(np.delete(data, folds[i], axis=0), np.delete(labels, folds[i]))\n",
    "        pred = model.predict(data[folds[i]])\n",
    "        pred1 = model.predict_proba(data[folds[i]])[:,1]\n",
    "        #err_fold = np.sum((pred - labels[folds[i]])**2) / len(folds[i])\n",
    "        #pred_valid = model.predict(data[valid_splits[i]])\n",
    "        #err_valid_fold = np.sum((pred_valid - labels[valid_splits[i]])**2) / len(valid_splits[i])\n",
    "        #pred_fraud = model.predict(data[fraud_splits[i]])\n",
    "        #err_fraud_fold = np.sum((pred_fraud - labels[fraud_splits[i]])**2) / len(fraud_splits[i])\n",
    "        #print('Fold', i, 'Error:', err_fold, 'Valid Error:', err_valid_fold, 'Fraud Error', err_fraud_fold)\n",
    "        #err += err_fold\n",
    "        #err_valid += err_valid_fold\n",
    "        #err_fraud += err_fraud_fold\n",
    "        conf_mat = confusion_matrix(labels[folds[i]], pred)\n",
    "        fpr, tpr, thresholds = roc_curve(labels[folds[i]], pred1)\n",
    "        area_under_curve = auc(fpr, tpr)\n",
    "        AU += area_under_curve\n",
    "        print('Fold', i)\n",
    "        print(conf_mat)\n",
    "        print('Area under curve:', area_under_curve)\n",
    "\n",
    "        confusion_mat += conf_mat\n",
    "    AU/=5\n",
    "    confusion_mat /= 5\n",
    "    print('Final Confusion Matrix')\n",
    "    print(confusion_mat)\n",
    "    return confusion_mat, AU\n",
    "    #err /= 5\n",
    "    #err_valid /= 5\n",
    "    #err_fraud /= 5\n",
    "    #print('FINAL Error:', err, 'Valid Error:', err_valid, 'Fraud Error', err_fraud)\n",
    "    #return err, err_valid, err_fraud"
   ]
  },
  {
   "cell_type": "markdown",
   "metadata": {},
   "source": [
    "#### Logistic Regression with Scaling, Class Weights, and Regularization"
   ]
  },
  {
   "cell_type": "code",
   "execution_count": 54,
   "metadata": {},
   "outputs": [
    {
     "name": "stdout",
     "output_type": "stream",
     "text": [
      "Checking class weight None and coefficient 0.01\n",
      "Fold 0\n",
      "[[2822    3]\n",
      " [  19   80]]\n",
      "Area under curve: 0.9530955573433448\n",
      "Fold 1\n",
      "[[2823    1]\n",
      " [  19   80]]\n",
      "Area under curve: 0.9617062981085645\n"
     ]
    },
    {
     "name": "stderr",
     "output_type": "stream",
     "text": [
      "/home/rupesh/.virtualenvs/dana3/lib/python3.6/site-packages/sklearn/linear_model/logistic.py:432: FutureWarning: Default solver will be changed to 'lbfgs' in 0.22. Specify a solver to silence this warning.\n",
      "  FutureWarning)\n",
      "/home/rupesh/.virtualenvs/dana3/lib/python3.6/site-packages/sklearn/linear_model/logistic.py:432: FutureWarning: Default solver will be changed to 'lbfgs' in 0.22. Specify a solver to silence this warning.\n",
      "  FutureWarning)\n",
      "/home/rupesh/.virtualenvs/dana3/lib/python3.6/site-packages/sklearn/linear_model/logistic.py:432: FutureWarning: Default solver will be changed to 'lbfgs' in 0.22. Specify a solver to silence this warning.\n",
      "  FutureWarning)\n"
     ]
    },
    {
     "name": "stdout",
     "output_type": "stream",
     "text": [
      "Fold 2\n",
      "[[2821    3]\n",
      " [  23   75]]\n",
      "Area under curve: 0.9330230675839741\n",
      "Fold 3\n",
      "[[2822    2]\n",
      " [  19   79]]\n",
      "Area under curve: 0.973579233393074\n",
      "Fold 4\n",
      "[[2822    2]\n",
      " [  16   82]]\n",
      "Area under curve: 0.9583887379314332\n",
      "Final Confusion Matrix\n",
      "[[2.822e+03 2.200e+00]\n",
      " [1.920e+01 7.920e+01]]\n"
     ]
    },
    {
     "name": "stderr",
     "output_type": "stream",
     "text": [
      "/home/rupesh/.virtualenvs/dana3/lib/python3.6/site-packages/sklearn/linear_model/logistic.py:432: FutureWarning: Default solver will be changed to 'lbfgs' in 0.22. Specify a solver to silence this warning.\n",
      "  FutureWarning)\n",
      "/home/rupesh/.virtualenvs/dana3/lib/python3.6/site-packages/sklearn/linear_model/logistic.py:432: FutureWarning: Default solver will be changed to 'lbfgs' in 0.22. Specify a solver to silence this warning.\n",
      "  FutureWarning)\n"
     ]
    },
    {
     "ename": "ValueError",
     "evalue": "not enough values to unpack (expected 3, got 2)",
     "output_type": "error",
     "traceback": [
      "\u001b[0;31m---------------------------------------------------------------------------\u001b[0m",
      "\u001b[0;31mValueError\u001b[0m                                Traceback (most recent call last)",
      "\u001b[0;32m<ipython-input-54-0ff53266db95>\u001b[0m in \u001b[0;36m<module>\u001b[0;34m\u001b[0m\n\u001b[1;32m      5\u001b[0m \u001b[0;32mfor\u001b[0m \u001b[0mcw\u001b[0m\u001b[0;34m,\u001b[0m\u001b[0mC\u001b[0m \u001b[0;32min\u001b[0m \u001b[0mparam_permuations\u001b[0m\u001b[0;34m:\u001b[0m\u001b[0;34m\u001b[0m\u001b[0m\n\u001b[1;32m      6\u001b[0m     \u001b[0mprint\u001b[0m\u001b[0;34m(\u001b[0m\u001b[0;34m'Checking class weight {} and coefficient {}'\u001b[0m\u001b[0;34m.\u001b[0m\u001b[0mformat\u001b[0m\u001b[0;34m(\u001b[0m\u001b[0mcw\u001b[0m\u001b[0;34m,\u001b[0m \u001b[0mC\u001b[0m\u001b[0;34m)\u001b[0m\u001b[0;34m)\u001b[0m\u001b[0;34m\u001b[0m\u001b[0m\n\u001b[0;32m----> 7\u001b[0;31m     \u001b[0m_\u001b[0m\u001b[0;34m,\u001b[0m\u001b[0m_\u001b[0m\u001b[0;34m,\u001b[0m\u001b[0mfe\u001b[0m \u001b[0;34m=\u001b[0m \u001b[0mtrain_logistic_regression\u001b[0m\u001b[0;34m(\u001b[0m\u001b[0mdata\u001b[0m\u001b[0;34m,\u001b[0m \u001b[0mcw\u001b[0m\u001b[0;34m,\u001b[0m \u001b[0mC\u001b[0m\u001b[0;34m)\u001b[0m\u001b[0;34m\u001b[0m\u001b[0m\n\u001b[0m\u001b[1;32m      8\u001b[0m     \u001b[0mfraud_errs\u001b[0m\u001b[0;34m.\u001b[0m\u001b[0mappend\u001b[0m\u001b[0;34m(\u001b[0m\u001b[0mfe\u001b[0m\u001b[0;34m)\u001b[0m\u001b[0;34m\u001b[0m\u001b[0m\n\u001b[1;32m      9\u001b[0m \u001b[0;34m\u001b[0m\u001b[0m\n",
      "\u001b[0;31mValueError\u001b[0m: not enough values to unpack (expected 3, got 2)"
     ]
    }
   ],
   "source": [
    "weights = [None,'balanced']\n",
    "coefficients = np.logspace(-2,0,10)\n",
    "fraud_errs = []\n",
    "param_permuations = list(itertools.product(weights, coefficients))\n",
    "for cw,C in param_permuations:\n",
    "    print('Checking class weight {} and coefficient {}'.format(cw, C))\n",
    "    _,_,fe = train_logistic_regression(data, cw, C)\n",
    "    fraud_errs.append(fe)\n",
    "\n",
    "idx = np.argmin(fraud_errs)\n",
    "best_params = param_permuations[idx]\n",
    "print('Best parameters found for Logistic Regression is {} class weights and {} coefficient'.format(best_params[0], best_params[1]))"
   ]
  },
  {
   "cell_type": "markdown",
   "metadata": {},
   "source": [
    "### We see that as we improve fraud accuracy, valid accuracy decreases and vice versa. For the best fraud accuracy, the results suggest that we utilize the scaled data, balanced class weights and a strong regularization (small C coefficient)"
   ]
  },
  {
   "cell_type": "markdown",
   "metadata": {},
   "source": [
    "# kNN"
   ]
  },
  {
   "cell_type": "code",
   "execution_count": 43,
   "metadata": {},
   "outputs": [],
   "source": [
    "def train_KNN(data, k, scale=False):\n",
    "    confusion_mat = np.zeros((2, 2))\n",
    "    for i in range(5):\n",
    "        knn = KNeighborsClassifier(n_neighbors=k)\n",
    "        \n",
    "        train_data = np.delete(data, folds[i], axis=0)\n",
    "        test_data = data[folds[i]]\n",
    "        if scale:\n",
    "            scaler = StandardScaler()\n",
    "            train_data = scaler.fit_transform(train_data)\n",
    "            test_data = scaler.transform(test_data)\n",
    "\n",
    "        knn.fit(train_data, np.delete(labels, folds[i]))\n",
    "        pred = knn.predict(test_data)\n",
    "\n",
    "        conf_mat = confusion_matrix(labels[folds[i]], pred)\n",
    "        print('Fold', i)\n",
    "        print(conf_mat)\n",
    "\n",
    "        confusion_mat += conf_mat\n",
    "\n",
    "    confusion_mat /= 5\n",
    "    print('Final Confusion Matrix')\n",
    "    print(confusion_mat)\n",
    "    print('False negatives (valid):', confusion_mat[0, 1] / sum(confusion_mat[0, :]))\n",
    "    print('False positives (fraud):', confusion_mat[1, 0] / sum(confusion_mat[1,:]))\n",
    "    return confusion_mat"
   ]
  },
  {
   "cell_type": "code",
   "execution_count": 44,
   "metadata": {},
   "outputs": [
    {
     "name": "stdout",
     "output_type": "stream",
     "text": [
      "Fold 0\n",
      "[[2824    1]\n",
      " [  22   77]]\n",
      "Fold 1\n",
      "[[2823    1]\n",
      " [  26   73]]\n",
      "Fold 2\n",
      "[[2821    3]\n",
      " [  33   65]]\n",
      "Fold 3\n",
      "[[2822    2]\n",
      " [  28   70]]\n",
      "Fold 4\n",
      "[[2823    1]\n",
      " [  24   74]]\n",
      "Final Confusion Matrix\n",
      "[[2.8226e+03 1.6000e+00]\n",
      " [2.6600e+01 7.1800e+01]]\n",
      "False negatives (valid): 0.0005665321152892855\n",
      "False positives (fraud): 0.2703252032520325\n",
      "Confusion Matrix:\n",
      "[[2.8226e+03 1.6000e+00]\n",
      " [2.6600e+01 7.1800e+01]]\n",
      "\n",
      "Fold 0\n",
      "[[2824    1]\n",
      " [  25   74]]\n",
      "Fold 1\n",
      "[[2823    1]\n",
      " [  29   70]]\n",
      "Fold 2\n",
      "[[2821    3]\n",
      " [  40   58]]\n",
      "Fold 3\n",
      "[[2823    1]\n",
      " [  31   67]]\n",
      "Fold 4\n",
      "[[2823    1]\n",
      " [  31   67]]\n",
      "Final Confusion Matrix\n",
      "[[2.8228e+03 1.4000e+00]\n",
      " [3.1200e+01 6.7200e+01]]\n",
      "False negatives (valid): 0.0004957156008781247\n",
      "False positives (fraud): 0.31707317073170727\n",
      "Confusion Matrix:\n",
      "[[2.8228e+03 1.4000e+00]\n",
      " [3.1200e+01 6.7200e+01]]\n",
      "\n",
      "Fold 0\n",
      "[[2824    1]\n",
      " [  27   72]]\n",
      "Fold 1\n",
      "[[2823    1]\n",
      " [  31   68]]\n",
      "Fold 2\n",
      "[[2821    3]\n",
      " [  40   58]]\n",
      "Fold 3\n",
      "[[2823    1]\n",
      " [  34   64]]\n",
      "Fold 4\n",
      "[[2823    1]\n",
      " [  31   67]]\n",
      "Final Confusion Matrix\n",
      "[[2.8228e+03 1.4000e+00]\n",
      " [3.2600e+01 6.5800e+01]]\n",
      "False negatives (valid): 0.0004957156008781247\n",
      "False positives (fraud): 0.3313008130081301\n",
      "Confusion Matrix:\n",
      "[[2.8228e+03 1.4000e+00]\n",
      " [3.2600e+01 6.5800e+01]]\n",
      "\n",
      "Fold 0\n",
      "[[2824    1]\n",
      " [  31   68]]\n",
      "Fold 1\n",
      "[[2823    1]\n",
      " [  32   67]]\n",
      "Fold 2\n",
      "[[2822    2]\n",
      " [  40   58]]\n",
      "Fold 3\n",
      "[[2823    1]\n",
      " [  36   62]]\n",
      "Fold 4\n",
      "[[2823    1]\n",
      " [  39   59]]\n",
      "Final Confusion Matrix\n",
      "[[2.823e+03 1.200e+00]\n",
      " [3.560e+01 6.280e+01]]\n",
      "False negatives (valid): 0.0004248990864669641\n",
      "False positives (fraud): 0.36178861788617883\n",
      "Confusion Matrix:\n",
      "[[2.823e+03 1.200e+00]\n",
      " [3.560e+01 6.280e+01]]\n",
      "\n"
     ]
    }
   ],
   "source": [
    "for k in [5, 7, 9, 11]:\n",
    "    conf = train_KNN(data, k)\n",
    "    print('Confusion Matrix:')\n",
    "    print(conf)\n",
    "    print()"
   ]
  },
  {
   "cell_type": "code",
   "execution_count": null,
   "metadata": {},
   "outputs": [],
   "source": []
  }
 ],
 "metadata": {
  "kernelspec": {
   "display_name": "Python 3",
   "language": "python",
   "name": "python3"
  },
  "language_info": {
   "codemirror_mode": {
    "name": "ipython",
    "version": 3
   },
   "file_extension": ".py",
   "mimetype": "text/x-python",
   "name": "python",
   "nbconvert_exporter": "python",
   "pygments_lexer": "ipython3",
   "version": "3.6.6"
  }
 },
 "nbformat": 4,
 "nbformat_minor": 2
}
