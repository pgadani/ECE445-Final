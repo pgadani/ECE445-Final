{
 "cells": [
  {
   "cell_type": "code",
   "execution_count": 1,
   "metadata": {},
   "outputs": [],
   "source": [
    "import csv\n",
    "import itertools\n",
    "from matplotlib import pyplot as plt\n",
    "import numpy as np\n",
    "import random\n",
    "\n",
    "from sklearn.metrics import confusion_matrix, roc_curve, auc\n",
    "from sklearn.preprocessing import StandardScaler\n",
    "from sklearn.svm import SVC, LinearSVC\n",
    "\n",
    "from sklearn.linear_model import LogisticRegression\n",
    "from sklearn.neighbors import KNeighborsClassifier\n",
    "\n",
    "# import warnings\n",
    "# warnings.filterwarnings(\"ignore\")"
   ]
  },
  {
   "cell_type": "markdown",
   "metadata": {},
   "source": [
    "### Read the data\n",
    "\n",
    "Note about the data: The dataset is rather large, and very skewed toward valid transactions. To balance it a bit better, we sample and only keep around 5% of the valid transactions"
   ]
  },
  {
   "cell_type": "code",
   "execution_count": 2,
   "metadata": {},
   "outputs": [
    {
     "name": "stdout",
     "output_type": "stream",
     "text": [
      "The data is imbalanced, with 14824 samples in total but only 492 cases of fraud\n"
     ]
    }
   ],
   "source": [
    "with open('creditcard.csv', newline='') as f:\n",
    "    reader = csv.reader(f, delimiter=',')\n",
    "    csv_data = list(reader)[1:]\n",
    "    \n",
    "csv_data = [row for row in csv_data if int(row[-1]) == 1 or random.random() < .05]\n",
    "\n",
    "# Format: Time, V1, ..., V28, Amount, Class\n",
    "data = np.array([[float(x) for x in row[1:-1]] for row in csv_data])\n",
    "times = np.array([float(row[0]) for row in csv_data])\n",
    "labels = np.array([int(row[-1]) for row in csv_data])\n",
    "print('The data is imbalanced, with {} samples in total but only {} cases of fraud'.format(len(labels), sum(labels)))"
   ]
  },
  {
   "cell_type": "markdown",
   "metadata": {},
   "source": [
    "### Feature Scaling"
   ]
  },
  {
   "cell_type": "code",
   "execution_count": 3,
   "metadata": {},
   "outputs": [
    {
     "name": "stdout",
     "output_type": "stream",
     "text": [
      "[-1.40101454e-01  1.10823645e-01 -2.45010890e-01  1.44844695e-01\n",
      " -6.75557110e-02 -4.87894568e-02 -1.74783737e-01  1.42450770e-02\n",
      " -7.60162559e-02 -1.94456613e-01  1.15786447e-01 -2.09944835e-01\n",
      "  1.41180150e-02 -2.14943150e-01 -8.04210614e-03 -1.28941575e-01\n",
      " -2.03707060e-01 -7.02543582e-02  2.01613049e-02  3.79781959e-03\n",
      "  2.20682274e-02  8.79503034e-04  6.62198597e-04 -5.39468397e-03\n",
      "  8.10554930e-04  7.34338477e-03  3.64671315e-03  1.35676927e-03\n",
      "  8.73907306e+01]\n",
      "[5.88329475e+00 3.60655004e+00 5.31106452e+00 2.78979584e+00\n",
      " 3.03478004e+00 1.90962596e+00 3.97317979e+00 2.99272338e+00\n",
      " 1.54953277e+00 2.82881098e+00 1.67640956e+00 2.84929734e+00\n",
      " 1.01359394e+00 2.98349251e+00 8.49833839e-01 1.71145200e+00\n",
      " 3.58976523e+00 1.10460190e+00 7.51972870e-01 6.04158512e-01\n",
      " 1.07553786e+00 5.84130260e-01 4.79947013e-01 3.65197144e-01\n",
      " 2.87296137e-01 2.33583029e-01 2.13969056e-01 9.86701785e-02\n",
      " 5.06785298e+04]\n",
      "The PCA features have mean 0 but different variances\n",
      "The transaction amount is not scaled. We should scale it so it does not affect the SVM too much\n"
     ]
    }
   ],
   "source": [
    "print(np.mean(data, axis=0))\n",
    "print(np.var(data, axis=0))\n",
    "print('The PCA features have mean 0 but different variances')\n",
    "print('The transaction amount is not scaled. We should scale it so it does not affect the SVM too much')"
   ]
  },
  {
   "cell_type": "code",
   "execution_count": 4,
   "metadata": {},
   "outputs": [
    {
     "name": "stdout",
     "output_type": "stream",
     "text": [
      "[ 7.89453650e-17 -1.24817707e-16  5.22862319e-16 -7.43888371e-16\n",
      " -3.90929718e-16 -2.74530054e-16  9.65685827e-16  1.43982985e-16\n",
      " -6.66890240e-17 -9.19150676e-16 -1.67682322e-15  6.75914922e-18\n",
      " -8.88238335e-18  2.05230987e-16  1.34345112e-16  3.29962567e-17\n",
      " -4.61433636e-16  3.24296864e-16 -1.94049370e-17 -8.17651098e-17\n",
      " -5.36238320e-18  2.39959159e-17 -6.96810242e-17 -5.37286831e-17\n",
      " -8.73731440e-16  7.53055350e-18 -4.99989808e-17 -4.28915762e-17\n",
      "  7.53663861e-15]\n",
      "[1. 1. 1. 1. 1. 1. 1. 1. 1. 1. 1. 1. 1. 1. 1. 1. 1. 1. 1. 1. 1. 1. 1. 1.\n",
      " 1. 1. 1. 1. 1.]\n"
     ]
    }
   ],
   "source": [
    "scaler = StandardScaler()\n",
    "data_sc = scaler.fit_transform(data)\n",
    "print(np.mean(data_sc, axis=0))\n",
    "print(np.var(data_sc, axis=0))"
   ]
  },
  {
   "cell_type": "markdown",
   "metadata": {},
   "source": [
    "### Preliminary plotting"
   ]
  },
  {
   "cell_type": "code",
   "execution_count": 5,
   "metadata": {},
   "outputs": [
    {
     "name": "stdout",
     "output_type": "stream",
     "text": [
      "[-1.00492934 -1.33088158  0.29850317 -2.37438031  1.17509409 -0.30631119\n",
      " -0.98663954 -2.41948563  0.09549002]\n"
     ]
    },
    {
     "data": {
      "image/png": "[encoded data removed]",
      "text/plain": [
       "<Figure size 432x288 with 1 Axes>"
      ]
     },
     "metadata": {
      "needs_background": "light"
     },
     "output_type": "display_data"
    }
   ],
   "source": [
    "# plot the first two principal components\n",
    "data_fraud = data[np.where(labels == 1)]\n",
    "data_valid = data[np.where(labels == 0)]\n",
    "plt.scatter(data_valid[:, 0], data_valid[:, -1], c='b')\n",
    "plt.scatter(data_fraud[:, 0], data_fraud[:, -1], c='r')\n",
    "print(data_valid[1:10, 0])\n",
    "plt.ylim((0, 10000))\n",
    "plt.legend(['valid', 'fraud'])\n",
    "plt.xlabel('First PCA feature')\n",
    "plt.ylabel('Transaction amount')\n",
    "plt.show()"
   ]
  },
  {
   "cell_type": "markdown",
   "metadata": {},
   "source": [
    "### Setting up cross-validation"
   ]
  },
  {
   "cell_type": "code",
   "execution_count": 6,
   "metadata": {},
   "outputs": [],
   "source": [
    "fraud_indices = np.where(labels == 1)[0]\n",
    "np.random.shuffle(fraud_indices)\n",
    "fraud_splits = np.array_split(fraud_indices, 5)\n",
    "\n",
    "valid_indices = np.where(labels == 0)[0]\n",
    "np.random.shuffle(valid_indices)\n",
    "valid_splits = np.array_split(valid_indices, 5)\n",
    "\n",
    "folds = [np.concatenate((fraud_sp, valid_sp)) for fraud_sp, valid_sp in zip(fraud_splits, valid_splits)]"
   ]
  },
  {
   "cell_type": "markdown",
   "metadata": {},
   "source": [
    "### SVM"
   ]
  },
  {
   "cell_type": "code",
   "execution_count": 7,
   "metadata": {},
   "outputs": [],
   "source": [
    "def train_binary_SVM(data, scale=False, kernel=None, class_weight=None):\n",
    "    confusion_mat = np.zeros((2, 2))\n",
    "    for i in range(5):\n",
    "        if kernel is None:\n",
    "            if class_weight is None:\n",
    "                svm = LinearSVC(fit_intercept=False, dual=False)\n",
    "            else:\n",
    "                svm = LinearSVC(fit_intercept=False, dual=False, class_weight=class_weight)\n",
    "        else:\n",
    "            if class_weight is None:\n",
    "                svm = SVC(kernel=kernel, gamma='auto')\n",
    "            else:\n",
    "                svm = SVC(kernel=kernel, gamma='auto', class_weight=class_weight)\n",
    "        \n",
    "        train_data = np.delete(data, folds[i], axis=0)\n",
    "        test_data = data[folds[i]]\n",
    "        if scale:\n",
    "            scaler = StandardScaler()\n",
    "            train_data = scaler.fit_transform(train_data)\n",
    "            test_data = scaler.transform(test_data)\n",
    "\n",
    "        svm.fit(train_data, np.delete(labels, folds[i]))\n",
    "        pred = svm.predict(test_data)\n",
    "\n",
    "        conf_mat = confusion_matrix(labels[folds[i]], pred)\n",
    "        print('Fold', i)\n",
    "        print(conf_mat)\n",
    "\n",
    "        confusion_mat += conf_mat\n",
    "\n",
    "    confusion_mat /= 5\n",
    "    print('Final Confusion Matrix')\n",
    "    print(confusion_mat)\n",
    "    print('False negatives (valid):', confusion_mat[0, 1] / sum(confusion_mat[0, :]))\n",
    "    print('False positives (fraud):', confusion_mat[1, 0] / sum(confusion_mat[1,:]))\n",
    "    return confusion_mat"
   ]
  },
  {
   "cell_type": "markdown",
   "metadata": {},
   "source": [
    "#### Linear SVM -- Without scaling or class weights"
   ]
  },
  {
   "cell_type": "code",
   "execution_count": 8,
   "metadata": {},
   "outputs": [
    {
     "name": "stdout",
     "output_type": "stream",
     "text": [
      "Fold 0\n",
      "[[2853   14]\n",
      " [  23   76]]\n",
      "Fold 1\n",
      "[[2855   12]\n",
      " [  31   68]]\n",
      "Fold 2\n",
      "[[2859    7]\n",
      " [  21   77]]\n",
      "Fold 3\n",
      "[[2854   12]\n",
      " [  18   80]]\n",
      "Fold 4\n",
      "[[2853   13]\n",
      " [  17   81]]\n",
      "Final Confusion Matrix\n",
      "[[2854.8   11.6]\n",
      " [  22.    76.4]]\n",
      "False negatives (valid): 0.004046888082612336\n",
      "False positives (fraud): 0.22357723577235772\n"
     ]
    }
   ],
   "source": [
    "train_binary_SVM(data);"
   ]
  },
  {
   "cell_type": "markdown",
   "metadata": {},
   "source": [
    "#### Linear SVM with Scaling"
   ]
  },
  {
   "cell_type": "code",
   "execution_count": 9,
   "metadata": {},
   "outputs": [
    {
     "name": "stdout",
     "output_type": "stream",
     "text": [
      "Fold 0\n",
      "[[2864    3]\n",
      " [  18   81]]\n",
      "Fold 1\n",
      "[[2865    2]\n",
      " [  24   75]]\n",
      "Fold 2\n",
      "[[2865    1]\n",
      " [  18   80]]\n",
      "Fold 3\n",
      "[[2863    3]\n",
      " [  18   80]]\n",
      "Fold 4\n",
      "[[2861    5]\n",
      " [  13   85]]\n",
      "Final Confusion Matrix\n",
      "[[2.8636e+03 2.8000e+00]\n",
      " [1.8200e+01 8.0200e+01]]\n",
      "False negatives (valid): 0.0009768350544236673\n",
      "False positives (fraud): 0.18495934959349591\n"
     ]
    }
   ],
   "source": [
    "train_binary_SVM(data, scale=True);"
   ]
  },
  {
   "cell_type": "markdown",
   "metadata": {},
   "source": [
    "#### Linear SVM with Scaling and Class Weights"
   ]
  },
  {
   "cell_type": "code",
   "execution_count": 10,
   "metadata": {},
   "outputs": [
    {
     "name": "stdout",
     "output_type": "stream",
     "text": [
      "Fold 0\n",
      "[[2778   89]\n",
      " [   5   94]]\n",
      "Fold 1\n",
      "[[2786   81]\n",
      " [  12   87]]\n",
      "Fold 2\n",
      "[[2758  108]\n",
      " [  12   86]]\n",
      "Fold 3\n",
      "[[2787   79]\n",
      " [   6   92]]\n",
      "Fold 4\n",
      "[[2745  121]\n",
      " [   7   91]]\n",
      "Final Confusion Matrix\n",
      "[[2770.8   95.6]\n",
      " [   8.4   90. ]]\n",
      "False negatives (valid): 0.033351939715322354\n",
      "False positives (fraud): 0.08536585365853658\n"
     ]
    }
   ],
   "source": [
    "train_binary_SVM(data, scale=True, class_weight='balanced');"
   ]
  },
  {
   "cell_type": "markdown",
   "metadata": {},
   "source": [
    "### Kernel SVM"
   ]
  },
  {
   "cell_type": "markdown",
   "metadata": {},
   "source": [
    "#### RBF Kernel with Scaling and Class Weights"
   ]
  },
  {
   "cell_type": "code",
   "execution_count": 11,
   "metadata": {},
   "outputs": [
    {
     "name": "stdout",
     "output_type": "stream",
     "text": [
      "Fold 0\n",
      "[[2866    1]\n",
      " [  22   77]]\n",
      "Fold 1\n",
      "[[2866    1]\n",
      " [  29   70]]\n",
      "Fold 2\n",
      "[[2866    0]\n",
      " [  25   73]]\n",
      "Fold 3\n",
      "[[2865    1]\n",
      " [  19   79]]\n",
      "Fold 4\n",
      "[[2865    1]\n",
      " [  18   80]]\n",
      "Final Confusion Matrix\n",
      "[[2.8656e+03 8.0000e-01]\n",
      " [2.2600e+01 7.5800e+01]]\n",
      "False negatives (valid): 0.00027909572983533354\n",
      "False positives (fraud): 0.22967479674796748\n"
     ]
    }
   ],
   "source": [
    "train_binary_SVM(data, scale=True, kernel='rbf');"
   ]
  },
  {
   "cell_type": "code",
   "execution_count": 12,
   "metadata": {},
   "outputs": [
    {
     "name": "stdout",
     "output_type": "stream",
     "text": [
      "Fold 0\n",
      "[[2852   15]\n",
      " [  46   53]]\n",
      "Fold 1\n",
      "[[2859    8]\n",
      " [  44   55]]\n",
      "Fold 2\n",
      "[[2858    8]\n",
      " [  59   39]]\n",
      "Fold 3\n",
      "[[2855   11]\n",
      " [  43   55]]\n",
      "Fold 4\n",
      "[[2852   14]\n",
      " [  43   55]]\n",
      "Final Confusion Matrix\n",
      "[[2855.2   11.2]\n",
      " [  47.    51.4]]\n",
      "False negatives (valid): 0.003907340217694669\n",
      "False positives (fraud): 0.4776422764227642\n"
     ]
    }
   ],
   "source": [
    "train_binary_SVM(data, kernel='rbf', class_weight='balanced');"
   ]
  },
  {
   "cell_type": "markdown",
   "metadata": {},
   "source": [
    "#### Polynomial Kernel with Scaling and Class Weights"
   ]
  },
  {
   "cell_type": "code",
   "execution_count": 13,
   "metadata": {},
   "outputs": [
    {
     "name": "stdout",
     "output_type": "stream",
     "text": [
      "Fold 0\n",
      "[[2865    2]\n",
      " [  17   82]]\n",
      "Fold 1\n",
      "[[2866    1]\n",
      " [  25   74]]\n",
      "Fold 2\n",
      "[[2864    2]\n",
      " [  19   79]]\n",
      "Fold 3\n",
      "[[2864    2]\n",
      " [  18   80]]\n",
      "Fold 4\n",
      "[[2858    8]\n",
      " [  14   84]]\n",
      "Final Confusion Matrix\n",
      "[[2863.4    3. ]\n",
      " [  18.6   79.8]]\n",
      "False negatives (valid): 0.0010466089868825007\n",
      "False positives (fraud): 0.18902439024390244\n"
     ]
    }
   ],
   "source": [
    "train_binary_SVM(data, scale=True, kernel='poly');"
   ]
  },
  {
   "cell_type": "code",
   "execution_count": 14,
   "metadata": {},
   "outputs": [
    {
     "name": "stdout",
     "output_type": "stream",
     "text": [
      "Fold 0\n",
      "[[2843   24]\n",
      " [  11   88]]\n",
      "Fold 1\n",
      "[[2859    8]\n",
      " [  17   82]]\n",
      "Fold 2\n",
      "[[2843   23]\n",
      " [  18   80]]\n",
      "Fold 3\n",
      "[[2845   21]\n",
      " [  13   85]]\n",
      "Fold 4\n",
      "[[2848   18]\n",
      " [  14   84]]\n",
      "Final Confusion Matrix\n",
      "[[2847.6   18.8]\n",
      " [  14.6   83.8]]\n",
      "False negatives (valid): 0.006558749651130338\n",
      "False positives (fraud): 0.1483739837398374\n"
     ]
    }
   ],
   "source": [
    "train_binary_SVM(data, scale=True, kernel='poly', class_weight='balanced');"
   ]
  },
  {
   "cell_type": "markdown",
   "metadata": {},
   "source": [
    "### Logistic Regression"
   ]
  },
  {
   "cell_type": "code",
   "execution_count": 15,
   "metadata": {},
   "outputs": [],
   "source": [
    "def train_logistic_regression(data, class_weight = None, C=1.0):\n",
    "    err = 0\n",
    "    err_valid = 0\n",
    "    err_fraud = 0\n",
    "    confusion_mat = np.zeros((2, 2))\n",
    "    AU = 0\n",
    "    for i in range(5):\n",
    "        model = LogisticRegression(class_weight=class_weight, C=C)\n",
    "        \n",
    "        model.fit(np.delete(data, folds[i], axis=0), np.delete(labels, folds[i]))\n",
    "        pred = model.predict(data[folds[i]])\n",
    "        pred1 = model.predict_proba(data[folds[i]])[:,1]\n",
    "        #err_fold = np.sum((pred - labels[folds[i]])**2) / len(folds[i])\n",
    "        #pred_valid = model.predict(data[valid_splits[i]])\n",
    "        #err_valid_fold = np.sum((pred_valid - labels[valid_splits[i]])**2) / len(valid_splits[i])\n",
    "        #pred_fraud = model.predict(data[fraud_splits[i]])\n",
    "        #err_fraud_fold = np.sum((pred_fraud - labels[fraud_splits[i]])**2) / len(fraud_splits[i])\n",
    "        #print('Fold', i, 'Error:', err_fold, 'Valid Error:', err_valid_fold, 'Fraud Error', err_fraud_fold)\n",
    "        #err += err_fold\n",
    "        #err_valid += err_valid_fold\n",
    "        #err_fraud += err_fraud_fold\n",
    "        conf_mat = confusion_matrix(labels[folds[i]], pred)\n",
    "        fpr, tpr, thresholds = roc_curve(labels[folds[i]], pred1)\n",
    "        area_under_curve = auc(fpr, tpr)\n",
    "        AU += area_under_curve\n",
    "        print('Fold', i)\n",
    "        print(conf_mat)\n",
    "        print('Area under curve:', area_under_curve)\n",
    "\n",
    "        confusion_mat += conf_mat\n",
    "    AU/=5\n",
    "    confusion_mat /= 5\n",
    "    print('Final Confusion Matrix')\n",
    "    print(confusion_mat)\n",
    "    return confusion_mat, AU\n",
    "    #err /= 5\n",
    "    #err_valid /= 5\n",
    "    #err_fraud /= 5\n",
    "    #print('FINAL Error:', err, 'Valid Error:', err_valid, 'Fraud Error', err_fraud)\n",
    "    #return err, err_valid, err_fraud"
   ]
  },
  {
   "cell_type": "markdown",
   "metadata": {},
   "source": [
    "#### Logistic Regression with Scaling, Class Weights, and Regularization"
   ]
  },
  {
   "cell_type": "code",
   "execution_count": 16,
   "metadata": {},
   "outputs": [
    {
     "name": "stdout",
     "output_type": "stream",
     "text": [
      "Checking class weight None and coefficient 0.01\n",
      "Fold 0\n",
      "[[2865    2]\n",
      " [  18   81]]\n",
      "Area under curve: 0.9847163649047153\n",
      "Fold 1\n",
      "[[2866    1]\n",
      " [  24   75]]\n",
      "Area under curve: 0.9787621594388249\n",
      "Fold 2\n",
      "[[2866    0]\n",
      " [  18   80]]\n",
      "Area under curve: 0.978534400501303\n",
      "Fold 3\n",
      "[[2863    3]\n",
      " [  17   81]]\n",
      "Area under curve: 0.9787052992864975\n"
     ]
    },
    {
     "name": "stderr",
     "output_type": "stream",
     "text": [
      "/home/rupesh/.virtualenvs/dana3/lib/python3.6/site-packages/sklearn/linear_model/logistic.py:432: FutureWarning: Default solver will be changed to 'lbfgs' in 0.22. Specify a solver to silence this warning.\n",
      "  FutureWarning)\n",
      "/home/rupesh/.virtualenvs/dana3/lib/python3.6/site-packages/sklearn/linear_model/logistic.py:432: FutureWarning: Default solver will be changed to 'lbfgs' in 0.22. Specify a solver to silence this warning.\n",
      "  FutureWarning)\n",
      "/home/rupesh/.virtualenvs/dana3/lib/python3.6/site-packages/sklearn/linear_model/logistic.py:432: FutureWarning: Default solver will be changed to 'lbfgs' in 0.22. Specify a solver to silence this warning.\n",
      "  FutureWarning)\n",
      "/home/rupesh/.virtualenvs/dana3/lib/python3.6/site-packages/sklearn/linear_model/logistic.py:432: FutureWarning: Default solver will be changed to 'lbfgs' in 0.22. Specify a solver to silence this warning.\n",
      "  FutureWarning)\n"
     ]
    },
    {
     "name": "stdout",
     "output_type": "stream",
     "text": [
      "Fold 4\n",
      "[[2865    1]\n",
      " [  13   85]]\n",
      "Area under curve: 0.9818704872039534\n",
      "Final Confusion Matrix\n",
      "[[2.865e+03 1.400e+00]\n",
      " [1.800e+01 8.040e+01]]\n",
      "F1 score: 0.8923418423973364\n",
      "Recall: 0.8170731707317074\n",
      "Precision: 0.9828850855745721\n",
      "AUC: 0.9805177422670589\n",
      "Checking class weight None and coefficient 0.016681005372000592\n",
      "Fold 0\n",
      "[[2865    2]\n",
      " [  18   81]]\n",
      "Area under curve: 0.9850017439832579\n",
      "Fold 1\n",
      "[[2866    1]\n",
      " [  24   75]]\n",
      "Area under curve: 0.9790087833338619\n",
      "Fold 2\n",
      "[[2866    0]\n",
      " [  18   80]]\n",
      "Area under curve: 0.9786483330247661\n"
     ]
    },
    {
     "name": "stderr",
     "output_type": "stream",
     "text": [
      "/home/rupesh/.virtualenvs/dana3/lib/python3.6/site-packages/sklearn/linear_model/logistic.py:432: FutureWarning: Default solver will be changed to 'lbfgs' in 0.22. Specify a solver to silence this warning.\n",
      "  FutureWarning)\n",
      "/home/rupesh/.virtualenvs/dana3/lib/python3.6/site-packages/sklearn/linear_model/logistic.py:432: FutureWarning: Default solver will be changed to 'lbfgs' in 0.22. Specify a solver to silence this warning.\n",
      "  FutureWarning)\n",
      "/home/rupesh/.virtualenvs/dana3/lib/python3.6/site-packages/sklearn/linear_model/logistic.py:432: FutureWarning: Default solver will be changed to 'lbfgs' in 0.22. Specify a solver to silence this warning.\n",
      "  FutureWarning)\n",
      "/home/rupesh/.virtualenvs/dana3/lib/python3.6/site-packages/sklearn/linear_model/logistic.py:432: FutureWarning: Default solver will be changed to 'lbfgs' in 0.22. Specify a solver to silence this warning.\n",
      "  FutureWarning)\n",
      "/home/rupesh/.virtualenvs/dana3/lib/python3.6/site-packages/sklearn/linear_model/logistic.py:432: FutureWarning: Default solver will be changed to 'lbfgs' in 0.22. Specify a solver to silence this warning.\n",
      "  FutureWarning)\n"
     ]
    },
    {
     "name": "stdout",
     "output_type": "stream",
     "text": [
      "Fold 3\n",
      "[[2863    3]\n",
      " [  16   82]]\n",
      "Area under curve: 0.9800902915248443\n",
      "Fold 4\n",
      "[[2865    1]\n",
      " [  13   85]]\n",
      "Area under curve: 0.9824543913867011\n",
      "Final Confusion Matrix\n",
      "[[2.865e+03 1.400e+00]\n",
      " [1.780e+01 8.060e+01]]\n",
      "F1 score: 0.893569844789357\n",
      "Recall: 0.8191056910569106\n",
      "Precision: 0.9829268292682927\n",
      "AUC: 0.9810407086506864\n",
      "Checking class weight None and coefficient 0.027825594022071243\n",
      "Fold 0\n",
      "[[2865    2]\n",
      " [  17   82]]\n",
      "Area under curve: 0.9851180095337752\n",
      "Fold 1\n",
      "[[2866    1]\n",
      " [  24   75]]\n",
      "Area under curve: 0.9790616313113697\n",
      "Fold 2\n",
      "[[2866    0]\n",
      " [  18   80]]\n",
      "Area under curve: 0.9782424484099291\n"
     ]
    },
    {
     "name": "stderr",
     "output_type": "stream",
     "text": [
      "/home/rupesh/.virtualenvs/dana3/lib/python3.6/site-packages/sklearn/linear_model/logistic.py:432: FutureWarning: Default solver will be changed to 'lbfgs' in 0.22. Specify a solver to silence this warning.\n",
      "  FutureWarning)\n",
      "/home/rupesh/.virtualenvs/dana3/lib/python3.6/site-packages/sklearn/linear_model/logistic.py:432: FutureWarning: Default solver will be changed to 'lbfgs' in 0.22. Specify a solver to silence this warning.\n",
      "  FutureWarning)\n",
      "/home/rupesh/.virtualenvs/dana3/lib/python3.6/site-packages/sklearn/linear_model/logistic.py:432: FutureWarning: Default solver will be changed to 'lbfgs' in 0.22. Specify a solver to silence this warning.\n",
      "  FutureWarning)\n",
      "/home/rupesh/.virtualenvs/dana3/lib/python3.6/site-packages/sklearn/linear_model/logistic.py:432: FutureWarning: Default solver will be changed to 'lbfgs' in 0.22. Specify a solver to silence this warning.\n",
      "  FutureWarning)\n",
      "/home/rupesh/.virtualenvs/dana3/lib/python3.6/site-packages/sklearn/linear_model/logistic.py:432: FutureWarning: Default solver will be changed to 'lbfgs' in 0.22. Specify a solver to silence this warning.\n",
      "  FutureWarning)\n"
     ]
    },
    {
     "name": "stdout",
     "output_type": "stream",
     "text": [
      "Fold 3\n",
      "[[2863    3]\n",
      " [  16   82]]\n",
      "Area under curve: 0.981407636327385\n",
      "Fold 4\n",
      "[[2865    1]\n",
      " [  13   85]]\n",
      "Area under curve: 0.9831273053534044\n",
      "Final Confusion Matrix\n",
      "[[2.865e+03 1.400e+00]\n",
      " [1.760e+01 8.080e+01]]\n",
      "F1 score: 0.8947951273532667\n",
      "Recall: 0.8211382113821137\n",
      "Precision: 0.9829683698296836\n",
      "AUC: 0.9813914061871728\n",
      "Checking class weight None and coefficient 0.046415888336127774\n",
      "Fold 0\n",
      "[[2865    2]\n",
      " [  16   83]]\n",
      "Area under curve: 0.9850616383577668\n",
      "Fold 1\n",
      "[[2866    1]\n",
      " [  24   75]]\n",
      "Area under curve: 0.978970028150356\n",
      "Fold 2\n",
      "[[2866    0]\n",
      " [  18   80]]\n",
      "Area under curve: 0.9774662830938377\n"
     ]
    },
    {
     "name": "stderr",
     "output_type": "stream",
     "text": [
      "/home/rupesh/.virtualenvs/dana3/lib/python3.6/site-packages/sklearn/linear_model/logistic.py:432: FutureWarning: Default solver will be changed to 'lbfgs' in 0.22. Specify a solver to silence this warning.\n",
      "  FutureWarning)\n",
      "/home/rupesh/.virtualenvs/dana3/lib/python3.6/site-packages/sklearn/linear_model/logistic.py:432: FutureWarning: Default solver will be changed to 'lbfgs' in 0.22. Specify a solver to silence this warning.\n",
      "  FutureWarning)\n",
      "/home/rupesh/.virtualenvs/dana3/lib/python3.6/site-packages/sklearn/linear_model/logistic.py:432: FutureWarning: Default solver will be changed to 'lbfgs' in 0.22. Specify a solver to silence this warning.\n",
      "  FutureWarning)\n",
      "/home/rupesh/.virtualenvs/dana3/lib/python3.6/site-packages/sklearn/linear_model/logistic.py:432: FutureWarning: Default solver will be changed to 'lbfgs' in 0.22. Specify a solver to silence this warning.\n",
      "  FutureWarning)\n",
      "/home/rupesh/.virtualenvs/dana3/lib/python3.6/site-packages/sklearn/linear_model/logistic.py:432: FutureWarning: Default solver will be changed to 'lbfgs' in 0.22. Specify a solver to silence this warning.\n",
      "  FutureWarning)\n"
     ]
    },
    {
     "name": "stdout",
     "output_type": "stream",
     "text": [
      "Fold 3\n",
      "[[2863    3]\n",
      " [  15   83]]\n",
      "Area under curve: 0.982468632952134\n",
      "Fold 4\n",
      "[[2865    1]\n",
      " [  13   85]]\n",
      "Area under curve: 0.9840280843670335\n",
      "Final Confusion Matrix\n",
      "[[2.865e+03 1.400e+00]\n",
      " [1.720e+01 8.120e+01]]\n",
      "F1 score: 0.8972375690607735\n",
      "Recall: 0.8252032520325203\n",
      "Precision: 0.983050847457627\n",
      "AUC: 0.9815989333842257\n",
      "Checking class weight None and coefficient 0.0774263682681127\n",
      "Fold 0\n",
      "[[2865    2]\n",
      " [  17   82]]\n",
      "Area under curve: 0.985036975968263\n",
      "Fold 1\n",
      "[[2866    1]\n",
      " [  24   75]]\n",
      "Area under curve: 0.9786952186673149\n",
      "Fold 2\n",
      "[[2865    1]\n",
      " [  18   80]]\n",
      "Area under curve: 0.9761881025962375\n"
     ]
    },
    {
     "name": "stderr",
     "output_type": "stream",
     "text": [
      "/home/rupesh/.virtualenvs/dana3/lib/python3.6/site-packages/sklearn/linear_model/logistic.py:432: FutureWarning: Default solver will be changed to 'lbfgs' in 0.22. Specify a solver to silence this warning.\n",
      "  FutureWarning)\n",
      "/home/rupesh/.virtualenvs/dana3/lib/python3.6/site-packages/sklearn/linear_model/logistic.py:432: FutureWarning: Default solver will be changed to 'lbfgs' in 0.22. Specify a solver to silence this warning.\n",
      "  FutureWarning)\n",
      "/home/rupesh/.virtualenvs/dana3/lib/python3.6/site-packages/sklearn/linear_model/logistic.py:432: FutureWarning: Default solver will be changed to 'lbfgs' in 0.22. Specify a solver to silence this warning.\n",
      "  FutureWarning)\n",
      "/home/rupesh/.virtualenvs/dana3/lib/python3.6/site-packages/sklearn/linear_model/logistic.py:432: FutureWarning: Default solver will be changed to 'lbfgs' in 0.22. Specify a solver to silence this warning.\n",
      "  FutureWarning)\n",
      "/home/rupesh/.virtualenvs/dana3/lib/python3.6/site-packages/sklearn/linear_model/logistic.py:432: FutureWarning: Default solver will be changed to 'lbfgs' in 0.22. Specify a solver to silence this warning.\n",
      "  FutureWarning)\n"
     ]
    },
    {
     "name": "stdout",
     "output_type": "stream",
     "text": [
      "Fold 3\n",
      "[[2863    3]\n",
      " [  15   83]]\n",
      "Area under curve: 0.9834228178361366\n",
      "Fold 4\n",
      "[[2864    2]\n",
      " [  13   85]]\n",
      "Area under curve: 0.9847900081176922\n",
      "Final Confusion Matrix\n",
      "[[2.8646e+03 1.8000e+00]\n",
      " [1.7400e+01 8.1000e+01]]\n",
      "F1 score: 0.8940397350993378\n",
      "Recall: 0.823170731707317\n",
      "Precision: 0.9782608695652174\n",
      "AUC: 0.9816266246371288\n",
      "Checking class weight None and coefficient 0.1291549665014884\n",
      "Fold 0\n",
      "[[2865    2]\n",
      " [  17   82]]\n",
      "Area under curve: 0.9849488960057499\n"
     ]
    },
    {
     "name": "stderr",
     "output_type": "stream",
     "text": [
      "/home/rupesh/.virtualenvs/dana3/lib/python3.6/site-packages/sklearn/linear_model/logistic.py:432: FutureWarning: Default solver will be changed to 'lbfgs' in 0.22. Specify a solver to silence this warning.\n",
      "  FutureWarning)\n",
      "/home/rupesh/.virtualenvs/dana3/lib/python3.6/site-packages/sklearn/linear_model/logistic.py:432: FutureWarning: Default solver will be changed to 'lbfgs' in 0.22. Specify a solver to silence this warning.\n",
      "  FutureWarning)\n",
      "/home/rupesh/.virtualenvs/dana3/lib/python3.6/site-packages/sklearn/linear_model/logistic.py:432: FutureWarning: Default solver will be changed to 'lbfgs' in 0.22. Specify a solver to silence this warning.\n",
      "  FutureWarning)\n"
     ]
    },
    {
     "name": "stdout",
     "output_type": "stream",
     "text": [
      "Fold 1\n",
      "[[2866    1]\n",
      " [  24   75]]\n",
      "Area under curve: 0.977645305514158\n",
      "Fold 2\n",
      "[[2865    1]\n",
      " [  18   80]]\n",
      "Area under curve: 0.9748031103578906\n",
      "Fold 3\n",
      "[[2863    3]\n",
      " [  14   84]]\n",
      "Area under curve: 0.9842595098053177\n",
      "Fold 4\n",
      "[[2863    3]\n",
      " [  13   85]]\n",
      "Area under curve: 0.9854095162140223\n",
      "Final Confusion Matrix\n",
      "[[2.8644e+03 2.0000e+00]\n",
      " [1.7200e+01 8.1200e+01]]\n",
      "F1 score: 0.894273127753304\n",
      "Recall: 0.8252032520325203\n",
      "Precision: 0.9759615384615384\n",
      "AUC: 0.9814132675794276\n",
      "Checking class weight None and coefficient 0.21544346900318834\n"
     ]
    },
    {
     "name": "stderr",
     "output_type": "stream",
     "text": [
      "/home/rupesh/.virtualenvs/dana3/lib/python3.6/site-packages/sklearn/linear_model/logistic.py:432: FutureWarning: Default solver will be changed to 'lbfgs' in 0.22. Specify a solver to silence this warning.\n",
      "  FutureWarning)\n",
      "/home/rupesh/.virtualenvs/dana3/lib/python3.6/site-packages/sklearn/linear_model/logistic.py:432: FutureWarning: Default solver will be changed to 'lbfgs' in 0.22. Specify a solver to silence this warning.\n",
      "  FutureWarning)\n",
      "/home/rupesh/.virtualenvs/dana3/lib/python3.6/site-packages/sklearn/linear_model/logistic.py:432: FutureWarning: Default solver will be changed to 'lbfgs' in 0.22. Specify a solver to silence this warning.\n",
      "  FutureWarning)\n",
      "/home/rupesh/.virtualenvs/dana3/lib/python3.6/site-packages/sklearn/linear_model/logistic.py:432: FutureWarning: Default solver will be changed to 'lbfgs' in 0.22. Specify a solver to silence this warning.\n",
      "  FutureWarning)\n"
     ]
    },
    {
     "name": "stdout",
     "output_type": "stream",
     "text": [
      "Fold 0\n",
      "[[2865    2]\n",
      " [  17   82]]\n",
      "Area under curve: 0.9847234113017161\n",
      "Fold 1\n",
      "[[2866    1]\n",
      " [  24   75]]\n",
      "Area under curve: 0.9764967428029863\n",
      "Fold 2\n",
      "[[2864    2]\n",
      " [  17   81]]\n",
      "Area under curve: 0.9731760115071848\n"
     ]
    },
    {
     "name": "stderr",
     "output_type": "stream",
     "text": [
      "/home/rupesh/.virtualenvs/dana3/lib/python3.6/site-packages/sklearn/linear_model/logistic.py:432: FutureWarning: Default solver will be changed to 'lbfgs' in 0.22. Specify a solver to silence this warning.\n",
      "  FutureWarning)\n",
      "/home/rupesh/.virtualenvs/dana3/lib/python3.6/site-packages/sklearn/linear_model/logistic.py:432: FutureWarning: Default solver will be changed to 'lbfgs' in 0.22. Specify a solver to silence this warning.\n",
      "  FutureWarning)\n",
      "/home/rupesh/.virtualenvs/dana3/lib/python3.6/site-packages/sklearn/linear_model/logistic.py:432: FutureWarning: Default solver will be changed to 'lbfgs' in 0.22. Specify a solver to silence this warning.\n",
      "  FutureWarning)\n"
     ]
    },
    {
     "name": "stdout",
     "output_type": "stream",
     "text": [
      "Fold 3\n",
      "[[2862    4]\n",
      " [  14   84]]\n",
      "Area under curve: 0.9845265391571841\n",
      "Fold 4\n",
      "[[2863    3]\n",
      " [  13   85]]\n",
      "Area under curve: 0.9858972898300982\n",
      "Final Confusion Matrix\n",
      "[[2.864e+03 2.400e+00]\n",
      " [1.700e+01 8.140e+01]]\n",
      "F1 score: 0.8935236004390779\n",
      "Recall: 0.8272357723577236\n",
      "Precision: 0.9713603818615751\n",
      "AUC: 0.9809639989198338\n",
      "Checking class weight None and coefficient 0.3593813663804626\n",
      "Fold 0\n",
      "[[2865    2]\n",
      " [  17   82]]\n",
      "Area under curve: 0.9844697410096782\n"
     ]
    },
    {
     "name": "stderr",
     "output_type": "stream",
     "text": [
      "/home/rupesh/.virtualenvs/dana3/lib/python3.6/site-packages/sklearn/linear_model/logistic.py:432: FutureWarning: Default solver will be changed to 'lbfgs' in 0.22. Specify a solver to silence this warning.\n",
      "  FutureWarning)\n",
      "/home/rupesh/.virtualenvs/dana3/lib/python3.6/site-packages/sklearn/linear_model/logistic.py:432: FutureWarning: Default solver will be changed to 'lbfgs' in 0.22. Specify a solver to silence this warning.\n",
      "  FutureWarning)\n",
      "/home/rupesh/.virtualenvs/dana3/lib/python3.6/site-packages/sklearn/linear_model/logistic.py:432: FutureWarning: Default solver will be changed to 'lbfgs' in 0.22. Specify a solver to silence this warning.\n",
      "  FutureWarning)\n"
     ]
    },
    {
     "name": "stdout",
     "output_type": "stream",
     "text": [
      "Fold 1\n",
      "[[2866    1]\n",
      " [  24   75]]\n",
      "Area under curve: 0.9753657960843171\n",
      "Fold 2\n",
      "[[2864    2]\n",
      " [  17   81]]\n",
      "Area under curve: 0.9717732173120469\n",
      "Fold 3\n",
      "[[2861    5]\n",
      " [  14   84]]\n",
      "Area under curve: 0.9844980560263185\n"
     ]
    },
    {
     "name": "stderr",
     "output_type": "stream",
     "text": [
      "/home/rupesh/.virtualenvs/dana3/lib/python3.6/site-packages/sklearn/linear_model/logistic.py:432: FutureWarning: Default solver will be changed to 'lbfgs' in 0.22. Specify a solver to silence this warning.\n",
      "  FutureWarning)\n",
      "/home/rupesh/.virtualenvs/dana3/lib/python3.6/site-packages/sklearn/linear_model/logistic.py:432: FutureWarning: Default solver will be changed to 'lbfgs' in 0.22. Specify a solver to silence this warning.\n",
      "  FutureWarning)\n",
      "/home/rupesh/.virtualenvs/dana3/lib/python3.6/site-packages/sklearn/linear_model/logistic.py:432: FutureWarning: Default solver will be changed to 'lbfgs' in 0.22. Specify a solver to silence this warning.\n",
      "  FutureWarning)\n"
     ]
    },
    {
     "name": "stdout",
     "output_type": "stream",
     "text": [
      "Fold 4\n",
      "[[2862    4]\n",
      " [  13   85]]\n",
      "Area under curve: 0.9862497685745617\n",
      "Final Confusion Matrix\n",
      "[[2.8636e+03 2.8000e+00]\n",
      " [1.7000e+01 8.1400e+01]]\n",
      "F1 score: 0.8915662650602411\n",
      "Recall: 0.8272357723577236\n",
      "Precision: 0.9667458432304038\n",
      "AUC: 0.9804713158013845\n",
      "Checking class weight None and coefficient 0.5994842503189409\n",
      "Fold 0\n",
      "[[2865    2]\n",
      " [  17   82]]\n",
      "Area under curve: 0.984113897961125\n",
      "Fold 1\n",
      "[[2866    1]\n",
      " [  24   75]]\n",
      "Area under curve: 0.9742841741446555\n"
     ]
    },
    {
     "name": "stderr",
     "output_type": "stream",
     "text": [
      "/home/rupesh/.virtualenvs/dana3/lib/python3.6/site-packages/sklearn/linear_model/logistic.py:432: FutureWarning: Default solver will be changed to 'lbfgs' in 0.22. Specify a solver to silence this warning.\n",
      "  FutureWarning)\n",
      "/home/rupesh/.virtualenvs/dana3/lib/python3.6/site-packages/sklearn/linear_model/logistic.py:432: FutureWarning: Default solver will be changed to 'lbfgs' in 0.22. Specify a solver to silence this warning.\n",
      "  FutureWarning)\n",
      "/home/rupesh/.virtualenvs/dana3/lib/python3.6/site-packages/sklearn/linear_model/logistic.py:432: FutureWarning: Default solver will be changed to 'lbfgs' in 0.22. Specify a solver to silence this warning.\n",
      "  FutureWarning)\n"
     ]
    },
    {
     "name": "stdout",
     "output_type": "stream",
     "text": [
      "Fold 2\n",
      "[[2864    2]\n",
      " [  17   81]]\n",
      "Area under curve: 0.9706267712947008\n",
      "Fold 3\n",
      "[[2861    5]\n",
      " [  13   85]]\n",
      "Area under curve: 0.9844054858510046\n",
      "Fold 4\n",
      "[[2862    4]\n",
      " [  13   85]]\n",
      "Area under curve: 0.9865381602745773\n",
      "Final Confusion Matrix\n",
      "[[2.8636e+03 2.8000e+00]\n",
      " [1.6800e+01 8.1600e+01]]\n",
      "F1 score: 0.8927789934354485\n",
      "Recall: 0.8292682926829268\n",
      "Precision: 0.966824644549763\n",
      "AUC: 0.9799936979052125\n",
      "Checking class weight None and coefficient 1.0\n"
     ]
    },
    {
     "name": "stderr",
     "output_type": "stream",
     "text": [
      "/home/rupesh/.virtualenvs/dana3/lib/python3.6/site-packages/sklearn/linear_model/logistic.py:432: FutureWarning: Default solver will be changed to 'lbfgs' in 0.22. Specify a solver to silence this warning.\n",
      "  FutureWarning)\n",
      "/home/rupesh/.virtualenvs/dana3/lib/python3.6/site-packages/sklearn/linear_model/logistic.py:432: FutureWarning: Default solver will be changed to 'lbfgs' in 0.22. Specify a solver to silence this warning.\n",
      "  FutureWarning)\n",
      "/home/rupesh/.virtualenvs/dana3/lib/python3.6/site-packages/sklearn/linear_model/logistic.py:432: FutureWarning: Default solver will be changed to 'lbfgs' in 0.22. Specify a solver to silence this warning.\n",
      "  FutureWarning)\n"
     ]
    },
    {
     "name": "stdout",
     "output_type": "stream",
     "text": [
      "Fold 0\n",
      "[[2865    2]\n",
      " [  17   82]]\n",
      "Area under curve: 0.9837968100960776\n",
      "Fold 1\n",
      "[[2866    1]\n",
      " [  24   75]]\n",
      "Area under curve: 0.973304724961509\n",
      "Fold 2\n",
      "[[2864    2]\n",
      " [  17   81]]\n",
      "Area under curve: 0.9698185624563852\n"
     ]
    },
    {
     "name": "stderr",
     "output_type": "stream",
     "text": [
      "/home/rupesh/.virtualenvs/dana3/lib/python3.6/site-packages/sklearn/linear_model/logistic.py:432: FutureWarning: Default solver will be changed to 'lbfgs' in 0.22. Specify a solver to silence this warning.\n",
      "  FutureWarning)\n",
      "/home/rupesh/.virtualenvs/dana3/lib/python3.6/site-packages/sklearn/linear_model/logistic.py:432: FutureWarning: Default solver will be changed to 'lbfgs' in 0.22. Specify a solver to silence this warning.\n",
      "  FutureWarning)\n",
      "/home/rupesh/.virtualenvs/dana3/lib/python3.6/site-packages/sklearn/linear_model/logistic.py:432: FutureWarning: Default solver will be changed to 'lbfgs' in 0.22. Specify a solver to silence this warning.\n",
      "  FutureWarning)\n"
     ]
    },
    {
     "name": "stdout",
     "output_type": "stream",
     "text": [
      "Fold 3\n",
      "[[2861    5]\n",
      " [  13   85]]\n",
      "Area under curve: 0.9843413988065568\n",
      "Fold 4\n",
      "[[2862    4]\n",
      " [  13   85]]\n",
      "Area under curve: 0.9867980688437273\n",
      "Final Confusion Matrix\n",
      "[[2.8636e+03 2.8000e+00]\n",
      " [1.6800e+01 8.1600e+01]]\n",
      "F1 score: 0.8927789934354485\n",
      "Recall: 0.8292682926829268\n",
      "Precision: 0.966824644549763\n",
      "AUC: 0.9796119130328511\n",
      "Checking class weight balanced and coefficient 0.01\n",
      "Fold 0\n",
      "[[2798   69]\n",
      " [   6   93]]\n",
      "Area under curve: 0.9839624004256023\n"
     ]
    },
    {
     "name": "stderr",
     "output_type": "stream",
     "text": [
      "/home/rupesh/.virtualenvs/dana3/lib/python3.6/site-packages/sklearn/linear_model/logistic.py:432: FutureWarning: Default solver will be changed to 'lbfgs' in 0.22. Specify a solver to silence this warning.\n",
      "  FutureWarning)\n",
      "/home/rupesh/.virtualenvs/dana3/lib/python3.6/site-packages/sklearn/linear_model/logistic.py:432: FutureWarning: Default solver will be changed to 'lbfgs' in 0.22. Specify a solver to silence this warning.\n",
      "  FutureWarning)\n",
      "/home/rupesh/.virtualenvs/dana3/lib/python3.6/site-packages/sklearn/linear_model/logistic.py:432: FutureWarning: Default solver will be changed to 'lbfgs' in 0.22. Specify a solver to silence this warning.\n",
      "  FutureWarning)\n"
     ]
    },
    {
     "name": "stdout",
     "output_type": "stream",
     "text": [
      "Fold 1\n",
      "[[2827   40]\n",
      " [  14   85]]\n",
      "Area under curve: 0.9769089570275479\n",
      "Fold 2\n",
      "[[2809   57]\n",
      " [  15   83]]\n",
      "Area under curve: 0.9668207129327656\n",
      "Fold 3\n",
      "[[2817   49]\n",
      " [   7   91]]\n",
      "Area under curve: 0.983088141048464\n",
      "Fold 4\n",
      "[[2795   71]\n",
      " [   9   89]]\n",
      "Area under curve: 0.9867268610165629\n",
      "Final Confusion Matrix\n",
      "[[2809.2   57.2]\n",
      " [  10.2   88.2]]\n",
      "F1 score: 0.7235438884331419\n",
      "Recall: 0.8963414634146342\n",
      "Precision: 0.6066024759284732\n",
      "AUC: 0.9795014144901885\n",
      "Checking class weight balanced and coefficient 0.016681005372000592\n"
     ]
    },
    {
     "name": "stderr",
     "output_type": "stream",
     "text": [
      "/home/rupesh/.virtualenvs/dana3/lib/python3.6/site-packages/sklearn/linear_model/logistic.py:432: FutureWarning: Default solver will be changed to 'lbfgs' in 0.22. Specify a solver to silence this warning.\n",
      "  FutureWarning)\n",
      "/home/rupesh/.virtualenvs/dana3/lib/python3.6/site-packages/sklearn/linear_model/logistic.py:432: FutureWarning: Default solver will be changed to 'lbfgs' in 0.22. Specify a solver to silence this warning.\n",
      "  FutureWarning)\n",
      "/home/rupesh/.virtualenvs/dana3/lib/python3.6/site-packages/sklearn/linear_model/logistic.py:432: FutureWarning: Default solver will be changed to 'lbfgs' in 0.22. Specify a solver to silence this warning.\n",
      "  FutureWarning)\n",
      "/home/rupesh/.virtualenvs/dana3/lib/python3.6/site-packages/sklearn/linear_model/logistic.py:432: FutureWarning: Default solver will be changed to 'lbfgs' in 0.22. Specify a solver to silence this warning.\n",
      "  FutureWarning)\n"
     ]
    },
    {
     "name": "stdout",
     "output_type": "stream",
     "text": [
      "Fold 0\n",
      "[[2796   71]\n",
      " [   5   94]]\n",
      "Area under curve: 0.984039910792614\n",
      "Fold 1\n",
      "[[2825   42]\n",
      " [  13   86]]\n",
      "Area under curve: 0.976475603611983\n",
      "Fold 2\n",
      "[[2806   60]\n",
      " [  15   83]]\n",
      "Area under curve: 0.9654357206944186\n",
      "Fold 3"
     ]
    },
    {
     "name": "stderr",
     "output_type": "stream",
     "text": [
      "/home/rupesh/.virtualenvs/dana3/lib/python3.6/site-packages/sklearn/linear_model/logistic.py:432: FutureWarning: Default solver will be changed to 'lbfgs' in 0.22. Specify a solver to silence this warning.\n",
      "  FutureWarning)\n",
      "/home/rupesh/.virtualenvs/dana3/lib/python3.6/site-packages/sklearn/linear_model/logistic.py:432: FutureWarning: Default solver will be changed to 'lbfgs' in 0.22. Specify a solver to silence this warning.\n",
      "  FutureWarning)\n",
      "/home/rupesh/.virtualenvs/dana3/lib/python3.6/site-packages/sklearn/linear_model/logistic.py:432: FutureWarning: Default solver will be changed to 'lbfgs' in 0.22. Specify a solver to silence this warning.\n",
      "  FutureWarning)\n",
      "/home/rupesh/.virtualenvs/dana3/lib/python3.6/site-packages/sklearn/linear_model/logistic.py:432: FutureWarning: Default solver will be changed to 'lbfgs' in 0.22. Specify a solver to silence this warning.\n",
      "  FutureWarning)\n"
     ]
    },
    {
     "name": "stdout",
     "output_type": "stream",
     "text": [
      "\n",
      "[[2815   51]\n",
      " [   7   91]]\n",
      "Area under curve: 0.9834014554879873\n",
      "Fold 4\n",
      "[[2792   74]\n",
      " [   9   89]]\n",
      "Area under curve: 0.9870437358474443\n",
      "Final Confusion Matrix\n",
      "[[2806.8   59.6]\n",
      " [   9.8   88.6]]\n",
      "F1 score: 0.7185725871857258\n",
      "Recall: 0.9004065040650406\n",
      "Precision: 0.5978407557354926\n",
      "AUC: 0.9792792852868895\n",
      "Checking class weight balanced and coefficient 0.027825594022071243\n",
      "Fold 0\n",
      "[[2793   74]\n",
      " [   5   94]]\n",
      "Area under curve: 0.9840575267851165\n"
     ]
    },
    {
     "name": "stderr",
     "output_type": "stream",
     "text": [
      "/home/rupesh/.virtualenvs/dana3/lib/python3.6/site-packages/sklearn/linear_model/logistic.py:432: FutureWarning: Default solver will be changed to 'lbfgs' in 0.22. Specify a solver to silence this warning.\n",
      "  FutureWarning)\n",
      "/home/rupesh/.virtualenvs/dana3/lib/python3.6/site-packages/sklearn/linear_model/logistic.py:432: FutureWarning: Default solver will be changed to 'lbfgs' in 0.22. Specify a solver to silence this warning.\n",
      "  FutureWarning)\n"
     ]
    },
    {
     "name": "stdout",
     "output_type": "stream",
     "text": [
      "Fold 1\n",
      "[[2824   43]\n",
      " [  13   86]]\n",
      "Area under curve: 0.9758097190953835\n",
      "Fold 2\n",
      "[[2806   60]\n",
      " [  15   83]]\n",
      "Area under curve: 0.9639367959326088\n",
      "Fold 3\n",
      "[[2813   53]\n",
      " [   7   91]]\n",
      "Area under curve: 0.9835972770126893\n"
     ]
    },
    {
     "name": "stderr",
     "output_type": "stream",
     "text": [
      "/home/rupesh/.virtualenvs/dana3/lib/python3.6/site-packages/sklearn/linear_model/logistic.py:432: FutureWarning: Default solver will be changed to 'lbfgs' in 0.22. Specify a solver to silence this warning.\n",
      "  FutureWarning)\n",
      "/home/rupesh/.virtualenvs/dana3/lib/python3.6/site-packages/sklearn/linear_model/logistic.py:432: FutureWarning: Default solver will be changed to 'lbfgs' in 0.22. Specify a solver to silence this warning.\n",
      "  FutureWarning)\n",
      "/home/rupesh/.virtualenvs/dana3/lib/python3.6/site-packages/sklearn/linear_model/logistic.py:432: FutureWarning: Default solver will be changed to 'lbfgs' in 0.22. Specify a solver to silence this warning.\n",
      "  FutureWarning)\n"
     ]
    },
    {
     "name": "stdout",
     "output_type": "stream",
     "text": [
      "Fold 4\n",
      "[[2787   79]\n",
      " [   9   89]]\n",
      "Area under curve: 0.9873677314610423\n",
      "Final Confusion Matrix\n",
      "[[2804.6   61.8]\n",
      " [   9.8   88.6]]\n",
      "F1 score: 0.7122186495176849\n",
      "Recall: 0.9004065040650406\n",
      "Precision: 0.5890957446808511\n",
      "AUC: 0.9789538100573681\n",
      "Checking class weight balanced and coefficient 0.046415888336127774\n",
      "Fold 0\n",
      "[[2793   74]\n",
      " [   5   94]]\n",
      "Area under curve: 0.9840610499836172\n",
      "Fold 1\n",
      "[[2822   45]\n",
      " [  13   86]]\n",
      "Area under curve: 0.9751755433652888\n"
     ]
    },
    {
     "name": "stderr",
     "output_type": "stream",
     "text": [
      "/home/rupesh/.virtualenvs/dana3/lib/python3.6/site-packages/sklearn/linear_model/logistic.py:432: FutureWarning: Default solver will be changed to 'lbfgs' in 0.22. Specify a solver to silence this warning.\n",
      "  FutureWarning)\n",
      "/home/rupesh/.virtualenvs/dana3/lib/python3.6/site-packages/sklearn/linear_model/logistic.py:432: FutureWarning: Default solver will be changed to 'lbfgs' in 0.22. Specify a solver to silence this warning.\n",
      "  FutureWarning)\n",
      "/home/rupesh/.virtualenvs/dana3/lib/python3.6/site-packages/sklearn/linear_model/logistic.py:432: FutureWarning: Default solver will be changed to 'lbfgs' in 0.22. Specify a solver to silence this warning.\n",
      "  FutureWarning)\n"
     ]
    },
    {
     "name": "stdout",
     "output_type": "stream",
     "text": [
      "Fold 2\n",
      "[[2807   59]\n",
      " [  15   83]]\n",
      "Area under curve: 0.9625411225201874\n",
      "Fold 3\n",
      "[[2810   56]\n",
      " [   7   91]]\n",
      "Area under curve: 0.9837183303188686\n",
      "Fold 4\n",
      "[[2787   79]\n",
      " [   9   89]]\n",
      "Area under curve: 0.9876668043351325\n",
      "Final Confusion Matrix\n",
      "[[2803.8   62.6]\n",
      " [   9.8   88.6]]\n",
      "F1 score: 0.7099358974358975\n",
      "Recall: 0.9004065040650406\n",
      "Precision: 0.5859788359788359\n",
      "AUC: 0.978632570104619\n",
      "Checking class weight balanced and coefficient 0.0774263682681127\n"
     ]
    },
    {
     "name": "stderr",
     "output_type": "stream",
     "text": [
      "/home/rupesh/.virtualenvs/dana3/lib/python3.6/site-packages/sklearn/linear_model/logistic.py:432: FutureWarning: Default solver will be changed to 'lbfgs' in 0.22. Specify a solver to silence this warning.\n",
      "  FutureWarning)\n",
      "/home/rupesh/.virtualenvs/dana3/lib/python3.6/site-packages/sklearn/linear_model/logistic.py:432: FutureWarning: Default solver will be changed to 'lbfgs' in 0.22. Specify a solver to silence this warning.\n",
      "  FutureWarning)\n",
      "/home/rupesh/.virtualenvs/dana3/lib/python3.6/site-packages/sklearn/linear_model/logistic.py:432: FutureWarning: Default solver will be changed to 'lbfgs' in 0.22. Specify a solver to silence this warning.\n",
      "  FutureWarning)\n"
     ]
    },
    {
     "name": "stdout",
     "output_type": "stream",
     "text": [
      "Fold 0\n",
      "[[2791   76]\n",
      " [   5   94]]\n",
      "Area under curve: 0.9841526531446307\n",
      "Fold 1\n",
      "[[2822   45]\n",
      " [  13   86]]\n",
      "Area under curve: 0.9746188780022056\n",
      "Fold 2\n",
      "[[2805   61]\n",
      " [  15   83]]\n",
      "Area under curve: 0.9614587635472891\n"
     ]
    },
    {
     "name": "stderr",
     "output_type": "stream",
     "text": [
      "/home/rupesh/.virtualenvs/dana3/lib/python3.6/site-packages/sklearn/linear_model/logistic.py:432: FutureWarning: Default solver will be changed to 'lbfgs' in 0.22. Specify a solver to silence this warning.\n",
      "  FutureWarning)\n",
      "/home/rupesh/.virtualenvs/dana3/lib/python3.6/site-packages/sklearn/linear_model/logistic.py:432: FutureWarning: Default solver will be changed to 'lbfgs' in 0.22. Specify a solver to silence this warning.\n",
      "  FutureWarning)\n",
      "/home/rupesh/.virtualenvs/dana3/lib/python3.6/site-packages/sklearn/linear_model/logistic.py:432: FutureWarning: Default solver will be changed to 'lbfgs' in 0.22. Specify a solver to silence this warning.\n",
      "  FutureWarning)\n"
     ]
    },
    {
     "name": "stdout",
     "output_type": "stream",
     "text": [
      "Fold 3\n",
      "[[2811   55]\n",
      " [   7   91]]\n",
      "Area under curve: 0.9838358232336899\n",
      "Fold 4\n",
      "[[2784   82]\n",
      " [   9   89]]\n",
      "Area under curve: 0.9879409544697153\n",
      "Final Confusion Matrix\n",
      "[[2802.6   63.8]\n",
      " [   9.8   88.6]]\n",
      "F1 score: 0.7065390749601276\n",
      "Recall: 0.9004065040650406\n",
      "Precision: 0.5813648293963255\n",
      "AUC: 0.9784014144795062\n",
      "Checking class weight balanced and coefficient 0.1291549665014884\n",
      "Fold 0\n",
      "[[2789   78]\n",
      " [   5   94]]\n",
      "Area under curve: 0.9842160707176403\n"
     ]
    },
    {
     "name": "stderr",
     "output_type": "stream",
     "text": [
      "/home/rupesh/.virtualenvs/dana3/lib/python3.6/site-packages/sklearn/linear_model/logistic.py:432: FutureWarning: Default solver will be changed to 'lbfgs' in 0.22. Specify a solver to silence this warning.\n",
      "  FutureWarning)\n",
      "/home/rupesh/.virtualenvs/dana3/lib/python3.6/site-packages/sklearn/linear_model/logistic.py:432: FutureWarning: Default solver will be changed to 'lbfgs' in 0.22. Specify a solver to silence this warning.\n",
      "  FutureWarning)\n",
      "/home/rupesh/.virtualenvs/dana3/lib/python3.6/site-packages/sklearn/linear_model/logistic.py:432: FutureWarning: Default solver will be changed to 'lbfgs' in 0.22. Specify a solver to silence this warning.\n",
      "  FutureWarning)\n"
     ]
    },
    {
     "name": "stdout",
     "output_type": "stream",
     "text": [
      "Fold 1\n",
      "[[2821   46]\n",
      " [  13   86]]\n",
      "Area under curve: 0.9741502926016355\n",
      "Fold 2\n",
      "[[2804   62]\n",
      " [  15   83]]\n",
      "Area under curve: 0.9605223806200778\n",
      "Fold 3\n",
      "[[2812   54]\n",
      " [   7   91]]\n",
      "Area under curve: 0.9839604369312274\n"
     ]
    },
    {
     "name": "stderr",
     "output_type": "stream",
     "text": [
      "/home/rupesh/.virtualenvs/dana3/lib/python3.6/site-packages/sklearn/linear_model/logistic.py:432: FutureWarning: Default solver will be changed to 'lbfgs' in 0.22. Specify a solver to silence this warning.\n",
      "  FutureWarning)\n",
      "/home/rupesh/.virtualenvs/dana3/lib/python3.6/site-packages/sklearn/linear_model/logistic.py:432: FutureWarning: Default solver will be changed to 'lbfgs' in 0.22. Specify a solver to silence this warning.\n",
      "  FutureWarning)\n",
      "/home/rupesh/.virtualenvs/dana3/lib/python3.6/site-packages/sklearn/linear_model/logistic.py:432: FutureWarning: Default solver will be changed to 'lbfgs' in 0.22. Specify a solver to silence this warning.\n",
      "  FutureWarning)\n"
     ]
    },
    {
     "name": "stdout",
     "output_type": "stream",
     "text": [
      "Fold 4\n",
      "[[2781   85]\n",
      " [   9   89]]\n",
      "Area under curve: 0.9881581383425666\n",
      "Final Confusion Matrix\n",
      "[[2801.4   65. ]\n",
      " [   9.8   88.6]]\n",
      "F1 score: 0.7031746031746032\n",
      "Recall: 0.9004065040650406\n",
      "Precision: 0.5768229166666666\n",
      "AUC: 0.9782014638426295\n",
      "Checking class weight balanced and coefficient 0.21544346900318834\n",
      "Fold 0\n",
      "[[2788   79]\n",
      " [   5   94]]\n",
      "Area under curve: 0.9842777266913996\n",
      "Fold 1\n",
      "[[2818   49]\n",
      " [  13   86]]\n",
      "Area under curve: 0.9738966223095976\n"
     ]
    },
    {
     "name": "stderr",
     "output_type": "stream",
     "text": [
      "/home/rupesh/.virtualenvs/dana3/lib/python3.6/site-packages/sklearn/linear_model/logistic.py:432: FutureWarning: Default solver will be changed to 'lbfgs' in 0.22. Specify a solver to silence this warning.\n",
      "  FutureWarning)\n",
      "/home/rupesh/.virtualenvs/dana3/lib/python3.6/site-packages/sklearn/linear_model/logistic.py:432: FutureWarning: Default solver will be changed to 'lbfgs' in 0.22. Specify a solver to silence this warning.\n",
      "  FutureWarning)\n",
      "/home/rupesh/.virtualenvs/dana3/lib/python3.6/site-packages/sklearn/linear_model/logistic.py:432: FutureWarning: Default solver will be changed to 'lbfgs' in 0.22. Specify a solver to silence this warning.\n",
      "  FutureWarning)\n"
     ]
    },
    {
     "name": "stdout",
     "output_type": "stream",
     "text": [
      "Fold 2\n",
      "[[2805   61]\n",
      " [  15   83]]\n",
      "Area under curve: 0.9595824373015083\n",
      "Fold 3\n",
      "[[2811   55]\n",
      " [   7   91]]\n",
      "Area under curve: 0.9841064129769144\n",
      "Fold 4\n",
      "[[2779   87]\n",
      " [   8   90]]\n",
      "Area under curve: 0.9883753222154179\n",
      "Final Confusion Matrix\n",
      "[[2800.2   66.2]\n",
      " [   9.6   88.8]]\n",
      "F1 score: 0.7008681925808997\n",
      "Recall: 0.9024390243902439\n",
      "Precision: 0.5729032258064516\n",
      "AUC: 0.9780477042989677\n",
      "Checking class weight balanced and coefficient 0.3593813663804626\n"
     ]
    },
    {
     "name": "stderr",
     "output_type": "stream",
     "text": [
      "/home/rupesh/.virtualenvs/dana3/lib/python3.6/site-packages/sklearn/linear_model/logistic.py:432: FutureWarning: Default solver will be changed to 'lbfgs' in 0.22. Specify a solver to silence this warning.\n",
      "  FutureWarning)\n",
      "/home/rupesh/.virtualenvs/dana3/lib/python3.6/site-packages/sklearn/linear_model/logistic.py:432: FutureWarning: Default solver will be changed to 'lbfgs' in 0.22. Specify a solver to silence this warning.\n",
      "  FutureWarning)\n",
      "/home/rupesh/.virtualenvs/dana3/lib/python3.6/site-packages/sklearn/linear_model/logistic.py:432: FutureWarning: Default solver will be changed to 'lbfgs' in 0.22. Specify a solver to silence this warning.\n",
      "  FutureWarning)\n"
     ]
    },
    {
     "name": "stdout",
     "output_type": "stream",
     "text": [
      "Fold 0\n",
      "[[2789   78]\n",
      " [   5   94]]\n",
      "Area under curve: 0.9843323362681576\n",
      "Fold 1\n",
      "[[2817   50]\n",
      " [  13   86]]\n",
      "Area under curve: 0.9737521711710759\n",
      "Fold 2\n",
      "[[2806   60]\n",
      " [  15   83]]\n",
      "Area under curve: 0.9588205135508495\n"
     ]
    },
    {
     "name": "stderr",
     "output_type": "stream",
     "text": [
      "/home/rupesh/.virtualenvs/dana3/lib/python3.6/site-packages/sklearn/linear_model/logistic.py:432: FutureWarning: Default solver will be changed to 'lbfgs' in 0.22. Specify a solver to silence this warning.\n",
      "  FutureWarning)\n",
      "/home/rupesh/.virtualenvs/dana3/lib/python3.6/site-packages/sklearn/linear_model/logistic.py:432: FutureWarning: Default solver will be changed to 'lbfgs' in 0.22. Specify a solver to silence this warning.\n",
      "  FutureWarning)\n",
      "/home/rupesh/.virtualenvs/dana3/lib/python3.6/site-packages/sklearn/linear_model/logistic.py:432: FutureWarning: Default solver will be changed to 'lbfgs' in 0.22. Specify a solver to silence this warning.\n",
      "  FutureWarning)\n"
     ]
    },
    {
     "name": "stdout",
     "output_type": "stream",
     "text": [
      "Fold 3\n",
      "[[2811   55]\n",
      " [   7   91]]\n",
      "Area under curve: 0.9842452682398849\n",
      "Fold 4\n",
      "[[2781   85]\n",
      " [   8   90]]\n",
      "Area under curve: 0.9885212982611048\n",
      "Final Confusion Matrix\n",
      "[[2800.8   65.6]\n",
      " [   9.6   88.8]]\n",
      "F1 score: 0.7025316455696203\n",
      "Recall: 0.9024390243902439\n",
      "Precision: 0.5751295336787565\n",
      "AUC: 0.9779343174982147\n",
      "Checking class weight balanced and coefficient 0.5994842503189409\n",
      "Fold 0\n",
      "[[2789   78]\n",
      " [   5   94]]\n",
      "Area under curve: 0.9844662178111777\n"
     ]
    },
    {
     "name": "stderr",
     "output_type": "stream",
     "text": [
      "/home/rupesh/.virtualenvs/dana3/lib/python3.6/site-packages/sklearn/linear_model/logistic.py:432: FutureWarning: Default solver will be changed to 'lbfgs' in 0.22. Specify a solver to silence this warning.\n",
      "  FutureWarning)\n",
      "/home/rupesh/.virtualenvs/dana3/lib/python3.6/site-packages/sklearn/linear_model/logistic.py:432: FutureWarning: Default solver will be changed to 'lbfgs' in 0.22. Specify a solver to silence this warning.\n",
      "  FutureWarning)\n",
      "/home/rupesh/.virtualenvs/dana3/lib/python3.6/site-packages/sklearn/linear_model/logistic.py:432: FutureWarning: Default solver will be changed to 'lbfgs' in 0.22. Specify a solver to silence this warning.\n",
      "  FutureWarning)\n"
     ]
    },
    {
     "name": "stdout",
     "output_type": "stream",
     "text": [
      "Fold 1\n",
      "[[2818   49]\n",
      " [  13   86]]\n",
      "Area under curve: 0.9737345551785733\n",
      "Fold 2\n",
      "[[2806   60]\n",
      " [  15   83]]\n",
      "Area under curve: 0.9583434211088483\n",
      "Fold 3\n",
      "[[2813   53]\n",
      " [   7   91]]\n",
      "Area under curve: 0.9843787829158182\n"
     ]
    },
    {
     "name": "stderr",
     "output_type": "stream",
     "text": [
      "/home/rupesh/.virtualenvs/dana3/lib/python3.6/site-packages/sklearn/linear_model/logistic.py:432: FutureWarning: Default solver will be changed to 'lbfgs' in 0.22. Specify a solver to silence this warning.\n",
      "  FutureWarning)\n",
      "/home/rupesh/.virtualenvs/dana3/lib/python3.6/site-packages/sklearn/linear_model/logistic.py:432: FutureWarning: Default solver will be changed to 'lbfgs' in 0.22. Specify a solver to silence this warning.\n",
      "  FutureWarning)\n",
      "/home/rupesh/.virtualenvs/dana3/lib/python3.6/site-packages/sklearn/linear_model/logistic.py:432: FutureWarning: Default solver will be changed to 'lbfgs' in 0.22. Specify a solver to silence this warning.\n",
      "  FutureWarning)\n"
     ]
    },
    {
     "name": "stdout",
     "output_type": "stream",
     "text": [
      "Fold 4\n",
      "[[2781   85]\n",
      " [   8   90]]\n",
      "Area under curve: 0.9885960664796274\n",
      "Final Confusion Matrix\n",
      "[[2801.4   65. ]\n",
      " [   9.6   88.8]]\n",
      "F1 score: 0.704203013481364\n",
      "Recall: 0.9024390243902439\n",
      "Precision: 0.577373211963589\n",
      "AUC: 0.977903808698809\n",
      "Checking class weight balanced and coefficient 1.0\n",
      "Fold 0\n",
      "[[2789   78]\n",
      " [   5   94]]\n",
      "Area under curve: 0.9845190657886856\n"
     ]
    },
    {
     "name": "stderr",
     "output_type": "stream",
     "text": [
      "/home/rupesh/.virtualenvs/dana3/lib/python3.6/site-packages/sklearn/linear_model/logistic.py:432: FutureWarning: Default solver will be changed to 'lbfgs' in 0.22. Specify a solver to silence this warning.\n",
      "  FutureWarning)\n",
      "/home/rupesh/.virtualenvs/dana3/lib/python3.6/site-packages/sklearn/linear_model/logistic.py:432: FutureWarning: Default solver will be changed to 'lbfgs' in 0.22. Specify a solver to silence this warning.\n",
      "  FutureWarning)\n"
     ]
    },
    {
     "name": "stdout",
     "output_type": "stream",
     "text": [
      "Fold 1\n",
      "[[2818   49]\n",
      " [  13   86]]\n",
      "Area under curve: 0.9736640912085628\n",
      "Fold 2\n",
      "[[2806   60]\n",
      " [  15   83]]\n",
      "Area under curve: 0.9579375364940114\n",
      "Fold 3\n",
      "[[2813   53]\n",
      " [   7   91]]\n",
      "Area under curve: 0.9844802540695273\n"
     ]
    },
    {
     "name": "stderr",
     "output_type": "stream",
     "text": [
      "/home/rupesh/.virtualenvs/dana3/lib/python3.6/site-packages/sklearn/linear_model/logistic.py:432: FutureWarning: Default solver will be changed to 'lbfgs' in 0.22. Specify a solver to silence this warning.\n",
      "  FutureWarning)\n",
      "/home/rupesh/.virtualenvs/dana3/lib/python3.6/site-packages/sklearn/linear_model/logistic.py:432: FutureWarning: Default solver will be changed to 'lbfgs' in 0.22. Specify a solver to silence this warning.\n",
      "  FutureWarning)\n",
      "/home/rupesh/.virtualenvs/dana3/lib/python3.6/site-packages/sklearn/linear_model/logistic.py:432: FutureWarning: Default solver will be changed to 'lbfgs' in 0.22. Specify a solver to silence this warning.\n",
      "  FutureWarning)\n"
     ]
    },
    {
     "name": "stdout",
     "output_type": "stream",
     "text": [
      "Fold 4\n",
      "[[2781   85]\n",
      " [   8   90]]\n",
      "Area under curve: 0.9886708346981501\n",
      "Final Confusion Matrix\n",
      "[[2801.4   65. ]\n",
      " [   9.6   88.8]]\n",
      "F1 score: 0.704203013481364\n",
      "Recall: 0.9024390243902439\n",
      "Precision: 0.577373211963589\n",
      "AUC: 0.9778543564517875\n",
      "Best parameters found for Logistic Regression under AUC metric is None class weights and 0.0774263682681127 coefficient\n",
      "Best parameters found for Logistic Regression under F1 metric is None class weights and 0.01 coefficient\n",
      "Best parameters found for Logistic Regression under precision metric is None class weights and 0.046415888336127774 coefficient\n",
      "Best parameters found for Logistic Regression under recall metric is balanced class weights and 0.21544346900318834 coefficient\n"
     ]
    }
   ],
   "source": [
    "weights = [None,'balanced']\n",
    "coefficients = np.logspace(-2,0,10)\n",
    "fscore = []\n",
    "recall = []\n",
    "precision = []\n",
    "AU = []\n",
    "param_permuations = list(itertools.product(weights, coefficients))\n",
    "for cw,C in param_permuations:\n",
    "    print('Checking class weight {} and coefficient {}'.format(cw, C))\n",
    "    cf,au = train_logistic_regression(data_sc, cw, C)\n",
    "    TP = cf[1][1]\n",
    "    FP = cf[0][1]\n",
    "    FN = cf[1][0]\n",
    "    prec = TP/(TP+FP)\n",
    "    rec = TP/(TP+FN)\n",
    "    f1 = prec*rec*2/(prec+rec)\n",
    "    print('F1 score:', f1)\n",
    "    print('Recall:', rec)\n",
    "    print('Precision:', prec)\n",
    "    print('AUC:', au)\n",
    "    fscore.append(f1)\n",
    "    recall.append(rec)\n",
    "    precision.append(prec)\n",
    "    AU.append(au)\n",
    "\n",
    "idx = np.argmax(AU)\n",
    "best_params = param_permuations[idx]\n",
    "print('Best parameters found for Logistic Regression under AUC metric is {} class weights and {} coefficient'.format(best_params[0], best_params[1]))\n",
    "\n",
    "idx = np.argmax(f1)\n",
    "best_params = param_permuations[idx]\n",
    "print('Best parameters found for Logistic Regression under F1 metric is {} class weights and {} coefficient'.format(best_params[0], best_params[1]))\n",
    "\n",
    "idx = np.argmax(precision)\n",
    "best_params = param_permuations[idx]\n",
    "print('Best parameters found for Logistic Regression under precision metric is {} class weights and {} coefficient'.format(best_params[0], best_params[1]))\n",
    "\n",
    "idx = np.argmax(recall)\n",
    "best_params = param_permuations[idx]\n",
    "print('Best parameters found for Logistic Regression under recall metric is {} class weights and {} coefficient'.format(best_params[0], best_params[1]))"
   ]
  },
  {
   "cell_type": "markdown",
   "metadata": {},
   "source": [
    "# kNN"
   ]
  },
  {
   "cell_type": "code",
   "execution_count": 33,
   "metadata": {},
   "outputs": [],
   "source": [
    "def train_KNN(data, k, scale=False):\n",
    "    confusion_mat = np.zeros((2, 2))\n",
    "    AU = 0\n",
    "    for i in range(5):\n",
    "        knn = KNeighborsClassifier(n_neighbors=k)\n",
    "        \n",
    "        train_data = np.delete(data, folds[i], axis=0)\n",
    "        test_data = data[folds[i]]\n",
    "        if scale:\n",
    "            scaler = StandardScaler()\n",
    "            train_data = scaler.fit_transform(train_data)\n",
    "            test_data = scaler.transform(test_data)\n",
    "\n",
    "        knn.fit(train_data, np.delete(labels, folds[i]))\n",
    "        pred = knn.predict(test_data)\n",
    "\n",
    "        conf_mat = confusion_matrix(labels[folds[i]], pred)\n",
    "#         print('Fold', i)\n",
    "#         print(conf_mat)\n",
    "        fpr, tpr, thresholds = roc_curve(labels[folds[i]], pred)\n",
    "        area_under_curve = auc(fpr, tpr)\n",
    "        AU += area_under_curve\n",
    "#         print('Fold', i)\n",
    "#         print(conf_mat)\n",
    "#         print('Area under curve:', area_under_curve)\n",
    "\n",
    "        confusion_mat += conf_mat\n",
    "\n",
    "    confusion_mat /= 5\n",
    "    AU /= 5\n",
    "    print('Final Confusion Matrix')\n",
    "    print(confusion_mat)\n",
    "    \n",
    "#     fnr = confusion_mat[0, 1] / sum(confusion_mat[0, :])\n",
    "#     fpr = confusion_mat[1, 0] / sum(confusion_mat[1,:])\n",
    "#     print('False negatives (valid):', fnr)\n",
    "#     print('False positives (fraud):', fpr)\n",
    "    \n",
    "#     metric = (fnr * (len(labels) - sum(labels)) + fpr * sum(labels)) / len(labels)\n",
    "    return confusion_mat, AU"
   ]
  },
  {
   "cell_type": "code",
   "execution_count": 36,
   "metadata": {},
   "outputs": [
    {
     "name": "stdout",
     "output_type": "stream",
     "text": [
      "Final Confusion Matrix\n",
      "[[2855.8   10.6]\n",
      " [  21.6   76.8]]\n",
      "Confusion Matrix:\n",
      "[[2855.8   10.6]\n",
      " [  21.6   76.8]]\n",
      "AUC: 0.8884107285615436\n",
      "metric: 0.010860766324878575\n",
      "\n",
      "Final Confusion Matrix\n",
      "[[2.8642e+03 2.2000e+00]\n",
      " [2.4800e+01 7.3600e+01]]\n",
      "Confusion Matrix:\n",
      "[[2.8642e+03 2.2000e+00]\n",
      " [2.4800e+01 7.3600e+01]]\n",
      "AUC: 0.8736318931948597\n",
      "metric: 0.009106853750674583\n",
      "\n",
      "Final Confusion Matrix\n",
      "[[2.8642e+03 2.2000e+00]\n",
      " [2.7400e+01 7.1000e+01]]\n",
      "Confusion Matrix:\n",
      "[[2.8642e+03 2.2000e+00]\n",
      " [2.7400e+01 7.1000e+01]]\n",
      "AUC: 0.8604078278552233\n",
      "metric: 0.009983810037776578\n",
      "\n",
      "Final Confusion Matrix\n",
      "[[2.8646e+03 1.8000e+00]\n",
      " [3.0000e+01 6.8400e+01]]\n",
      "Confusion Matrix:\n",
      "[[2.8646e+03 1.8000e+00]\n",
      " [3.0000e+01 6.8400e+01]]\n",
      "AUC: 0.8472741361522258\n",
      "metric: 0.010725849973016729\n",
      "\n",
      "Final Confusion Matrix\n",
      "[[2.8646e+03 1.8000e+00]\n",
      " [3.4000e+01 6.4400e+01]]\n",
      "Confusion Matrix:\n",
      "[[2.8646e+03 1.8000e+00]\n",
      " [3.4000e+01 6.4400e+01]]\n",
      "AUC: 0.8269484301122342\n",
      "metric: 0.012075013491635186\n",
      "\n",
      "Final Confusion Matrix\n",
      "[[2.8646e+03 1.8000e+00]\n",
      " [3.5800e+01 6.2600e+01]]\n",
      "Confusion Matrix:\n",
      "[[2.8646e+03 1.8000e+00]\n",
      " [3.5800e+01 6.2600e+01]]\n",
      "AUC: 0.8177750637960106\n",
      "metric: 0.01268213707501349\n",
      "\n"
     ]
    }
   ],
   "source": [
    "for k in [1, 3, 5, 7, 9, 11]:\n",
    "    conf, au = train_KNN(data, k)\n",
    "    print('Confusion Matrix:')\n",
    "    print(conf)\n",
    "    print('AUC: {}'.format(au))\n",
    "#     print('recall: {}'.format(conf[1, 0] / sum(conf[:, 0])))\n",
    "    fnr = conf[0, 1] / sum(conf[0, :])\n",
    "    fpr = conf[1, 0] / sum(conf[1,:])\n",
    "    metric = (fnr * (len(labels) - sum(labels)) + fpr * sum(labels)) / len(labels)\n",
    "    print('metric: {}'.format(metric))\n",
    "    print()"
   ]
  },
  {
   "cell_type": "code",
   "execution_count": null,
   "metadata": {},
   "outputs": [],
   "source": []
  }
 ],
 "metadata": {
  "kernelspec": {
   "display_name": "Python 3",
   "language": "python",
   "name": "python3"
  },
  "language_info": {
   "codemirror_mode": {
    "name": "ipython",
    "version": 3
   },
   "file_extension": ".py",
   "mimetype": "text/x-python",
   "name": "python",
   "nbconvert_exporter": "python",
   "pygments_lexer": "ipython3",
   "version": "3.6.6"
  }
 },
 "nbformat": 4,
 "nbformat_minor": 2
}
