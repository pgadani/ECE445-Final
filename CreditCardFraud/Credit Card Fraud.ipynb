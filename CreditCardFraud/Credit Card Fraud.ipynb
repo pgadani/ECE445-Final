{
 "cells": [
  {
   "cell_type": "code",
   "execution_count": 1,
   "metadata": {},
   "outputs": [],
   "source": [
    "import csv\n",
    "import itertools\n",
    "from matplotlib import pyplot as plt\n",
    "import numpy as np\n",
    "import random\n",
    "\n",
    "from sklearn.metrics import confusion_matrix, roc_curve, auc, f1_score\n",
    "from sklearn.preprocessing import StandardScaler\n",
    "from sklearn.svm import SVC, LinearSVC\n",
    "\n",
    "from sklearn.linear_model import LogisticRegression\n",
    "from sklearn.neighbors import KNeighborsClassifier\n",
    "\n",
    "# import warnings\n",
    "# warnings.filterwarnings(\"ignore\")"
   ]
  },
  {
   "cell_type": "markdown",
   "metadata": {},
   "source": [
    "### Read the data\n",
    "\n",
    "Note about the data: The dataset is rather large, and very skewed toward valid transactions. To balance it a bit better, we sample and only keep around 5% of the valid transactions"
   ]
  },
  {
   "cell_type": "code",
   "execution_count": 2,
   "metadata": {},
   "outputs": [
    {
     "name": "stdout",
     "output_type": "stream",
     "text": [
      "The data is imbalanced, with 14707 samples in total but only 492 cases of fraud\n"
     ]
    }
   ],
   "source": [
    "with open('creditcard.csv', newline='') as f:\n",
    "    reader = csv.reader(f, delimiter=',')\n",
    "    csv_data = list(reader)[1:]\n",
    "    \n",
    "csv_data = [row for row in csv_data if int(row[-1]) == 1 or random.random() < .05]\n",
    "\n",
    "# Format: Time, V1, ..., V28, Amount, Class\n",
    "data = np.array([[float(x) for x in row[1:-1]] for row in csv_data])\n",
    "times = np.array([float(row[0]) for row in csv_data])\n",
    "labels = np.array([int(row[-1]) for row in csv_data])\n",
    "print('The data is imbalanced, with {} samples in total but only {} cases of fraud'.format(len(labels), sum(labels)))"
   ]
  },
  {
   "cell_type": "markdown",
   "metadata": {},
   "source": [
    "### Feature Scaling"
   ]
  },
  {
   "cell_type": "code",
   "execution_count": 3,
   "metadata": {},
   "outputs": [
    {
     "name": "stdout",
     "output_type": "stream",
     "text": [
      "[-1.51964732e-01  1.30769057e-01 -2.30923082e-01  1.57674957e-01\n",
      " -1.18913753e-01 -2.67222800e-02 -1.90775467e-01  8.45269898e-04\n",
      " -7.18503485e-02 -1.80004531e-01  1.12468481e-01 -1.89663285e-01\n",
      "  2.18321666e-04 -2.24024858e-01  2.93368820e-03 -1.27521387e-01\n",
      " -2.16925765e-01 -5.23044899e-02  8.74492530e-03  1.66200257e-02\n",
      "  1.88457356e-02 -1.82161662e-03 -3.16102371e-04  4.16515276e-03\n",
      "  1.42745966e-03 -3.64431523e-04  7.66959165e-04  3.00762063e-03\n",
      "  9.07612273e+01]\n",
      "[5.90912814e+00 3.54005589e+00 5.42436299e+00 2.89187780e+00\n",
      " 3.12681746e+00 1.93758806e+00 4.15781267e+00 3.22098926e+00\n",
      " 1.59632917e+00 2.91918284e+00 1.67817027e+00 2.85622153e+00\n",
      " 1.00068235e+00 2.95684257e+00 8.54269703e-01 1.74619202e+00\n",
      " 3.59400286e+00 1.10180523e+00 7.33150846e-01 5.41713252e-01\n",
      " 1.12657841e+00 5.97500273e-01 5.49976655e-01 3.63082203e-01\n",
      " 2.86717398e-01 2.39388643e-01 2.01536565e-01 8.33635972e-02\n",
      " 5.70576462e+04]\n",
      "The PCA features have mean 0 but different variances\n",
      "The transaction amount is not scaled. We should scale it so it does not affect the SVM too much\n"
     ]
    }
   ],
   "source": [
    "print(np.mean(data, axis=0))\n",
    "print(np.var(data, axis=0))\n",
    "print('The PCA features have mean 0 but different variances')\n",
    "print('The transaction amount is not scaled. We should scale it so it does not affect the SVM too much')"
   ]
  },
  {
   "cell_type": "code",
   "execution_count": 4,
   "metadata": {},
   "outputs": [
    {
     "name": "stdout",
     "output_type": "stream",
     "text": [
      "[ 1.17227533e-16 -6.48076743e-17  2.97971872e-16  1.86617416e-16\n",
      "  1.32510368e-16 -1.06553328e-16 -2.80065780e-17 -3.53894441e-17\n",
      " -1.56708505e-16 -5.45749644e-17 -2.05255756e-16 -2.45333094e-16\n",
      " -4.93512139e-17  1.02624104e-16  4.29534848e-17 -2.42483368e-16\n",
      "  6.29042084e-16 -4.63623987e-16  7.37154269e-17 -7.95771810e-17\n",
      "  2.57937941e-17  4.18211434e-17 -6.66571653e-17 -6.69138294e-17\n",
      "  1.49635145e-16 -3.53818951e-17 -2.31752545e-17  1.36786844e-17\n",
      "  8.42584692e-15]\n",
      "[1. 1. 1. 1. 1. 1. 1. 1. 1. 1. 1. 1. 1. 1. 1. 1. 1. 1. 1. 1. 1. 1. 1. 1.\n",
      " 1. 1. 1. 1. 1.]\n"
     ]
    }
   ],
   "source": [
    "scaler = StandardScaler()\n",
    "data_sc = scaler.fit_transform(data)\n",
    "print(np.mean(data_sc, axis=0))\n",
    "print(np.var(data_sc, axis=0))"
   ]
  },
  {
   "cell_type": "markdown",
   "metadata": {},
   "source": [
    "### Preliminary plotting"
   ]
  },
  {
   "cell_type": "code",
   "execution_count": 5,
   "metadata": {},
   "outputs": [
    {
     "name": "stdout",
     "output_type": "stream",
     "text": [
      "[ 1.11088034  1.38639697  0.92154368  1.11104797  1.19557162  1.24574381\n",
      " -0.82086022 -0.18292816 -0.61458611]\n"
     ]
    },
    {
     "data": {
      "image/png": "[encoded data removed]",
      "text/plain": [
       "<Figure size 432x288 with 1 Axes>"
      ]
     },
     "metadata": {
      "needs_background": "light"
     },
     "output_type": "display_data"
    }
   ],
   "source": [
    "# plot the first two principal components\n",
    "data_fraud = data[np.where(labels == 1)]\n",
    "data_valid = data[np.where(labels == 0)]\n",
    "plt.scatter(data_valid[:, 0], data_valid[:, -1], c='b')\n",
    "plt.scatter(data_fraud[:, 0], data_fraud[:, -1], c='r')\n",
    "print(data_valid[1:10, 0])\n",
    "plt.ylim((0, 10000))\n",
    "plt.legend(['valid', 'fraud'])\n",
    "plt.xlabel('First PCA feature')\n",
    "plt.ylabel('Transaction amount')\n",
    "plt.show()"
   ]
  },
  {
   "cell_type": "markdown",
   "metadata": {},
   "source": [
    "### Setting up cross-validation"
   ]
  },
  {
   "cell_type": "code",
   "execution_count": 6,
   "metadata": {},
   "outputs": [],
   "source": [
    "fraud_indices = np.where(labels == 1)[0]\n",
    "np.random.shuffle(fraud_indices)\n",
    "fraud_splits = np.array_split(fraud_indices, 5)\n",
    "\n",
    "valid_indices = np.where(labels == 0)[0]\n",
    "np.random.shuffle(valid_indices)\n",
    "valid_splits = np.array_split(valid_indices, 5)\n",
    "\n",
    "folds = [np.concatenate((fraud_sp, valid_sp)) for fraud_sp, valid_sp in zip(fraud_splits, valid_splits)]"
   ]
  },
  {
   "cell_type": "markdown",
   "metadata": {},
   "source": [
    "### SVM"
   ]
  },
  {
   "cell_type": "code",
   "execution_count": 7,
   "metadata": {},
   "outputs": [],
   "source": [
    "def train_binary_SVM(data, scale=False, kernel=None, class_weight=None):\n",
    "    confusion_mat = np.zeros((2, 2))\n",
    "    for i in range(5):\n",
    "        if kernel is None:\n",
    "            if class_weight is None:\n",
    "                svm = LinearSVC(fit_intercept=False, dual=False)\n",
    "            else:\n",
    "                svm = LinearSVC(fit_intercept=False, dual=False, class_weight=class_weight)\n",
    "        else:\n",
    "            if class_weight is None:\n",
    "                svm = SVC(kernel=kernel, gamma='auto')\n",
    "            else:\n",
    "                svm = SVC(kernel=kernel, gamma='auto', class_weight=class_weight)\n",
    "        \n",
    "        train_data = np.delete(data, folds[i], axis=0)\n",
    "        test_data = data[folds[i]]\n",
    "        if scale:\n",
    "            scaler = StandardScaler()\n",
    "            train_data = scaler.fit_transform(train_data)\n",
    "            test_data = scaler.transform(test_data)\n",
    "\n",
    "        svm.fit(train_data, np.delete(labels, folds[i]))\n",
    "        pred = svm.predict(test_data)\n",
    "\n",
    "        conf_mat = confusion_matrix(labels[folds[i]], pred)\n",
    "        print('Fold', i)\n",
    "        print(conf_mat)\n",
    "\n",
    "        confusion_mat += conf_mat\n",
    "\n",
    "    confusion_mat /= 5\n",
    "    print('Final Confusion Matrix')\n",
    "    print(confusion_mat)\n",
    "    print('False negatives (valid):', confusion_mat[0, 1] / sum(confusion_mat[0, :]))\n",
    "    print('False positives (fraud):', confusion_mat[1, 0] / sum(confusion_mat[1,:]))\n",
    "    fscore = 2*confusion_mat[1,1] / (2*confusion_mat[1,1] + confusion_mat[0,1] + confusion_mat[1,0])\n",
    "    print('F-score: {}'.format(fscore))\n",
    "    return confusion_mat"
   ]
  },
  {
   "cell_type": "markdown",
   "metadata": {},
   "source": [
    "#### Linear SVM -- Without scaling or class weights"
   ]
  },
  {
   "cell_type": "code",
   "execution_count": 8,
   "metadata": {},
   "outputs": [
    {
     "name": "stdout",
     "output_type": "stream",
     "text": [
      "Fold 0\n",
      "[[2830   13]\n",
      " [  23   76]]\n",
      "Fold 1\n",
      "[[2840    3]\n",
      " [  25   74]]\n",
      "Fold 2\n",
      "[[2827   16]\n",
      " [  19   79]]\n",
      "Fold 3\n",
      "[[2833   10]\n",
      " [  17   81]]\n",
      "Fold 4\n",
      "[[2838    5]\n",
      " [  17   81]]\n",
      "Final Confusion Matrix\n",
      "[[2833.6    9.4]\n",
      " [  20.2   78.2]]\n",
      "False negatives (valid): 0.0033063665142455153\n",
      "False positives (fraud): 0.20528455284552843\n",
      "F-score: 0.8408602150537635\n"
     ]
    }
   ],
   "source": [
    "train_binary_SVM(data);"
   ]
  },
  {
   "cell_type": "markdown",
   "metadata": {},
   "source": [
    "#### Linear SVM with Scaling"
   ]
  },
  {
   "cell_type": "code",
   "execution_count": 9,
   "metadata": {},
   "outputs": [
    {
     "name": "stdout",
     "output_type": "stream",
     "text": [
      "Fold 0\n",
      "[[2841    2]\n",
      " [  21   78]]\n",
      "Fold 1\n",
      "[[2842    1]\n",
      " [  23   76]]\n",
      "Fold 2\n",
      "[[2836    7]\n",
      " [  16   82]]\n",
      "Fold 3\n",
      "[[2839    4]\n",
      " [  18   80]]\n",
      "Fold 4\n",
      "[[2842    1]\n",
      " [  16   82]]\n",
      "Final Confusion Matrix\n",
      "[[2840.     3. ]\n",
      " [  18.8   79.6]]\n",
      "False negatives (valid): 0.001055223355610271\n",
      "False positives (fraud): 0.1910569105691057\n",
      "F-score: 0.8795580110497236\n"
     ]
    }
   ],
   "source": [
    "train_binary_SVM(data, scale=True);"
   ]
  },
  {
   "cell_type": "markdown",
   "metadata": {},
   "source": [
    "#### Linear SVM with Scaling and Class Weights"
   ]
  },
  {
   "cell_type": "code",
   "execution_count": 10,
   "metadata": {},
   "outputs": [
    {
     "name": "stdout",
     "output_type": "stream",
     "text": [
      "Fold 0\n",
      "[[2753   90]\n",
      " [   8   91]]\n",
      "Fold 1\n",
      "[[2789   54]\n",
      " [   6   93]]\n",
      "Fold 2\n",
      "[[2733  110]\n",
      " [   9   89]]\n",
      "Fold 3\n",
      "[[2739  104]\n",
      " [   9   89]]\n",
      "Fold 4\n",
      "[[2765   78]\n",
      " [  10   88]]\n",
      "Final Confusion Matrix\n",
      "[[2755.8   87.2]\n",
      " [   8.4   90. ]]\n",
      "False negatives (valid): 0.030671825536405208\n",
      "False positives (fraud): 0.08536585365853658\n",
      "F-score: 0.6531204644412192\n"
     ]
    }
   ],
   "source": [
    "train_binary_SVM(data, scale=True, class_weight='balanced');"
   ]
  },
  {
   "cell_type": "markdown",
   "metadata": {},
   "source": [
    "### Kernel SVM"
   ]
  },
  {
   "cell_type": "markdown",
   "metadata": {},
   "source": [
    "#### RBF Kernel with Scaling and Class Weights"
   ]
  },
  {
   "cell_type": "code",
   "execution_count": 11,
   "metadata": {},
   "outputs": [
    {
     "name": "stdout",
     "output_type": "stream",
     "text": [
      "Fold 0\n",
      "[[2842    1]\n",
      " [  19   80]]\n",
      "Fold 1\n",
      "[[2842    1]\n",
      " [  26   73]]\n",
      "Fold 2\n",
      "[[2842    1]\n",
      " [  18   80]]\n",
      "Fold 3\n",
      "[[2843    0]\n",
      " [  22   76]]\n",
      "Fold 4\n",
      "[[2842    1]\n",
      " [  19   79]]\n",
      "Final Confusion Matrix\n",
      "[[2.8422e+03 8.0000e-01]\n",
      " [2.0800e+01 7.7600e+01]]\n",
      "False negatives (valid): 0.00028139289482940555\n",
      "False positives (fraud): 0.21138211382113822\n",
      "F-score: 0.8778280542986424\n"
     ]
    }
   ],
   "source": [
    "train_binary_SVM(data, scale=True, kernel='rbf');"
   ]
  },
  {
   "cell_type": "code",
   "execution_count": 12,
   "metadata": {},
   "outputs": [
    {
     "name": "stdout",
     "output_type": "stream",
     "text": [
      "Fold 0\n",
      "[[2833   10]\n",
      " [  42   57]]\n",
      "Fold 1\n",
      "[[2835    8]\n",
      " [  49   50]]\n",
      "Fold 2\n",
      "[[2831   12]\n",
      " [  47   51]]\n",
      "Fold 3\n",
      "[[2820   23]\n",
      " [  49   49]]\n",
      "Fold 4\n",
      "[[2835    8]\n",
      " [  47   51]]\n",
      "Final Confusion Matrix\n",
      "[[2830.8   12.2]\n",
      " [  46.8   51.6]]\n",
      "False negatives (valid): 0.0042912416461484346\n",
      "False positives (fraud): 0.4756097560975609\n",
      "F-score: 0.6362515413070284\n"
     ]
    }
   ],
   "source": [
    "train_binary_SVM(data, kernel='rbf', class_weight='balanced');"
   ]
  },
  {
   "cell_type": "markdown",
   "metadata": {},
   "source": [
    "#### Polynomial Kernel with Scaling and Class Weights"
   ]
  },
  {
   "cell_type": "code",
   "execution_count": 13,
   "metadata": {},
   "outputs": [
    {
     "name": "stdout",
     "output_type": "stream",
     "text": [
      "Fold 0\n",
      "[[2842    1]\n",
      " [  19   80]]\n",
      "Fold 1\n",
      "[[2840    3]\n",
      " [  19   80]]\n",
      "Fold 2\n",
      "[[2837    6]\n",
      " [  14   84]]\n",
      "Fold 3\n",
      "[[2839    4]\n",
      " [  16   82]]\n",
      "Fold 4\n",
      "[[2842    1]\n",
      " [  17   81]]\n",
      "Final Confusion Matrix\n",
      "[[2840.     3. ]\n",
      " [  17.    81.4]]\n",
      "False negatives (valid): 0.001055223355610271\n",
      "False positives (fraud): 0.17276422764227642\n",
      "F-score: 0.8905908096280087\n"
     ]
    }
   ],
   "source": [
    "train_binary_SVM(data, scale=True, kernel='poly');"
   ]
  },
  {
   "cell_type": "code",
   "execution_count": 14,
   "metadata": {},
   "outputs": [
    {
     "name": "stdout",
     "output_type": "stream",
     "text": [
      "Fold 0\n",
      "[[2828   15]\n",
      " [  15   84]]\n",
      "Fold 1\n",
      "[[2819   24]\n",
      " [  14   85]]\n",
      "Fold 2\n",
      "[[2817   26]\n",
      " [  12   86]]\n",
      "Fold 3\n",
      "[[2817   26]\n",
      " [  13   85]]\n",
      "Fold 4\n",
      "[[2823   20]\n",
      " [  14   84]]\n",
      "Final Confusion Matrix\n",
      "[[2820.8   22.2]\n",
      " [  13.6   84.8]]\n",
      "False negatives (valid): 0.007808652831516004\n",
      "False positives (fraud): 0.13821138211382114\n",
      "F-score: 0.8257059396299903\n"
     ]
    }
   ],
   "source": [
    "train_binary_SVM(data, scale=True, kernel='poly', class_weight='balanced');"
   ]
  },
  {
   "cell_type": "markdown",
   "metadata": {},
   "source": [
    "### Logistic Regression"
   ]
  },
  {
   "cell_type": "code",
   "execution_count": 15,
   "metadata": {},
   "outputs": [],
   "source": [
    "def train_logistic_regression(data, class_weight = None, C=1.0):\n",
    "    err = 0\n",
    "    err_valid = 0\n",
    "    err_fraud = 0\n",
    "    confusion_mat = np.zeros((2, 2))\n",
    "    AU = 0\n",
    "    for i in range(5):\n",
    "        model = LogisticRegression(class_weight=class_weight, C=C)\n",
    "        \n",
    "        model.fit(np.delete(data, folds[i], axis=0), np.delete(labels, folds[i]))\n",
    "        pred = model.predict(data[folds[i]])\n",
    "        pred1 = model.predict_proba(data[folds[i]])[:,1]\n",
    "        #err_fold = np.sum((pred - labels[folds[i]])**2) / len(folds[i])\n",
    "        #pred_valid = model.predict(data[valid_splits[i]])\n",
    "        #err_valid_fold = np.sum((pred_valid - labels[valid_splits[i]])**2) / len(valid_splits[i])\n",
    "        #pred_fraud = model.predict(data[fraud_splits[i]])\n",
    "        #err_fraud_fold = np.sum((pred_fraud - labels[fraud_splits[i]])**2) / len(fraud_splits[i])\n",
    "        #print('Fold', i, 'Error:', err_fold, 'Valid Error:', err_valid_fold, 'Fraud Error', err_fraud_fold)\n",
    "        #err += err_fold\n",
    "        #err_valid += err_valid_fold\n",
    "        #err_fraud += err_fraud_fold\n",
    "        conf_mat = confusion_matrix(labels[folds[i]], pred)\n",
    "        fpr, tpr, thresholds = roc_curve(labels[folds[i]], pred1)\n",
    "        area_under_curve = auc(fpr, tpr)\n",
    "        AU += area_under_curve\n",
    "        print('Fold', i)\n",
    "        print(conf_mat)\n",
    "        print('Area under curve:', area_under_curve)\n",
    "\n",
    "        confusion_mat += conf_mat\n",
    "    AU/=5\n",
    "    confusion_mat /= 5\n",
    "    print('Final Confusion Matrix')\n",
    "    print(confusion_mat)\n",
    "    return confusion_mat, AU\n",
    "    #err /= 5\n",
    "    #err_valid /= 5\n",
    "    #err_fraud /= 5\n",
    "    #print('FINAL Error:', err, 'Valid Error:', err_valid, 'Fraud Error', err_fraud)\n",
    "    #return err, err_valid, err_fraud"
   ]
  },
  {
   "cell_type": "markdown",
   "metadata": {},
   "source": [
    "#### Logistic Regression with Scaling, Class Weights, and Regularization"
   ]
  },
  {
   "cell_type": "code",
   "execution_count": 16,
   "metadata": {},
   "outputs": [
    {
     "name": "stdout",
     "output_type": "stream",
     "text": [
      "Checking class weight None and coefficient 0.01\n",
      "Fold 0\n",
      "[[2842    1]\n",
      " [  19   80]]\n",
      "Area under curve: 0.9798086386197536\n",
      "Fold 1\n",
      "[[2842    1]\n",
      " [  21   78]]\n",
      "Area under curve: 0.9892488017707857\n",
      "Fold 2\n",
      "[[2842    1]\n",
      " [  18   80]]\n",
      "Area under curve: 0.9808157522593983\n",
      "Fold 3\n",
      "[[2843    0]\n",
      " [  17   81]]\n",
      "Area under curve: 0.9813325963519421\n",
      "Fold 4\n",
      "[[2842    1]\n",
      " [  16   82]]\n",
      "Area under curve: 0.9765805020566087\n",
      "Final Confusion Matrix\n",
      "[[2.8422e+03 8.0000e-01]\n",
      " [1.8200e+01 8.0200e+01]]\n",
      "F1 score: 0.8940914158305463\n",
      "Recall: 0.8150406504065041\n",
      "Precision: 0.9901234567901235\n",
      "AUC: 0.9815572582116978\n",
      "Checking class weight None and coefficient 0.016681005372000592\n"
     ]
    },
    {
     "name": "stderr",
     "output_type": "stream",
     "text": [
      "/home/rupesh/.virtualenvs/dana3/lib/python3.6/site-packages/sklearn/linear_model/logistic.py:432: FutureWarning: Default solver will be changed to 'lbfgs' in 0.22. Specify a solver to silence this warning.\n",
      "  FutureWarning)\n",
      "/home/rupesh/.virtualenvs/dana3/lib/python3.6/site-packages/sklearn/linear_model/logistic.py:432: FutureWarning: Default solver will be changed to 'lbfgs' in 0.22. Specify a solver to silence this warning.\n",
      "  FutureWarning)\n",
      "/home/rupesh/.virtualenvs/dana3/lib/python3.6/site-packages/sklearn/linear_model/logistic.py:432: FutureWarning: Default solver will be changed to 'lbfgs' in 0.22. Specify a solver to silence this warning.\n",
      "  FutureWarning)\n",
      "/home/rupesh/.virtualenvs/dana3/lib/python3.6/site-packages/sklearn/linear_model/logistic.py:432: FutureWarning: Default solver will be changed to 'lbfgs' in 0.22. Specify a solver to silence this warning.\n",
      "  FutureWarning)\n",
      "/home/rupesh/.virtualenvs/dana3/lib/python3.6/site-packages/sklearn/linear_model/logistic.py:432: FutureWarning: Default solver will be changed to 'lbfgs' in 0.22. Specify a solver to silence this warning.\n",
      "  FutureWarning)\n",
      "/home/rupesh/.virtualenvs/dana3/lib/python3.6/site-packages/sklearn/linear_model/logistic.py:432: FutureWarning: Default solver will be changed to 'lbfgs' in 0.22. Specify a solver to silence this warning.\n",
      "  FutureWarning)\n"
     ]
    },
    {
     "name": "stdout",
     "output_type": "stream",
     "text": [
      "Fold 0\n",
      "[[2842    1]\n",
      " [  18   81]]\n",
      "Area under curve: 0.9803060503025328\n",
      "Fold 1\n",
      "[[2842    1]\n",
      " [  21   78]]\n",
      "Area under curve: 0.9890640488600391\n",
      "Fold 2\n",
      "[[2842    1]\n",
      " [  16   82]]\n",
      "Area under curve: 0.98172022942135\n",
      "Fold 3\n",
      "[[2843    0]\n",
      " [  17   81]]\n",
      "Area under curve: 0.9814438613996427\n",
      "Fold 4\n",
      "[[2842    1]\n",
      " [  16   82]]\n",
      "Area under curve: 0.9783140832836827\n",
      "Final Confusion Matrix\n",
      "[[2.8422e+03 8.0000e-01]\n",
      " [1.7600e+01 8.0800e+01]]\n",
      "F1 score: 0.8977777777777778\n",
      "Recall: 0.8211382113821137\n",
      "Precision: 0.9901960784313726\n",
      "AUC: 0.9821696546534495\n",
      "Checking class weight None and coefficient 0.027825594022071243\n"
     ]
    },
    {
     "name": "stderr",
     "output_type": "stream",
     "text": [
      "/home/rupesh/.virtualenvs/dana3/lib/python3.6/site-packages/sklearn/linear_model/logistic.py:432: FutureWarning: Default solver will be changed to 'lbfgs' in 0.22. Specify a solver to silence this warning.\n",
      "  FutureWarning)\n",
      "/home/rupesh/.virtualenvs/dana3/lib/python3.6/site-packages/sklearn/linear_model/logistic.py:432: FutureWarning: Default solver will be changed to 'lbfgs' in 0.22. Specify a solver to silence this warning.\n",
      "  FutureWarning)\n",
      "/home/rupesh/.virtualenvs/dana3/lib/python3.6/site-packages/sklearn/linear_model/logistic.py:432: FutureWarning: Default solver will be changed to 'lbfgs' in 0.22. Specify a solver to silence this warning.\n",
      "  FutureWarning)\n",
      "/home/rupesh/.virtualenvs/dana3/lib/python3.6/site-packages/sklearn/linear_model/logistic.py:432: FutureWarning: Default solver will be changed to 'lbfgs' in 0.22. Specify a solver to silence this warning.\n",
      "  FutureWarning)\n",
      "/home/rupesh/.virtualenvs/dana3/lib/python3.6/site-packages/sklearn/linear_model/logistic.py:432: FutureWarning: Default solver will be changed to 'lbfgs' in 0.22. Specify a solver to silence this warning.\n",
      "  FutureWarning)\n"
     ]
    },
    {
     "name": "stdout",
     "output_type": "stream",
     "text": [
      "Fold 0\n",
      "[[2842    1]\n",
      " [  18   81]]\n",
      "Area under curve: 0.9805227796786011\n",
      "Fold 1\n",
      "[[2842    1]\n",
      " [  20   79]]\n",
      "Area under curve: 0.9885737430584424\n",
      "Fold 2\n",
      "[[2842    1]\n",
      " [  15   83]]\n",
      "Area under curve: 0.9824165332682492\n",
      "Fold 3\n",
      "[[2843    0]\n",
      " [  17   81]]\n",
      "Area under curve: 0.9814905209357752\n",
      "Fold 4\n",
      "[[2842    1]\n",
      " [  17   81]]\n",
      "Area under curve: 0.9798789723416627\n",
      "Final Confusion Matrix\n",
      "[[2.8422e+03 8.0000e-01]\n",
      " [1.7400e+01 8.1000e+01]]\n",
      "F1 score: 0.8990011098779134\n",
      "Recall: 0.823170731707317\n",
      "Precision: 0.9902200488997556\n",
      "AUC: 0.982576509856546\n",
      "Checking class weight None and coefficient 0.046415888336127774\n"
     ]
    },
    {
     "name": "stderr",
     "output_type": "stream",
     "text": [
      "/home/rupesh/.virtualenvs/dana3/lib/python3.6/site-packages/sklearn/linear_model/logistic.py:432: FutureWarning: Default solver will be changed to 'lbfgs' in 0.22. Specify a solver to silence this warning.\n",
      "  FutureWarning)\n",
      "/home/rupesh/.virtualenvs/dana3/lib/python3.6/site-packages/sklearn/linear_model/logistic.py:432: FutureWarning: Default solver will be changed to 'lbfgs' in 0.22. Specify a solver to silence this warning.\n",
      "  FutureWarning)\n",
      "/home/rupesh/.virtualenvs/dana3/lib/python3.6/site-packages/sklearn/linear_model/logistic.py:432: FutureWarning: Default solver will be changed to 'lbfgs' in 0.22. Specify a solver to silence this warning.\n",
      "  FutureWarning)\n",
      "/home/rupesh/.virtualenvs/dana3/lib/python3.6/site-packages/sklearn/linear_model/logistic.py:432: FutureWarning: Default solver will be changed to 'lbfgs' in 0.22. Specify a solver to silence this warning.\n",
      "  FutureWarning)\n",
      "/home/rupesh/.virtualenvs/dana3/lib/python3.6/site-packages/sklearn/linear_model/logistic.py:432: FutureWarning: Default solver will be changed to 'lbfgs' in 0.22. Specify a solver to silence this warning.\n",
      "  FutureWarning)\n"
     ]
    },
    {
     "name": "stdout",
     "output_type": "stream",
     "text": [
      "Fold 0\n",
      "[[2842    1]\n",
      " [  18   81]]\n",
      "Area under curve: 0.9806791090646174\n",
      "Fold 1\n",
      "[[2842    1]\n",
      " [  20   79]]\n",
      "Area under curve: 0.9879448725737856\n",
      "Fold 2\n",
      "[[2841    2]\n",
      " [  15   83]]\n",
      "Area under curve: 0.9829190205804447\n",
      "Fold 3\n",
      "[[2843    0]\n",
      " [  17   81]]\n",
      "Area under curve: 0.9815192344964718\n",
      "Fold 4\n",
      "[[2842    1]\n",
      " [  17   81]]\n",
      "Area under curve: 0.9808121630643111\n",
      "Final Confusion Matrix\n",
      "[[2.842e+03 1.000e+00]\n",
      " [1.740e+01 8.100e+01]]\n",
      "F1 score: 0.8980044345898003\n",
      "Recall: 0.823170731707317\n",
      "Precision: 0.9878048780487805\n",
      "AUC: 0.9827748799559262\n",
      "Checking class weight None and coefficient 0.0774263682681127\n"
     ]
    },
    {
     "name": "stderr",
     "output_type": "stream",
     "text": [
      "/home/rupesh/.virtualenvs/dana3/lib/python3.6/site-packages/sklearn/linear_model/logistic.py:432: FutureWarning: Default solver will be changed to 'lbfgs' in 0.22. Specify a solver to silence this warning.\n",
      "  FutureWarning)\n",
      "/home/rupesh/.virtualenvs/dana3/lib/python3.6/site-packages/sklearn/linear_model/logistic.py:432: FutureWarning: Default solver will be changed to 'lbfgs' in 0.22. Specify a solver to silence this warning.\n",
      "  FutureWarning)\n",
      "/home/rupesh/.virtualenvs/dana3/lib/python3.6/site-packages/sklearn/linear_model/logistic.py:432: FutureWarning: Default solver will be changed to 'lbfgs' in 0.22. Specify a solver to silence this warning.\n",
      "  FutureWarning)\n",
      "/home/rupesh/.virtualenvs/dana3/lib/python3.6/site-packages/sklearn/linear_model/logistic.py:432: FutureWarning: Default solver will be changed to 'lbfgs' in 0.22. Specify a solver to silence this warning.\n",
      "  FutureWarning)\n",
      "/home/rupesh/.virtualenvs/dana3/lib/python3.6/site-packages/sklearn/linear_model/logistic.py:432: FutureWarning: Default solver will be changed to 'lbfgs' in 0.22. Specify a solver to silence this warning.\n",
      "  FutureWarning)\n"
     ]
    },
    {
     "name": "stdout",
     "output_type": "stream",
     "text": [
      "Fold 0\n",
      "[[2842    1]\n",
      " [  18   81]]\n",
      "Area under curve: 0.9803628973519933\n",
      "Fold 1\n",
      "[[2842    1]\n",
      " [  20   79]]\n",
      "Area under curve: 0.9873692961979983\n",
      "Fold 2\n",
      "[[2840    3]\n",
      " [  15   83]]\n",
      "Area under curve: 0.9831666750414553\n",
      "Fold 3\n",
      "[[2843    0]\n",
      " [  17   81]]\n",
      "Area under curve: 0.981393612668423\n"
     ]
    },
    {
     "name": "stderr",
     "output_type": "stream",
     "text": [
      "/home/rupesh/.virtualenvs/dana3/lib/python3.6/site-packages/sklearn/linear_model/logistic.py:432: FutureWarning: Default solver will be changed to 'lbfgs' in 0.22. Specify a solver to silence this warning.\n",
      "  FutureWarning)\n",
      "/home/rupesh/.virtualenvs/dana3/lib/python3.6/site-packages/sklearn/linear_model/logistic.py:432: FutureWarning: Default solver will be changed to 'lbfgs' in 0.22. Specify a solver to silence this warning.\n",
      "  FutureWarning)\n",
      "/home/rupesh/.virtualenvs/dana3/lib/python3.6/site-packages/sklearn/linear_model/logistic.py:432: FutureWarning: Default solver will be changed to 'lbfgs' in 0.22. Specify a solver to silence this warning.\n",
      "  FutureWarning)\n",
      "/home/rupesh/.virtualenvs/dana3/lib/python3.6/site-packages/sklearn/linear_model/logistic.py:432: FutureWarning: Default solver will be changed to 'lbfgs' in 0.22. Specify a solver to silence this warning.\n",
      "  FutureWarning)\n"
     ]
    },
    {
     "name": "stdout",
     "output_type": "stream",
     "text": [
      "Fold 4\n",
      "[[2842    1]\n",
      " [  17   81]]\n",
      "Area under curve: 0.980740379162569\n",
      "Final Confusion Matrix\n",
      "[[2.8418e+03 1.2000e+00]\n",
      " [1.7400e+01 8.1000e+01]]\n",
      "F1 score: 0.8970099667774087\n",
      "Recall: 0.823170731707317\n",
      "Precision: 0.9854014598540146\n",
      "AUC: 0.9826065720844877\n",
      "Checking class weight None and coefficient 0.1291549665014884\n",
      "Fold 0\n",
      "[[2842    1]\n",
      " [  18   81]]\n",
      "Area under curve: 0.9799187797780833\n",
      "Fold 1\n",
      "[[2842    1]\n",
      " [  20   79]]\n",
      "Area under curve: 0.9867404257133416\n",
      "Fold 2\n",
      "[[2840    3]\n",
      " [  15   83]]\n",
      "Area under curve: 0.9836440379880408\n"
     ]
    },
    {
     "name": "stderr",
     "output_type": "stream",
     "text": [
      "/home/rupesh/.virtualenvs/dana3/lib/python3.6/site-packages/sklearn/linear_model/logistic.py:432: FutureWarning: Default solver will be changed to 'lbfgs' in 0.22. Specify a solver to silence this warning.\n",
      "  FutureWarning)\n",
      "/home/rupesh/.virtualenvs/dana3/lib/python3.6/site-packages/sklearn/linear_model/logistic.py:432: FutureWarning: Default solver will be changed to 'lbfgs' in 0.22. Specify a solver to silence this warning.\n",
      "  FutureWarning)\n",
      "/home/rupesh/.virtualenvs/dana3/lib/python3.6/site-packages/sklearn/linear_model/logistic.py:432: FutureWarning: Default solver will be changed to 'lbfgs' in 0.22. Specify a solver to silence this warning.\n",
      "  FutureWarning)\n",
      "/home/rupesh/.virtualenvs/dana3/lib/python3.6/site-packages/sklearn/linear_model/logistic.py:432: FutureWarning: Default solver will be changed to 'lbfgs' in 0.22. Specify a solver to silence this warning.\n",
      "  FutureWarning)\n"
     ]
    },
    {
     "name": "stdout",
     "output_type": "stream",
     "text": [
      "Fold 3\n",
      "[[2842    1]\n",
      " [  16   82]]\n",
      "Area under curve: 0.981095709476193\n",
      "Fold 4\n",
      "[[2842    1]\n",
      " [  17   81]]\n",
      "Area under curve: 0.9804640111408616\n",
      "Final Confusion Matrix\n",
      "[[2.8416e+03 1.4000e+00]\n",
      " [1.7200e+01 8.1200e+01]]\n",
      "F1 score: 0.8972375690607735\n",
      "Recall: 0.8252032520325203\n",
      "Precision: 0.983050847457627\n",
      "AUC: 0.9823725928193042\n",
      "Checking class weight None and coefficient 0.21544346900318834\n",
      "Fold 0\n",
      "[[2842    1]\n",
      " [  18   81]]\n",
      "Area under curve: 0.9793645210458435\n",
      "Fold 1\n",
      "[[2842    1]\n",
      " [  20   79]]\n",
      "Area under curve: 0.9860404964168594\n"
     ]
    },
    {
     "name": "stderr",
     "output_type": "stream",
     "text": [
      "/home/rupesh/.virtualenvs/dana3/lib/python3.6/site-packages/sklearn/linear_model/logistic.py:432: FutureWarning: Default solver will be changed to 'lbfgs' in 0.22. Specify a solver to silence this warning.\n",
      "  FutureWarning)\n",
      "/home/rupesh/.virtualenvs/dana3/lib/python3.6/site-packages/sklearn/linear_model/logistic.py:432: FutureWarning: Default solver will be changed to 'lbfgs' in 0.22. Specify a solver to silence this warning.\n",
      "  FutureWarning)\n",
      "/home/rupesh/.virtualenvs/dana3/lib/python3.6/site-packages/sklearn/linear_model/logistic.py:432: FutureWarning: Default solver will be changed to 'lbfgs' in 0.22. Specify a solver to silence this warning.\n",
      "  FutureWarning)\n",
      "/home/rupesh/.virtualenvs/dana3/lib/python3.6/site-packages/sklearn/linear_model/logistic.py:432: FutureWarning: Default solver will be changed to 'lbfgs' in 0.22. Specify a solver to silence this warning.\n",
      "  FutureWarning)\n"
     ]
    },
    {
     "name": "stdout",
     "output_type": "stream",
     "text": [
      "Fold 2\n",
      "[[2840    3]\n",
      " [  15   83]]\n",
      "Area under curve: 0.9839814223262291\n",
      "Fold 3\n",
      "[[2842    1]\n",
      " [  15   83]]\n",
      "Area under curve: 0.9805788653836489\n",
      "Fold 4\n",
      "[[2842    1]\n",
      " [  18   80]]\n",
      "Area under curve: 0.9798897399269241\n",
      "Final Confusion Matrix\n",
      "[[2.8416e+03 1.4000e+00]\n",
      " [1.7200e+01 8.1200e+01]]\n",
      "F1 score: 0.8972375690607735\n",
      "Recall: 0.8252032520325203\n",
      "Precision: 0.983050847457627\n",
      "AUC: 0.981971009019901\n",
      "Checking class weight None and coefficient 0.3593813663804626\n",
      "Fold 0\n",
      "[[2842    1]\n",
      " [  18   81]]\n",
      "Area under curve: 0.9790340975708546\n"
     ]
    },
    {
     "name": "stderr",
     "output_type": "stream",
     "text": [
      "/home/rupesh/.virtualenvs/dana3/lib/python3.6/site-packages/sklearn/linear_model/logistic.py:432: FutureWarning: Default solver will be changed to 'lbfgs' in 0.22. Specify a solver to silence this warning.\n",
      "  FutureWarning)\n",
      "/home/rupesh/.virtualenvs/dana3/lib/python3.6/site-packages/sklearn/linear_model/logistic.py:432: FutureWarning: Default solver will be changed to 'lbfgs' in 0.22. Specify a solver to silence this warning.\n",
      "  FutureWarning)\n",
      "/home/rupesh/.virtualenvs/dana3/lib/python3.6/site-packages/sklearn/linear_model/logistic.py:432: FutureWarning: Default solver will be changed to 'lbfgs' in 0.22. Specify a solver to silence this warning.\n",
      "  FutureWarning)\n",
      "/home/rupesh/.virtualenvs/dana3/lib/python3.6/site-packages/sklearn/linear_model/logistic.py:432: FutureWarning: Default solver will be changed to 'lbfgs' in 0.22. Specify a solver to silence this warning.\n",
      "  FutureWarning)\n"
     ]
    },
    {
     "name": "stdout",
     "output_type": "stream",
     "text": [
      "Fold 1\n",
      "[[2842    1]\n",
      " [  20   79]]\n",
      "Area under curve: 0.9853334612391945\n",
      "Fold 2\n",
      "[[2840    3]\n",
      " [  14   84]]\n",
      "Area under curve: 0.9842972714938948\n",
      "Fold 3\n",
      "[[2841    2]\n",
      " [  15   83]]\n",
      "Area under curve: 0.9801086808272376\n",
      "Fold 4\n",
      "[[2842    1]\n",
      " [  18   80]]\n",
      "Area under curve: 0.9793693066392931\n",
      "Final Confusion Matrix\n",
      "[[2.8414e+03 1.6000e+00]\n",
      " [1.7000e+01 8.1400e+01]]\n",
      "F1 score: 0.8974641675854466\n",
      "Recall: 0.8272357723577236\n",
      "Precision: 0.9807228915662651\n",
      "AUC: 0.9816285635540949\n",
      "Checking class weight None and coefficient 0.5994842503189409\n"
     ]
    },
    {
     "name": "stderr",
     "output_type": "stream",
     "text": [
      "/home/rupesh/.virtualenvs/dana3/lib/python3.6/site-packages/sklearn/linear_model/logistic.py:432: FutureWarning: Default solver will be changed to 'lbfgs' in 0.22. Specify a solver to silence this warning.\n",
      "  FutureWarning)\n",
      "/home/rupesh/.virtualenvs/dana3/lib/python3.6/site-packages/sklearn/linear_model/logistic.py:432: FutureWarning: Default solver will be changed to 'lbfgs' in 0.22. Specify a solver to silence this warning.\n",
      "  FutureWarning)\n",
      "/home/rupesh/.virtualenvs/dana3/lib/python3.6/site-packages/sklearn/linear_model/logistic.py:432: FutureWarning: Default solver will be changed to 'lbfgs' in 0.22. Specify a solver to silence this warning.\n",
      "  FutureWarning)\n",
      "/home/rupesh/.virtualenvs/dana3/lib/python3.6/site-packages/sklearn/linear_model/logistic.py:432: FutureWarning: Default solver will be changed to 'lbfgs' in 0.22. Specify a solver to silence this warning.\n",
      "  FutureWarning)\n"
     ]
    },
    {
     "name": "stdout",
     "output_type": "stream",
     "text": [
      "Fold 0\n",
      "[[2842    1]\n",
      " [  18   81]]\n",
      "Area under curve: 0.9785544505910316\n",
      "Fold 1\n",
      "[[2842    1]\n",
      " [  20   79]]\n",
      "Area under curve: 0.9847614378039985\n",
      "Fold 2\n",
      "[[2840    3]\n",
      " [  14   84]]\n",
      "Area under curve: 0.9845700503205151\n"
     ]
    },
    {
     "name": "stderr",
     "output_type": "stream",
     "text": [
      "/home/rupesh/.virtualenvs/dana3/lib/python3.6/site-packages/sklearn/linear_model/logistic.py:432: FutureWarning: Default solver will be changed to 'lbfgs' in 0.22. Specify a solver to silence this warning.\n",
      "  FutureWarning)\n",
      "/home/rupesh/.virtualenvs/dana3/lib/python3.6/site-packages/sklearn/linear_model/logistic.py:432: FutureWarning: Default solver will be changed to 'lbfgs' in 0.22. Specify a solver to silence this warning.\n",
      "  FutureWarning)\n",
      "/home/rupesh/.virtualenvs/dana3/lib/python3.6/site-packages/sklearn/linear_model/logistic.py:432: FutureWarning: Default solver will be changed to 'lbfgs' in 0.22. Specify a solver to silence this warning.\n",
      "  FutureWarning)\n"
     ]
    },
    {
     "name": "stdout",
     "output_type": "stream",
     "text": [
      "Fold 3\n",
      "[[2841    2]\n",
      " [  15   83]]\n",
      "Area under curve: 0.9796636206364361\n",
      "Fold 4\n",
      "[[2842    1]\n",
      " [  18   80]]\n",
      "Area under curve: 0.9788955328877945\n",
      "Final Confusion Matrix\n",
      "[[2.8414e+03 1.6000e+00]\n",
      " [1.7000e+01 8.1400e+01]]\n",
      "F1 score: 0.8974641675854466\n",
      "Recall: 0.8272357723577236\n",
      "Precision: 0.9807228915662651\n",
      "AUC: 0.9812890184479551\n",
      "Checking class weight None and coefficient 1.0\n",
      "Fold 0\n",
      "[[2842    1]\n",
      " [  18   81]]\n",
      "Area under curve: 0.9781174388983043\n"
     ]
    },
    {
     "name": "stderr",
     "output_type": "stream",
     "text": [
      "/home/rupesh/.virtualenvs/dana3/lib/python3.6/site-packages/sklearn/linear_model/logistic.py:432: FutureWarning: Default solver will be changed to 'lbfgs' in 0.22. Specify a solver to silence this warning.\n",
      "  FutureWarning)\n",
      "/home/rupesh/.virtualenvs/dana3/lib/python3.6/site-packages/sklearn/linear_model/logistic.py:432: FutureWarning: Default solver will be changed to 'lbfgs' in 0.22. Specify a solver to silence this warning.\n",
      "  FutureWarning)\n",
      "/home/rupesh/.virtualenvs/dana3/lib/python3.6/site-packages/sklearn/linear_model/logistic.py:432: FutureWarning: Default solver will be changed to 'lbfgs' in 0.22. Specify a solver to silence this warning.\n",
      "  FutureWarning)\n"
     ]
    },
    {
     "name": "stdout",
     "output_type": "stream",
     "text": [
      "Fold 1\n",
      "[[2842    1]\n",
      " [  20   79]]\n",
      "Area under curve: 0.9843564025765925\n",
      "Fold 2\n",
      "[[2840    3]\n",
      " [  14   84]]\n",
      "Area under curve: 0.984760277660132\n",
      "Fold 3\n",
      "[[2841    2]\n",
      " [  15   83]]\n",
      "Area under curve: 0.9793298254933348\n"
     ]
    },
    {
     "name": "stderr",
     "output_type": "stream",
     "text": [
      "/home/rupesh/.virtualenvs/dana3/lib/python3.6/site-packages/sklearn/linear_model/logistic.py:432: FutureWarning: Default solver will be changed to 'lbfgs' in 0.22. Specify a solver to silence this warning.\n",
      "  FutureWarning)\n",
      "/home/rupesh/.virtualenvs/dana3/lib/python3.6/site-packages/sklearn/linear_model/logistic.py:432: FutureWarning: Default solver will be changed to 'lbfgs' in 0.22. Specify a solver to silence this warning.\n",
      "  FutureWarning)\n",
      "/home/rupesh/.virtualenvs/dana3/lib/python3.6/site-packages/sklearn/linear_model/logistic.py:432: FutureWarning: Default solver will be changed to 'lbfgs' in 0.22. Specify a solver to silence this warning.\n",
      "  FutureWarning)\n"
     ]
    },
    {
     "name": "stdout",
     "output_type": "stream",
     "text": [
      "Fold 4\n",
      "[[2842    1]\n",
      " [  19   79]]\n",
      "Area under curve: 0.9783140832836829\n",
      "Final Confusion Matrix\n",
      "[[2.8414e+03 1.6000e+00]\n",
      " [1.7200e+01 8.1200e+01]]\n",
      "F1 score: 0.8962472406181017\n",
      "Recall: 0.8252032520325203\n",
      "Precision: 0.9806763285024155\n",
      "AUC: 0.9809756055824094\n",
      "Checking class weight balanced and coefficient 0.01\n",
      "Fold 0\n",
      "[[2780   63]\n",
      " [  11   88]]\n",
      "Area under curve: 0.9773286860870399\n",
      "Fold 1\n",
      "[[2797   46]\n",
      " [   7   92]]\n",
      "Area under curve: 0.9850812024572138\n",
      "Fold 2\n",
      "[[2766   77]\n",
      " [   9   89]]\n",
      "Area under curve: 0.9848105263913515\n"
     ]
    },
    {
     "name": "stderr",
     "output_type": "stream",
     "text": [
      "/home/rupesh/.virtualenvs/dana3/lib/python3.6/site-packages/sklearn/linear_model/logistic.py:432: FutureWarning: Default solver will be changed to 'lbfgs' in 0.22. Specify a solver to silence this warning.\n",
      "  FutureWarning)\n",
      "/home/rupesh/.virtualenvs/dana3/lib/python3.6/site-packages/sklearn/linear_model/logistic.py:432: FutureWarning: Default solver will be changed to 'lbfgs' in 0.22. Specify a solver to silence this warning.\n",
      "  FutureWarning)\n",
      "/home/rupesh/.virtualenvs/dana3/lib/python3.6/site-packages/sklearn/linear_model/logistic.py:432: FutureWarning: Default solver will be changed to 'lbfgs' in 0.22. Specify a solver to silence this warning.\n",
      "  FutureWarning)\n",
      "/home/rupesh/.virtualenvs/dana3/lib/python3.6/site-packages/sklearn/linear_model/logistic.py:432: FutureWarning: Default solver will be changed to 'lbfgs' in 0.22. Specify a solver to silence this warning.\n",
      "  FutureWarning)\n"
     ]
    },
    {
     "name": "stdout",
     "output_type": "stream",
     "text": [
      "Fold 3\n",
      "[[2772   71]\n",
      " [  10   88]]\n",
      "Area under curve: 0.9779515745798848\n",
      "Fold 4\n",
      "[[2793   50]\n",
      " [  12   86]]\n",
      "Area under curve: 0.9804245299949033\n",
      "Final Confusion Matrix\n",
      "[[2781.6   61.4]\n",
      " [   9.8   88.6]]\n",
      "F1 score: 0.7133655394524959\n",
      "Recall: 0.9004065040650406\n",
      "Precision: 0.5906666666666667\n",
      "AUC: 0.9811193039020786\n",
      "Checking class weight balanced and coefficient 0.016681005372000592\n",
      "Fold 0\n",
      "[[2779   64]\n",
      " [  11   88]]\n",
      "Area under curve: 0.9770799802456503\n",
      "Fold 1\n",
      "[[2789   54]\n",
      " [   6   93]]\n",
      "Area under curve: 0.9849817201206579\n"
     ]
    },
    {
     "name": "stderr",
     "output_type": "stream",
     "text": [
      "/home/rupesh/.virtualenvs/dana3/lib/python3.6/site-packages/sklearn/linear_model/logistic.py:432: FutureWarning: Default solver will be changed to 'lbfgs' in 0.22. Specify a solver to silence this warning.\n",
      "  FutureWarning)\n",
      "/home/rupesh/.virtualenvs/dana3/lib/python3.6/site-packages/sklearn/linear_model/logistic.py:432: FutureWarning: Default solver will be changed to 'lbfgs' in 0.22. Specify a solver to silence this warning.\n",
      "  FutureWarning)\n",
      "/home/rupesh/.virtualenvs/dana3/lib/python3.6/site-packages/sklearn/linear_model/logistic.py:432: FutureWarning: Default solver will be changed to 'lbfgs' in 0.22. Specify a solver to silence this warning.\n",
      "  FutureWarning)\n",
      "/home/rupesh/.virtualenvs/dana3/lib/python3.6/site-packages/sklearn/linear_model/logistic.py:432: FutureWarning: Default solver will be changed to 'lbfgs' in 0.22. Specify a solver to silence this warning.\n",
      "  FutureWarning)\n"
     ]
    },
    {
     "name": "stdout",
     "output_type": "stream",
     "text": [
      "Fold 2\n",
      "[[2762   81]\n",
      " [   9   89]]\n",
      "Area under curve: 0.9847136181239995\n",
      "Fold 3\n",
      "[[2773   70]\n",
      " [  10   88]]\n",
      "Area under curve: 0.9777541688500938\n",
      "Fold 4\n",
      "[[2792   51]\n",
      " [  11   87]]\n",
      "Area under curve: 0.9802271242651123\n",
      "Final Confusion Matrix\n",
      "[[2779.    64. ]\n",
      " [   9.4   89. ]]\n",
      "F1 score: 0.7080350039777247\n",
      "Recall: 0.9044715447154471\n",
      "Precision: 0.5816993464052288\n",
      "AUC: 0.9809513223211027\n",
      "Checking class weight balanced and coefficient 0.027825594022071243\n",
      "Fold 0\n",
      "[[2778   65]\n",
      " [  10   89]]\n",
      "Area under curve: 0.9766713920776531\n"
     ]
    },
    {
     "name": "stderr",
     "output_type": "stream",
     "text": [
      "/home/rupesh/.virtualenvs/dana3/lib/python3.6/site-packages/sklearn/linear_model/logistic.py:432: FutureWarning: Default solver will be changed to 'lbfgs' in 0.22. Specify a solver to silence this warning.\n",
      "  FutureWarning)\n",
      "/home/rupesh/.virtualenvs/dana3/lib/python3.6/site-packages/sklearn/linear_model/logistic.py:432: FutureWarning: Default solver will be changed to 'lbfgs' in 0.22. Specify a solver to silence this warning.\n",
      "  FutureWarning)\n",
      "/home/rupesh/.virtualenvs/dana3/lib/python3.6/site-packages/sklearn/linear_model/logistic.py:432: FutureWarning: Default solver will be changed to 'lbfgs' in 0.22. Specify a solver to silence this warning.\n",
      "  FutureWarning)\n",
      "/home/rupesh/.virtualenvs/dana3/lib/python3.6/site-packages/sklearn/linear_model/logistic.py:432: FutureWarning: Default solver will be changed to 'lbfgs' in 0.22. Specify a solver to silence this warning.\n",
      "  FutureWarning)\n"
     ]
    },
    {
     "name": "stdout",
     "output_type": "stream",
     "text": [
      "Fold 1\n",
      "[[2788   55]\n",
      " [   6   93]]\n",
      "Area under curve: 0.9848893436652846\n",
      "Fold 2\n",
      "[[2762   81]\n",
      " [   9   89]]\n",
      "Area under curve: 0.9846167098566475\n",
      "Fold 3\n",
      "[[2772   71]\n",
      " [  10   88]]\n",
      "Area under curve: 0.9774849792185605\n",
      "Fold 4\n",
      "[[2793   50]\n",
      " [  11   87]]\n",
      "Area under curve: 0.9797497613185269\n",
      "Final Confusion Matrix\n",
      "[[2778.6   64.4]\n",
      " [   9.2   89.2]]\n",
      "F1 score: 0.7079365079365079\n",
      "Recall: 0.9065040650406504\n",
      "Precision: 0.5807291666666666\n",
      "AUC: 0.9806824372273345\n",
      "Checking class weight balanced and coefficient 0.046415888336127774\n"
     ]
    },
    {
     "name": "stderr",
     "output_type": "stream",
     "text": [
      "/home/rupesh/.virtualenvs/dana3/lib/python3.6/site-packages/sklearn/linear_model/logistic.py:432: FutureWarning: Default solver will be changed to 'lbfgs' in 0.22. Specify a solver to silence this warning.\n",
      "  FutureWarning)\n",
      "/home/rupesh/.virtualenvs/dana3/lib/python3.6/site-packages/sklearn/linear_model/logistic.py:432: FutureWarning: Default solver will be changed to 'lbfgs' in 0.22. Specify a solver to silence this warning.\n",
      "  FutureWarning)\n",
      "/home/rupesh/.virtualenvs/dana3/lib/python3.6/site-packages/sklearn/linear_model/logistic.py:432: FutureWarning: Default solver will be changed to 'lbfgs' in 0.22. Specify a solver to silence this warning.\n",
      "  FutureWarning)\n",
      "/home/rupesh/.virtualenvs/dana3/lib/python3.6/site-packages/sklearn/linear_model/logistic.py:432: FutureWarning: Default solver will be changed to 'lbfgs' in 0.22. Specify a solver to silence this warning.\n",
      "  FutureWarning)\n"
     ]
    },
    {
     "name": "stdout",
     "output_type": "stream",
     "text": [
      "Fold 0\n",
      "[[2774   69]\n",
      " [  10   89]]\n",
      "Area under curve: 0.9764404509392198\n",
      "Fold 1\n",
      "[[2787   56]\n",
      " [   6   93]]\n",
      "Area under curve: 0.9847792025069548\n",
      "Fold 2\n",
      "[[2759   84]\n",
      " [   9   89]]\n",
      "Area under curve: 0.9845054448089472\n",
      "Fold 3\n",
      "[[2773   70]\n",
      " [  10   88]]\n",
      "Area under curve: 0.9771798976361561\n"
     ]
    },
    {
     "name": "stderr",
     "output_type": "stream",
     "text": [
      "/home/rupesh/.virtualenvs/dana3/lib/python3.6/site-packages/sklearn/linear_model/logistic.py:432: FutureWarning: Default solver will be changed to 'lbfgs' in 0.22. Specify a solver to silence this warning.\n",
      "  FutureWarning)\n",
      "/home/rupesh/.virtualenvs/dana3/lib/python3.6/site-packages/sklearn/linear_model/logistic.py:432: FutureWarning: Default solver will be changed to 'lbfgs' in 0.22. Specify a solver to silence this warning.\n",
      "  FutureWarning)\n",
      "/home/rupesh/.virtualenvs/dana3/lib/python3.6/site-packages/sklearn/linear_model/logistic.py:432: FutureWarning: Default solver will be changed to 'lbfgs' in 0.22. Specify a solver to silence this warning.\n",
      "  FutureWarning)\n",
      "/home/rupesh/.virtualenvs/dana3/lib/python3.6/site-packages/sklearn/linear_model/logistic.py:432: FutureWarning: Default solver will be changed to 'lbfgs' in 0.22. Specify a solver to silence this warning.\n",
      "  FutureWarning)\n"
     ]
    },
    {
     "name": "stdout",
     "output_type": "stream",
     "text": [
      "Fold 4\n",
      "[[2788   55]\n",
      " [  11   87]]\n",
      "Area under curve: 0.9793764850294673\n",
      "Final Confusion Matrix\n",
      "[[2776.2   66.8]\n",
      " [   9.2   89.2]]\n",
      "F1 score: 0.7012578616352201\n",
      "Recall: 0.9065040650406504\n",
      "Precision: 0.5717948717948718\n",
      "AUC: 0.9804562961841491\n",
      "Checking class weight balanced and coefficient 0.0774263682681127\n",
      "Fold 0\n",
      "[[2773   70]\n",
      " [  10   89]]\n",
      "Area under curve: 0.9762059568601954\n",
      "Fold 1\n",
      "[[2786   57]\n",
      " [   6   93]]\n",
      "Area under curve: 0.9845482613685217\n"
     ]
    },
    {
     "name": "stderr",
     "output_type": "stream",
     "text": [
      "/home/rupesh/.virtualenvs/dana3/lib/python3.6/site-packages/sklearn/linear_model/logistic.py:432: FutureWarning: Default solver will be changed to 'lbfgs' in 0.22. Specify a solver to silence this warning.\n",
      "  FutureWarning)\n",
      "/home/rupesh/.virtualenvs/dana3/lib/python3.6/site-packages/sklearn/linear_model/logistic.py:432: FutureWarning: Default solver will be changed to 'lbfgs' in 0.22. Specify a solver to silence this warning.\n",
      "  FutureWarning)\n",
      "/home/rupesh/.virtualenvs/dana3/lib/python3.6/site-packages/sklearn/linear_model/logistic.py:432: FutureWarning: Default solver will be changed to 'lbfgs' in 0.22. Specify a solver to silence this warning.\n",
      "  FutureWarning)\n"
     ]
    },
    {
     "name": "stdout",
     "output_type": "stream",
     "text": [
      "Fold 2\n",
      "[[2757   86]\n",
      " [   9   89]]\n",
      "Area under curve: 0.9844372501022921\n",
      "Fold 3\n",
      "[[2772   71]\n",
      " [  10   88]]\n",
      "Area under curve: 0.9770399190277588\n",
      "Fold 4\n",
      "[[2785   58]\n",
      " [  11   87]]\n",
      "Area under curve: 0.9792077928603732\n",
      "Final Confusion Matrix\n",
      "[[2774.6   68.4]\n",
      " [   9.2   89.2]]\n",
      "F1 score: 0.6968749999999999\n",
      "Recall: 0.9065040650406504\n",
      "Precision: 0.565989847715736\n",
      "AUC: 0.9802878360438282\n",
      "Checking class weight balanced and coefficient 0.1291549665014884\n"
     ]
    },
    {
     "name": "stderr",
     "output_type": "stream",
     "text": [
      "/home/rupesh/.virtualenvs/dana3/lib/python3.6/site-packages/sklearn/linear_model/logistic.py:432: FutureWarning: Default solver will be changed to 'lbfgs' in 0.22. Specify a solver to silence this warning.\n",
      "  FutureWarning)\n",
      "/home/rupesh/.virtualenvs/dana3/lib/python3.6/site-packages/sklearn/linear_model/logistic.py:432: FutureWarning: Default solver will be changed to 'lbfgs' in 0.22. Specify a solver to silence this warning.\n",
      "  FutureWarning)\n",
      "/home/rupesh/.virtualenvs/dana3/lib/python3.6/site-packages/sklearn/linear_model/logistic.py:432: FutureWarning: Default solver will be changed to 'lbfgs' in 0.22. Specify a solver to silence this warning.\n",
      "  FutureWarning)\n"
     ]
    },
    {
     "name": "stdout",
     "output_type": "stream",
     "text": [
      "Fold 0\n",
      "[[2773   70]\n",
      " [  10   89]]\n",
      "Area under curve: 0.9759963333653098\n",
      "Fold 1\n",
      "[[2787   56]\n",
      " [   6   93]]\n",
      "Area under curve: 0.9841538849628896\n",
      "Fold 2\n",
      "[[2757   86]\n",
      " [   9   89]]\n",
      "Area under curve: 0.9844049473465081\n"
     ]
    },
    {
     "name": "stderr",
     "output_type": "stream",
     "text": [
      "/home/rupesh/.virtualenvs/dana3/lib/python3.6/site-packages/sklearn/linear_model/logistic.py:432: FutureWarning: Default solver will be changed to 'lbfgs' in 0.22. Specify a solver to silence this warning.\n",
      "  FutureWarning)\n",
      "/home/rupesh/.virtualenvs/dana3/lib/python3.6/site-packages/sklearn/linear_model/logistic.py:432: FutureWarning: Default solver will be changed to 'lbfgs' in 0.22. Specify a solver to silence this warning.\n",
      "  FutureWarning)\n",
      "/home/rupesh/.virtualenvs/dana3/lib/python3.6/site-packages/sklearn/linear_model/logistic.py:432: FutureWarning: Default solver will be changed to 'lbfgs' in 0.22. Specify a solver to silence this warning.\n",
      "  FutureWarning)\n"
     ]
    },
    {
     "name": "stdout",
     "output_type": "stream",
     "text": [
      "Fold 3\n",
      "[[2770   73]\n",
      " [  10   88]]\n",
      "Area under curve: 0.9769322431751455\n",
      "Fold 4\n",
      "[[2785   58]\n",
      " [  11   87]]\n",
      "Area under curve: 0.979103706202847\n",
      "Final Confusion Matrix\n",
      "[[2774.4   68.6]\n",
      " [   9.2   89.2]]\n",
      "F1 score: 0.6963309914129586\n",
      "Recall: 0.9065040650406504\n",
      "Precision: 0.5652724968314322\n",
      "AUC: 0.9801182230105401\n",
      "Checking class weight balanced and coefficient 0.21544346900318834\n",
      "Fold 0\n",
      "[[2770   73]\n",
      " [   9   90]]\n",
      "Area under curve: 0.9758826392663889\n"
     ]
    },
    {
     "name": "stderr",
     "output_type": "stream",
     "text": [
      "/home/rupesh/.virtualenvs/dana3/lib/python3.6/site-packages/sklearn/linear_model/logistic.py:432: FutureWarning: Default solver will be changed to 'lbfgs' in 0.22. Specify a solver to silence this warning.\n",
      "  FutureWarning)\n",
      "/home/rupesh/.virtualenvs/dana3/lib/python3.6/site-packages/sklearn/linear_model/logistic.py:432: FutureWarning: Default solver will be changed to 'lbfgs' in 0.22. Specify a solver to silence this warning.\n",
      "  FutureWarning)\n",
      "/home/rupesh/.virtualenvs/dana3/lib/python3.6/site-packages/sklearn/linear_model/logistic.py:432: FutureWarning: Default solver will be changed to 'lbfgs' in 0.22. Specify a solver to silence this warning.\n",
      "  FutureWarning)\n"
     ]
    },
    {
     "name": "stdout",
     "output_type": "stream",
     "text": [
      "Fold 1\n",
      "[[2785   58]\n",
      " [   6   93]]\n",
      "Area under curve: 0.9837666144384399\n",
      "Fold 2\n",
      "[[2758   85]\n",
      " [   9   89]]\n",
      "Area under curve: 0.9844480176875535\n",
      "Fold 3\n",
      "[[2769   74]\n",
      " [  10   88]]\n",
      "Area under curve: 0.9768353349077936\n"
     ]
    },
    {
     "name": "stderr",
     "output_type": "stream",
     "text": [
      "/home/rupesh/.virtualenvs/dana3/lib/python3.6/site-packages/sklearn/linear_model/logistic.py:432: FutureWarning: Default solver will be changed to 'lbfgs' in 0.22. Specify a solver to silence this warning.\n",
      "  FutureWarning)\n",
      "/home/rupesh/.virtualenvs/dana3/lib/python3.6/site-packages/sklearn/linear_model/logistic.py:432: FutureWarning: Default solver will be changed to 'lbfgs' in 0.22. Specify a solver to silence this warning.\n",
      "  FutureWarning)\n",
      "/home/rupesh/.virtualenvs/dana3/lib/python3.6/site-packages/sklearn/linear_model/logistic.py:432: FutureWarning: Default solver will be changed to 'lbfgs' in 0.22. Specify a solver to silence this warning.\n",
      "  FutureWarning)\n"
     ]
    },
    {
     "name": "stdout",
     "output_type": "stream",
     "text": [
      "Fold 4\n",
      "[[2784   59]\n",
      " [  11   87]]\n",
      "Area under curve: 0.9789709059846239\n",
      "Final Confusion Matrix\n",
      "[[2773.2   69.8]\n",
      " [   9.    89.4]]\n",
      "F1 score: 0.6940993788819876\n",
      "Recall: 0.9085365853658537\n",
      "Precision: 0.5615577889447237\n",
      "AUC: 0.9799807024569599\n",
      "Checking class weight balanced and coefficient 0.3593813663804626\n",
      "Fold 0\n",
      "[[2770   73]\n",
      " [   9   90]]\n",
      "Area under curve: 0.9759181686723016\n",
      "Fold 1\n",
      "[[2781   62]\n",
      " [   6   93]]\n",
      "Area under curve: 0.9834894850723201\n"
     ]
    },
    {
     "name": "stderr",
     "output_type": "stream",
     "text": [
      "/home/rupesh/.virtualenvs/dana3/lib/python3.6/site-packages/sklearn/linear_model/logistic.py:432: FutureWarning: Default solver will be changed to 'lbfgs' in 0.22. Specify a solver to silence this warning.\n",
      "  FutureWarning)\n",
      "/home/rupesh/.virtualenvs/dana3/lib/python3.6/site-packages/sklearn/linear_model/logistic.py:432: FutureWarning: Default solver will be changed to 'lbfgs' in 0.22. Specify a solver to silence this warning.\n",
      "  FutureWarning)\n",
      "/home/rupesh/.virtualenvs/dana3/lib/python3.6/site-packages/sklearn/linear_model/logistic.py:432: FutureWarning: Default solver will be changed to 'lbfgs' in 0.22. Specify a solver to silence this warning.\n",
      "  FutureWarning)\n"
     ]
    },
    {
     "name": "stdout",
     "output_type": "stream",
     "text": [
      "Fold 2\n",
      "[[2758   85]\n",
      " [   9   89]]\n",
      "Area under curve: 0.9844516068826406\n",
      "Fold 3\n",
      "[[2770   73]\n",
      " [  10   88]]\n",
      "Area under curve: 0.9768568700783163\n",
      "Fold 4\n",
      "[[2784   59]\n",
      " [  11   87]]\n",
      "Area under curve: 0.978873997717272\n",
      "Final Confusion Matrix\n",
      "[[2772.6   70.4]\n",
      " [   9.    89.4]]\n",
      "F1 score: 0.6924864446165764\n",
      "Recall: 0.9085365853658537\n",
      "Precision: 0.5594493116395495\n",
      "AUC: 0.9799180256845702\n",
      "Checking class weight balanced and coefficient 0.5994842503189409\n"
     ]
    },
    {
     "name": "stderr",
     "output_type": "stream",
     "text": [
      "/home/rupesh/.virtualenvs/dana3/lib/python3.6/site-packages/sklearn/linear_model/logistic.py:432: FutureWarning: Default solver will be changed to 'lbfgs' in 0.22. Specify a solver to silence this warning.\n",
      "  FutureWarning)\n",
      "/home/rupesh/.virtualenvs/dana3/lib/python3.6/site-packages/sklearn/linear_model/logistic.py:432: FutureWarning: Default solver will be changed to 'lbfgs' in 0.22. Specify a solver to silence this warning.\n",
      "  FutureWarning)\n",
      "/home/rupesh/.virtualenvs/dana3/lib/python3.6/site-packages/sklearn/linear_model/logistic.py:432: FutureWarning: Default solver will be changed to 'lbfgs' in 0.22. Specify a solver to silence this warning.\n",
      "  FutureWarning)\n"
     ]
    },
    {
     "name": "stdout",
     "output_type": "stream",
     "text": [
      "Fold 0\n",
      "[[2768   75]\n",
      " [   9   90]]\n",
      "Area under curve: 0.9759483686673276\n",
      "Fold 1\n",
      "[[2780   63]\n",
      " [   6   93]]\n",
      "Area under curve: 0.9833793439139905\n",
      "Fold 2\n",
      "[[2757   86]\n",
      " [   9   89]]\n",
      "Area under curve: 0.9844480176875533\n"
     ]
    },
    {
     "name": "stderr",
     "output_type": "stream",
     "text": [
      "/home/rupesh/.virtualenvs/dana3/lib/python3.6/site-packages/sklearn/linear_model/logistic.py:432: FutureWarning: Default solver will be changed to 'lbfgs' in 0.22. Specify a solver to silence this warning.\n",
      "  FutureWarning)\n",
      "/home/rupesh/.virtualenvs/dana3/lib/python3.6/site-packages/sklearn/linear_model/logistic.py:432: FutureWarning: Default solver will be changed to 'lbfgs' in 0.22. Specify a solver to silence this warning.\n",
      "  FutureWarning)\n",
      "/home/rupesh/.virtualenvs/dana3/lib/python3.6/site-packages/sklearn/linear_model/logistic.py:432: FutureWarning: Default solver will be changed to 'lbfgs' in 0.22. Specify a solver to silence this warning.\n",
      "  FutureWarning)\n"
     ]
    },
    {
     "name": "stdout",
     "output_type": "stream",
     "text": [
      "Fold 3\n",
      "[[2769   74]\n",
      " [  10   88]]\n",
      "Area under curve: 0.976946599955494\n",
      "Fold 4\n",
      "[[2785   58]\n",
      " [  11   87]]\n",
      "Area under curve: 0.9789170680583172\n",
      "Final Confusion Matrix\n",
      "[[2771.8   71.2]\n",
      " [   9.    89.4]]\n",
      "F1 score: 0.6903474903474903\n",
      "Recall: 0.9085365853658537\n",
      "Precision: 0.5566625155666252\n",
      "AUC: 0.9799278796565364\n",
      "Checking class weight balanced and coefficient 1.0\n",
      "Fold 0\n",
      "[[2769   74]\n",
      " [   9   90]]\n",
      "Area under curve: 0.9760194274791532\n"
     ]
    },
    {
     "name": "stderr",
     "output_type": "stream",
     "text": [
      "/home/rupesh/.virtualenvs/dana3/lib/python3.6/site-packages/sklearn/linear_model/logistic.py:432: FutureWarning: Default solver will be changed to 'lbfgs' in 0.22. Specify a solver to silence this warning.\n",
      "  FutureWarning)\n",
      "/home/rupesh/.virtualenvs/dana3/lib/python3.6/site-packages/sklearn/linear_model/logistic.py:432: FutureWarning: Default solver will be changed to 'lbfgs' in 0.22. Specify a solver to silence this warning.\n",
      "  FutureWarning)\n",
      "/home/rupesh/.virtualenvs/dana3/lib/python3.6/site-packages/sklearn/linear_model/logistic.py:432: FutureWarning: Default solver will be changed to 'lbfgs' in 0.22. Specify a solver to silence this warning.\n",
      "  FutureWarning)\n"
     ]
    },
    {
     "name": "stdout",
     "output_type": "stream",
     "text": [
      "Fold 1\n",
      "[[2781   62]\n",
      " [   6   93]]\n",
      "Area under curve: 0.9832905203992084\n",
      "Fold 2\n",
      "[[2757   86]\n",
      " [   9   89]]\n",
      "Area under curve: 0.9844767312482502\n",
      "Fold 3\n",
      "[[2771   72]\n",
      " [  10   88]]\n",
      "Area under curve: 0.977011205467062\n"
     ]
    },
    {
     "name": "stderr",
     "output_type": "stream",
     "text": [
      "/home/rupesh/.virtualenvs/dana3/lib/python3.6/site-packages/sklearn/linear_model/logistic.py:432: FutureWarning: Default solver will be changed to 'lbfgs' in 0.22. Specify a solver to silence this warning.\n",
      "  FutureWarning)\n",
      "/home/rupesh/.virtualenvs/dana3/lib/python3.6/site-packages/sklearn/linear_model/logistic.py:432: FutureWarning: Default solver will be changed to 'lbfgs' in 0.22. Specify a solver to silence this warning.\n",
      "  FutureWarning)\n",
      "/home/rupesh/.virtualenvs/dana3/lib/python3.6/site-packages/sklearn/linear_model/logistic.py:432: FutureWarning: Default solver will be changed to 'lbfgs' in 0.22. Specify a solver to silence this warning.\n",
      "  FutureWarning)\n"
     ]
    },
    {
     "name": "stdout",
     "output_type": "stream",
     "text": [
      "Fold 4\n",
      "[[2785   58]\n",
      " [  11   87]]\n",
      "Area under curve: 0.9789601383993626\n",
      "Final Confusion Matrix\n",
      "[[2772.6   70.4]\n",
      " [   9.    89.4]]\n",
      "F1 score: 0.6924864446165764\n",
      "Recall: 0.9085365853658537\n",
      "Precision: 0.5594493116395495\n",
      "AUC: 0.9799516045986072\n",
      "Best parameters found for Logistic Regression under AUC metric is None class weights and 0.046415888336127774 coefficient\n",
      "Best parameters found for Logistic Regression under F1 metric is None class weights and 0.01 coefficient\n",
      "Best parameters found for Logistic Regression under precision metric is None class weights and 0.027825594022071243 coefficient\n",
      "Best parameters found for Logistic Regression under recall metric is balanced class weights and 0.21544346900318834 coefficient\n"
     ]
    }
   ],
   "source": [
    "weights = [None,'balanced']\n",
    "coefficients = np.logspace(-2,0,10)\n",
    "fscore = []\n",
    "recall = []\n",
    "precision = []\n",
    "AU = []\n",
    "param_permuations = list(itertools.product(weights, coefficients))\n",
    "for cw,C in param_permuations:\n",
    "    print('Checking class weight {} and coefficient {}'.format(cw, C))\n",
    "    cf,au = train_logistic_regression(data_sc, cw, C)\n",
    "    TP = cf[1][1]\n",
    "    FP = cf[0][1]\n",
    "    FN = cf[1][0]\n",
    "    prec = TP/(TP+FP)\n",
    "    rec = TP/(TP+FN)\n",
    "    f1 = prec*rec*2/(prec+rec)\n",
    "    print('F1 score:', f1)\n",
    "    print('Recall:', rec)\n",
    "    print('Precision:', prec)\n",
    "    print('AUC:', au)\n",
    "    fscore.append(f1)\n",
    "    recall.append(rec)\n",
    "    precision.append(prec)\n",
    "    AU.append(au)\n",
    "\n",
    "idx = np.argmax(AU)\n",
    "best_params = param_permuations[idx]\n",
    "print('Best parameters found for Logistic Regression under AUC metric is {} class weights and {} coefficient'.format(best_params[0], best_params[1]))\n",
    "\n",
    "idx = np.argmax(f1)\n",
    "best_params = param_permuations[idx]\n",
    "print('Best parameters found for Logistic Regression under F1 metric is {} class weights and {} coefficient'.format(best_params[0], best_params[1]))\n",
    "\n",
    "idx = np.argmax(precision)\n",
    "best_params = param_permuations[idx]\n",
    "print('Best parameters found for Logistic Regression under precision metric is {} class weights and {} coefficient'.format(best_params[0], best_params[1]))\n",
    "\n",
    "idx = np.argmax(recall)\n",
    "best_params = param_permuations[idx]\n",
    "print('Best parameters found for Logistic Regression under recall metric is {} class weights and {} coefficient'.format(best_params[0], best_params[1]))"
   ]
  },
  {
   "cell_type": "markdown",
   "metadata": {},
   "source": [
    "# kNN"
   ]
  },
  {
   "cell_type": "code",
   "execution_count": 17,
   "metadata": {},
   "outputs": [],
   "source": [
    "def train_KNN(data, k, scale=False):\n",
    "    confusion_mat = np.zeros((2, 2))\n",
    "    AU = 0\n",
    "    errors = 0\n",
    "    for i in range(5):\n",
    "        knn = KNeighborsClassifier(n_neighbors=k)\n",
    "        \n",
    "        train_data = np.delete(data, folds[i], axis=0)\n",
    "        test_data = data[folds[i]]\n",
    "        if scale:\n",
    "            scaler = StandardScaler()\n",
    "            train_data = scaler.fit_transform(train_data)\n",
    "            test_data = scaler.transform(test_data)\n",
    "\n",
    "        knn.fit(train_data, np.delete(labels, folds[i]))\n",
    "        pred = knn.predict(test_data)\n",
    "\n",
    "        conf_mat = confusion_matrix(labels[folds[i]], pred)\n",
    "#         print('Fold', i)\n",
    "#         print(conf_mat)\n",
    "        fpr, tpr, thresholds = roc_curve(labels[folds[i]], pred)\n",
    "        area_under_curve = auc(fpr, tpr)\n",
    "        AU += area_under_curve\n",
    "#         print('Fold', i)\n",
    "#         print(conf_mat)\n",
    "#         print('Area under curve:', area_under_curve)\n",
    "        err = sum([1 if a != b else 0 for a, b in zip(labels[folds[i]], pred)]) / len(pred)\n",
    "        errors += err\n",
    "\n",
    "        confusion_mat += conf_mat\n",
    "\n",
    "    confusion_mat /= 5\n",
    "    AU /= 5\n",
    "    errors /= 5\n",
    "#     print('Final Confusion Matrix')\n",
    "#     print(confusion_mat)\n",
    "    \n",
    "#     fnr = confusion_mat[0, 1] / sum(confusion_mat[0, :])\n",
    "#     fpr = confusion_mat[1, 0] / sum(confusion_mat[1,:])\n",
    "#     print('False negatives (valid):', fnr)\n",
    "#     print('False positives (fraud):', fpr)\n",
    "    \n",
    "#     metric = (fnr * (len(labels) - sum(labels)) + fpr * sum(labels)) / len(labels)\n",
    "    return confusion_mat, AU, errors"
   ]
  },
  {
   "cell_type": "code",
   "execution_count": 19,
   "metadata": {},
   "outputs": [
    {
     "name": "stdout",
     "output_type": "stream",
     "text": [
      "K = 1, errors = 0.010879150369688397\n",
      "Confusion Matrix:\n",
      "[[2831.8   11.2]\n",
      " [  20.8   77.6]]\n",
      "False Negative Rate: 0.003940\n",
      "False Positive Rate: 0.211382\n",
      "fscore: 0.829059829059829\n",
      "\n",
      "K = 3, errors = 0.008907240076824733\n",
      "Confusion Matrix:\n",
      "[[2.8408e+03 2.2000e+00]\n",
      " [2.4000e+01 7.4400e+01]]\n",
      "False Negative Rate: 0.000774\n",
      "False Positive Rate: 0.243902\n",
      "fscore: 0.8502857142857143\n",
      "\n",
      "K = 5, errors = 0.00938322240870822\n",
      "Confusion Matrix:\n",
      "[[2.8416e+03 1.4000e+00]\n",
      " [2.6200e+01 7.2200e+01]]\n",
      "False Negative Rate: 0.000492\n",
      "False Positive Rate: 0.266260\n",
      "fscore: 0.8395348837209302\n",
      "\n",
      "K = 7, errors = 0.011151166690667654\n",
      "Confusion Matrix:\n",
      "[[2.8416e+03 1.4000e+00]\n",
      " [3.1400e+01 6.7000e+01]]\n",
      "False Negative Rate: 0.000492\n",
      "False Positive Rate: 0.319106\n",
      "fscore: 0.803357314148681\n",
      "\n",
      "K = 9, errors = 0.011627172137466248\n",
      "Confusion Matrix:\n",
      "[[2.8418e+03 1.2000e+00]\n",
      " [3.3000e+01 6.5400e+01]]\n",
      "False Negative Rate: 0.000422\n",
      "False Positive Rate: 0.335366\n",
      "fscore: 0.7927272727272728\n",
      "\n",
      "K = 11, errors = 0.012103062009689311\n",
      "Confusion Matrix:\n",
      "[[2.8418e+03 1.2000e+00]\n",
      " [3.4400e+01 6.4000e+01]]\n",
      "False Negative Rate: 0.000422\n",
      "False Positive Rate: 0.349593\n",
      "fscore: 0.78239608801956\n",
      "\n"
     ]
    }
   ],
   "source": [
    "for k in [1, 3, 5, 7, 9, 11]:\n",
    "    conf, au, errors = train_KNN(data, k)\n",
    "    print('K = {}, errors = {}'.format(k, errors))\n",
    "    print('Confusion Matrix:')\n",
    "    print(conf)\n",
    "#     print('AUC: {}'.format(au))\n",
    "#     print('recall: {}'.format(conf[1, 0] / sum(conf[:, 0])))\n",
    "    fnr = conf[0, 1] / sum(conf[0, :])\n",
    "    fpr = conf[1, 0] / sum(conf[1,:])\n",
    "    print('False Negative Rate: {:3f}\\nFalse Positive Rate: {:3f}'.format(fnr, fpr))\n",
    "#     metric = (fnr * (len(labels) - sum(labels)) + fpr * sum(labels)) / len(labels)\n",
    "#     print('metric: {}'.format(metric))\n",
    "    fscore = 2*conf[1,1] / (2*conf[1,1] + conf[0,1] + conf[1,0])\n",
    "    print('fscore: {}'.format(fscore))\n",
    "    print()"
   ]
  },
  {
   "cell_type": "code",
   "execution_count": null,
   "metadata": {},
   "outputs": [],
   "source": []
  }
 ],
 "metadata": {
  "kernelspec": {
   "display_name": "Python 3",
   "language": "python",
   "name": "python3"
  },
  "language_info": {
   "codemirror_mode": {
    "name": "ipython",
    "version": 3
   },
   "file_extension": ".py",
   "mimetype": "text/x-python",
   "name": "python",
   "nbconvert_exporter": "python",
   "pygments_lexer": "ipython3",
   "version": "3.6.6"
  }
 },
 "nbformat": 4,
 "nbformat_minor": 2
}
