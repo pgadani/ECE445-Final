{
 "cells": [
  {
   "cell_type": "code",
   "execution_count": 2,
   "metadata": {},
   "outputs": [],
   "source": [
    "import csv\n",
    "import itertools\n",
    "from matplotlib import pyplot as plt\n",
    "import numpy as np\n",
    "\n",
    "from sklearn.metrics import confusion_matrix\n",
    "from sklearn.preprocessing import StandardScaler\n",
    "from sklearn.svm import SVC, LinearSVC\n",
    "\n",
    "from sklearn.linear_model import LogisticRegression\n",
    "\n",
    "# import warnings\n",
    "# warnings.filterwarnings(\"ignore\")"
   ]
  },
  {
   "cell_type": "markdown",
   "metadata": {},
   "source": [
    "### Read the data"
   ]
  },
  {
   "cell_type": "code",
   "execution_count": 3,
   "metadata": {},
   "outputs": [
    {
     "name": "stdout",
     "output_type": "stream",
     "text": [
      "The data is imbalanced, with 284807 samples in total but only 492 cases of fraud\n"
     ]
    }
   ],
   "source": [
    "with open('creditcard.csv', newline='') as f:\n",
    "    reader = csv.reader(f, delimiter=',')\n",
    "    csv_data = list(reader)[1:]\n",
    "\n",
    "# Format: Time, V1, ..., V28, Amount, Class\n",
    "data = np.array([[float(x) for x in row[1:-1]] for row in csv_data])\n",
    "times = np.array([float(row[0]) for row in csv_data])\n",
    "labels = np.array([int(row[-1]) for row in csv_data])\n",
    "print('The data is imbalanced, with {} samples in total but only {} cases of fraud'.format(len(labels), sum(labels)))"
   ]
  },
  {
   "cell_type": "markdown",
   "metadata": {},
   "source": [
    "### Feature Scaling"
   ]
  },
  {
   "cell_type": "code",
   "execution_count": 4,
   "metadata": {},
   "outputs": [
    {
     "name": "stdout",
     "output_type": "stream",
     "text": [
      "[  3.91864870e-15   5.68268579e-16  -8.76173610e-15   2.81111774e-15\n",
      "  -1.55210305e-15   2.04012968e-15  -1.69895265e-15  -1.95815061e-16\n",
      "  -3.14764036e-15   1.77292451e-15   9.28952385e-16  -1.80326603e-15\n",
      "   1.67488824e-15   1.47562122e-15   3.50109813e-15   1.39243845e-15\n",
      "  -7.46653801e-16   4.25873794e-16   9.02016885e-16   5.12684532e-16\n",
      "   1.47198194e-16   8.04210901e-16   5.28245009e-16   4.45826738e-15\n",
      "   1.42689564e-15   1.70163965e-15  -3.67160561e-16  -1.21815215e-16\n",
      "   8.83496193e+01]\n",
      "[  3.83647578e+00   2.72681045e+00   2.29902117e+00   2.00467678e+00\n",
      "   1.90507436e+00   1.77494002e+00   1.53039520e+00   1.42647385e+00\n",
      "   1.20698823e+00   1.18558965e+00   1.04185143e+00   9.98399911e-01\n",
      "   9.90567315e-01   9.18902320e-01   8.37800459e-01   7.67816427e-01\n",
      "   7.21370915e-01   7.02536891e-01   6.62659610e-01   5.94323307e-01\n",
      "   5.39523633e-01   5.26640906e-01   3.89949292e-01   3.66807083e-01\n",
      "   2.71729873e-01   2.32542076e-01   1.62918619e-01   1.08954579e-01\n",
      "   6.25598494e+04]\n",
      "The PCA features have mean 0 but different variances\n",
      "The transaction amount is not scaled. We should scale it so it does not affect the SVM too much\n"
     ]
    }
   ],
   "source": [
    "print(np.mean(data, axis=0))\n",
    "print(np.var(data, axis=0))\n",
    "print('The PCA features have mean 0 but different variances')\n",
    "print('The transaction amount is not scaled. We should scale it so it does not affect the SVM too much')"
   ]
  },
  {
   "cell_type": "markdown",
   "metadata": {},
   "source": [
    "### Preliminary plotting"
   ]
  },
  {
   "cell_type": "code",
   "execution_count": 5,
   "metadata": {},
   "outputs": [
    {
     "name": "stdout",
     "output_type": "stream",
     "text": [
      "[ 1.19185711 -1.35835406 -0.96627171 -1.15823309 -0.42596588  1.22965763\n",
      " -0.64426944 -0.89428608 -0.33826175]\n"
     ]
    },
    {
     "data": {
      "image/png": "[encoded data removed]",
      "text/plain": [
       "<matplotlib.figure.Figure at 0x7fb670329d68>"
      ]
     },
     "metadata": {
      "needs_background": "light"
     },
     "output_type": "display_data"
    }
   ],
   "source": [
    "# plot the first two principal components\n",
    "data_fraud = data[np.where(labels == 1)]\n",
    "data_valid = data[np.where(labels == 0)]\n",
    "plt.scatter(data_valid[:, 0], data_valid[:, -1], c='b')\n",
    "plt.scatter(data_fraud[:, 0], data_fraud[:, -1], c='r')\n",
    "print(data_valid[1:10, 0])\n",
    "plt.ylim((0, 10000))\n",
    "plt.legend(['valid', 'fraud'])\n",
    "plt.xlabel('First PCA feature')\n",
    "plt.ylabel('Transaction amount')\n",
    "plt.show()"
   ]
  },
  {
   "cell_type": "markdown",
   "metadata": {},
   "source": [
    "### Setting up cross-validation"
   ]
  },
  {
   "cell_type": "code",
   "execution_count": 6,
   "metadata": {},
   "outputs": [],
   "source": [
    "fraud_indices = np.where(labels == 1)[0]\n",
    "np.random.shuffle(fraud_indices)\n",
    "fraud_splits = np.array_split(fraud_indices, 5)\n",
    "\n",
    "valid_indices = np.where(labels == 0)[0]\n",
    "np.random.shuffle(valid_indices)\n",
    "valid_splits = np.array_split(valid_indices, 5)\n",
    "\n",
    "folds = [np.concatenate((fraud_sp, valid_sp)) for fraud_sp, valid_sp in zip(fraud_splits, valid_splits)]"
   ]
  },
  {
   "cell_type": "markdown",
   "metadata": {},
   "source": [
    "### SVM"
   ]
  },
  {
   "cell_type": "code",
   "execution_count": 7,
   "metadata": {},
   "outputs": [],
   "source": [
    "def train_binary_SVM(data, scale=False, kernel=None, class_weight=None):\n",
    "    confusion_mat = np.zeros((2, 2))\n",
    "    for i in range(5):\n",
    "        if kernel is None:\n",
    "            if class_weight is None:\n",
    "                svm = LinearSVC(fit_intercept=False, dual=False)\n",
    "            else:\n",
    "                svm = LinearSVC(fit_intercept=False, dual=False, class_weight=class_weight)\n",
    "        else:\n",
    "            if class_weight is None:\n",
    "                svm = SVC(kernel=kernel, gamma='auto')\n",
    "            else:\n",
    "                svm = SVC(kernel=kernel, gamma='auto', class_weight=class_weight)\n",
    "        \n",
    "        train_data = np.delete(data, folds[i], axis=0)\n",
    "        test_data = data[folds[i]]\n",
    "        if scale:\n",
    "            scaler = StandardScaler()\n",
    "            train_data = scaler.fit_transform(train_data)\n",
    "            test_data = scaler.transform(test_data)\n",
    "\n",
    "        svm.fit(train_data, np.delete(labels, folds[i]))\n",
    "        pred = svm.predict(test_data)\n",
    "\n",
    "        conf_mat = confusion_matrix(labels[folds[i]], pred)\n",
    "        print('Fold', i)\n",
    "        print(conf_mat)\n",
    "\n",
    "        confusion_mat += conf_mat\n",
    "\n",
    "    confusion_mat /= 5\n",
    "    print('Final Confusion Matrix')\n",
    "    print(confusion_mat)\n",
    "    print('False negatives (valid):', confusion_mat[0, 1] / sum(confusion_mat[0, :]))\n",
    "    print('False positives (fraud):', confusion_mat[1, 0] / sum(confusion_mat[1,:]))\n",
    "    return confusion_mat"
   ]
  },
  {
   "cell_type": "markdown",
   "metadata": {},
   "source": [
    "#### Linear SVM -- Without scaling or class weights"
   ]
  },
  {
   "cell_type": "code",
   "execution_count": 8,
   "metadata": {},
   "outputs": [
    {
     "name": "stdout",
     "output_type": "stream",
     "text": [
      "Fold 0\n",
      "[[56826    37]\n",
      " [   43    56]]\n",
      "Fold 1\n",
      "[[56828    35]\n",
      " [   34    65]]\n",
      "Fold 2\n",
      "[[56833    30]\n",
      " [   34    64]]\n",
      "Fold 3\n",
      "[[56808    55]\n",
      " [   36    62]]\n",
      "Fold 4\n",
      "[[56824    39]\n",
      " [   31    67]]\n",
      "Final Confusion Matrix\n",
      "[[  5.68238000e+04   3.92000000e+01]\n",
      " [  3.56000000e+01   6.28000000e+01]]\n",
      "False negatives (valid): 0.000689376220038\n",
      "False positives (fraud): 0.361788617886\n"
     ]
    }
   ],
   "source": [
    "train_binary_SVM(data);"
   ]
  },
  {
   "cell_type": "markdown",
   "metadata": {},
   "source": [
    "#### Linear SVM with Scaling"
   ]
  },
  {
   "cell_type": "code",
   "execution_count": 9,
   "metadata": {},
   "outputs": [
    {
     "name": "stdout",
     "output_type": "stream",
     "text": [
      "Fold 0\n",
      "[[49053  7810]\n",
      " [    4    95]]\n",
      "Fold 1\n",
      "[[48482  8381]\n",
      " [    3    96]]\n",
      "Fold 2\n",
      "[[49870  6993]\n",
      " [    4    94]]\n",
      "Fold 3\n",
      "[[50381  6482]\n",
      " [    6    92]]\n",
      "Fold 4\n",
      "[[48856  8007]\n",
      " [    3    95]]\n",
      "Final Confusion Matrix\n",
      "[[  4.93284000e+04   7.53460000e+03]\n",
      " [  4.00000000e+00   9.44000000e+01]]\n",
      "False negatives (valid): 0.132504440497\n",
      "False positives (fraud): 0.0406504065041\n"
     ]
    }
   ],
   "source": [
    "train_binary_SVM(data, scale=True);"
   ]
  },
  {
   "cell_type": "markdown",
   "metadata": {},
   "source": [
    "#### Linear SVM with Scaling and Class Weights"
   ]
  },
  {
   "cell_type": "code",
   "execution_count": 21,
   "metadata": {},
   "outputs": [
    {
     "name": "stdout",
     "output_type": "stream",
     "text": [
      "Fold 0\n",
      "[[33547 23316]\n",
      " [    1    98]]\n",
      "Fold 1\n",
      "[[34436 22427]\n",
      " [    0    99]]\n",
      "Fold 2\n",
      "[[34014 22849]\n",
      " [    0    98]]\n",
      "Fold 3\n",
      "[[34283 22580]\n",
      " [    1    97]]\n",
      "Fold 4\n",
      "[[33524 23339]\n",
      " [    2    96]]\n",
      "Final Confusion Matrix\n",
      "[[  3.39608000e+04   2.29022000e+04]\n",
      " [  8.00000000e-01   9.76000000e+01]]\n",
      "False negatives (valid): 0.402761022106\n",
      "False positives (fraud): 0.00813008130081\n"
     ]
    }
   ],
   "source": [
    "train_binary_SVM(data, scale=True, class_weight='balanced');"
   ]
  },
  {
   "cell_type": "markdown",
   "metadata": {},
   "source": [
    "### Kernel SVM"
   ]
  },
  {
   "cell_type": "markdown",
   "metadata": {},
   "source": [
    "#### RBF Kernel with Scaling and Class Weights"
   ]
  },
  {
   "cell_type": "code",
   "execution_count": null,
   "metadata": {},
   "outputs": [],
   "source": [
    "train_binary_SVM(data, scale=True, kernel='rbf');"
   ]
  },
  {
   "cell_type": "code",
   "execution_count": null,
   "metadata": {},
   "outputs": [],
   "source": [
    "train_binary_SVM(data, kernel='rbf', class_weight='balanced');"
   ]
  },
  {
   "cell_type": "markdown",
   "metadata": {},
   "source": [
    "#### Polynomial Kernel with Scaling and Class Weights"
   ]
  },
  {
   "cell_type": "code",
   "execution_count": null,
   "metadata": {},
   "outputs": [],
   "source": [
    "train_binary_SVM(data, scale=True, kernel='poly');"
   ]
  },
  {
   "cell_type": "code",
   "execution_count": null,
   "metadata": {},
   "outputs": [],
   "source": [
    "train_binary_SVM(data, scale=True, kernel='poly', class_weight='balanced');"
   ]
  },
  {
   "cell_type": "markdown",
   "metadata": {},
   "source": [
    "### Logistic Regression"
   ]
  },
  {
   "cell_type": "code",
   "execution_count": 25,
   "metadata": {},
   "outputs": [],
   "source": [
    "def train_logistic_regression(data, class_weight = None, C=1.0):\n",
    "    err = 0\n",
    "    err_valid = 0\n",
    "    err_fraud = 0\n",
    "    confusion_mat = np.zeros((2, 2))\n",
    "    for i in range(5):\n",
    "        model = LogisticRegression(class_weight=class_weight, C=C)\n",
    "        \n",
    "        model.fit(np.delete(data, folds[i], axis=0), np.delete(labels, folds[i]))\n",
    "        pred = model.predict(data[folds[i]])\n",
    "        err_fold = np.sum((pred - labels[folds[i]])**2) / len(folds[i])\n",
    "        pred_valid = model.predict(data[valid_splits[i]])\n",
    "        err_valid_fold = np.sum((pred_valid - labels[valid_splits[i]])**2) / len(valid_splits[i])\n",
    "        pred_fraud = model.predict(data[fraud_splits[i]])\n",
    "        err_fraud_fold = np.sum((pred_fraud - labels[fraud_splits[i]])**2) / len(fraud_splits[i])\n",
    "        #print('Fold', i, 'Error:', err_fold, 'Valid Error:', err_valid_fold, 'Fraud Error', err_fraud_fold)\n",
    "        err += err_fold\n",
    "        err_valid += err_valid_fold\n",
    "        err_fraud += err_fraud_fold\n",
    "        conf_mat = confusion_matrix(labels[folds[i]], pred)\n",
    "        print('Fold', i)\n",
    "        print(conf_mat)\n",
    "\n",
    "        confusion_mat += conf_mat\n",
    "    confusion_mat /= 5\n",
    "    print('Final Confusion Matrix')\n",
    "    print(confusion_mat)\n",
    "    return confusion_mat\n",
    "    #err /= 5\n",
    "    #err_valid /= 5\n",
    "    #err_fraud /= 5\n",
    "    #print('FINAL Error:', err, 'Valid Error:', err_valid, 'Fraud Error', err_fraud)\n",
    "    #return err, err_valid, err_fraud"
   ]
  },
  {
   "cell_type": "markdown",
   "metadata": {},
   "source": [
    "#### Logistic Regression with Scaling, Class Weights, and Regularization"
   ]
  },
  {
   "cell_type": "code",
   "execution_count": null,
   "metadata": {},
   "outputs": [
    {
     "name": "stdout",
     "output_type": "stream",
     "text": [
      "Checking class weight None and coefficient 0.01\n",
      "Fold 0\n",
      "[[56850    13]\n",
      " [   45    54]]\n",
      "Fold 1\n",
      "[[56860     3]\n",
      " [   42    57]]\n",
      "Fold 2\n",
      "[[56858     5]\n",
      " [   35    63]]\n",
      "Fold 3\n",
      "[[56856     7]\n",
      " [   39    59]]\n",
      "Fold 4\n",
      "[[56852    11]\n",
      " [   42    56]]\n",
      "Final Confusion Matrix\n",
      "[[5.68552e+04 7.80000e+00]\n",
      " [4.06000e+01 5.78000e+01]]\n",
      "F1 score: 0.7048780487804878\n",
      "Recall: 0.5873983739837397\n",
      "Precision: 0.8810975609756098\n",
      "Checking class weight None and coefficient 0.016681005372000592\n",
      "Fold 0\n",
      "[[56850    13]\n",
      " [   46    53]]\n",
      "Fold 1\n",
      "[[56860     3]\n",
      " [   41    58]]\n",
      "Fold 2\n",
      "[[56858     5]\n",
      " [   35    63]]\n",
      "Fold 3\n",
      "[[56856     7]\n",
      " [   38    60]]\n",
      "Fold 4\n",
      "[[56852    11]\n",
      " [   42    56]]\n",
      "Final Confusion Matrix\n",
      "[[5.68552e+04 7.80000e+00]\n",
      " [4.04000e+01 5.80000e+01]]\n",
      "F1 score: 0.7064555420219245\n",
      "Recall: 0.589430894308943\n",
      "Precision: 0.8814589665653496\n",
      "Checking class weight None and coefficient 0.027825594022071243\n",
      "Fold 0\n",
      "[[56850    13]\n",
      " [   46    53]]\n",
      "Fold 1\n",
      "[[56860     3]\n",
      " [   41    58]]\n",
      "Fold 2\n",
      "[[56858     5]\n",
      " [   35    63]]\n",
      "Fold 3\n",
      "[[56856     7]\n",
      " [   38    60]]\n",
      "Fold 4\n",
      "[[56852    11]\n",
      " [   40    58]]\n",
      "Final Confusion Matrix\n",
      "[[5.68552e+04 7.80000e+00]\n",
      " [4.00000e+01 5.84000e+01]]\n",
      "F1 score: 0.709599027946537\n",
      "Recall: 0.5934959349593495\n",
      "Precision: 0.8821752265861027\n",
      "Checking class weight None and coefficient 0.046415888336127774\n",
      "Fold 0\n",
      "[[56850    13]\n",
      " [   45    54]]\n",
      "Fold 1\n",
      "[[56860     3]\n",
      " [   39    60]]\n",
      "Fold 2\n",
      "[[56858     5]\n",
      " [   34    64]]\n",
      "Fold 3\n",
      "[[56856     7]\n",
      " [   37    61]]\n",
      "Fold 4\n",
      "[[56852    11]\n",
      " [   39    59]]\n",
      "Final Confusion Matrix\n",
      "[[5.68552e+04 7.80000e+00]\n",
      " [3.88000e+01 5.96000e+01]]\n",
      "F1 score: 0.7189384800965019\n",
      "Recall: 0.6056910569105691\n",
      "Precision: 0.884272997032641\n",
      "Checking class weight None and coefficient 0.0774263682681127\n",
      "Fold 0\n",
      "[[56850    13]\n",
      " [   45    54]]\n",
      "Fold 1\n",
      "[[56860     3]\n",
      " [   39    60]]\n",
      "Fold 2\n",
      "[[56858     5]\n",
      " [   32    66]]\n",
      "Fold 3\n",
      "[[56855     8]\n",
      " [   37    61]]\n",
      "Fold 4\n",
      "[[56852    11]\n",
      " [   40    58]]\n",
      "Final Confusion Matrix\n",
      "[[5.6855e+04 8.0000e+00]\n",
      " [3.8600e+01 5.9800e+01]]\n",
      "F1 score: 0.7196149217809867\n",
      "Recall: 0.6077235772357723\n",
      "Precision: 0.8820058997050148\n",
      "Checking class weight None and coefficient 0.1291549665014884\n",
      "Fold 0\n",
      "[[56852    11]\n",
      " [   45    54]]\n",
      "Fold 1\n",
      "[[56860     3]\n",
      " [   39    60]]\n",
      "Fold 2\n",
      "[[56857     6]\n",
      " [   31    67]]\n",
      "Fold 3\n",
      "[[56854     9]\n",
      " [   36    62]]\n",
      "Fold 4\n",
      "[[56852    11]\n",
      " [   40    58]]\n",
      "Final Confusion Matrix\n",
      "[[5.6855e+04 8.0000e+00]\n",
      " [3.8200e+01 6.0200e+01]]\n",
      "F1 score: 0.7226890756302521\n",
      "Recall: 0.6117886178861789\n",
      "Precision: 0.8826979472140762\n",
      "Checking class weight None and coefficient 0.21544346900318834\n",
      "Fold 0\n",
      "[[56852    11]\n",
      " [   44    55]]\n",
      "Fold 1\n",
      "[[56860     3]\n",
      " [   39    60]]\n",
      "Fold 2\n",
      "[[56857     6]\n",
      " [   31    67]]\n",
      "Fold 3\n",
      "[[56853    10]\n",
      " [   38    60]]\n",
      "Fold 4\n",
      "[[56851    12]\n",
      " [   39    59]]\n",
      "Final Confusion Matrix\n",
      "[[5.68546e+04 8.40000e+00]\n",
      " [3.82000e+01 6.02000e+01]]\n",
      "F1 score: 0.7209580838323354\n",
      "Recall: 0.6117886178861789\n",
      "Precision: 0.8775510204081632\n",
      "Checking class weight None and coefficient 0.3593813663804626\n",
      "Fold 0\n",
      "[[56852    11]\n",
      " [   44    55]]\n",
      "Fold 1\n",
      "[[56860     3]\n",
      " [   39    60]]\n",
      "Fold 2\n",
      "[[56857     6]\n",
      " [   29    69]]\n",
      "Fold 3\n",
      "[[56853    10]\n",
      " [   38    60]]\n",
      "Fold 4\n",
      "[[56850    13]\n",
      " [   39    59]]\n",
      "Final Confusion Matrix\n",
      "[[5.68544e+04 8.60000e+00]\n",
      " [3.78000e+01 6.06000e+01]]\n",
      "F1 score: 0.7231503579952268\n",
      "Recall: 0.6158536585365854\n",
      "Precision: 0.8757225433526011\n",
      "Checking class weight None and coefficient 0.5994842503189409\n",
      "Fold 0\n",
      "[[56852    11]\n",
      " [   43    56]]\n",
      "Fold 1\n",
      "[[56860     3]\n",
      " [   38    61]]\n",
      "Fold 2\n",
      "[[56857     6]\n",
      " [   29    69]]\n",
      "Fold 3\n",
      "[[56853    10]\n",
      " [   39    59]]\n",
      "Fold 4\n",
      "[[56850    13]\n",
      " [   39    59]]\n",
      "Final Confusion Matrix\n",
      "[[5.68544e+04 8.60000e+00]\n",
      " [3.76000e+01 6.08000e+01]]\n",
      "F1 score: 0.7246722288438616\n",
      "Recall: 0.6178861788617885\n",
      "Precision: 0.8760806916426513\n",
      "Checking class weight None and coefficient 1.0\n",
      "Fold 0\n",
      "[[56852    11]\n",
      " [   43    56]]\n",
      "Fold 1\n",
      "[[56860     3]\n",
      " [   38    61]]\n",
      "Fold 2\n",
      "[[56857     6]\n",
      " [   29    69]]\n",
      "Fold 3\n",
      "[[56853    10]\n",
      " [   39    59]]\n",
      "Fold 4\n",
      "[[56850    13]\n",
      " [   39    59]]\n",
      "Final Confusion Matrix\n",
      "[[5.68544e+04 8.60000e+00]\n",
      " [3.76000e+01 6.08000e+01]]\n",
      "F1 score: 0.7246722288438616\n",
      "Recall: 0.6178861788617885\n",
      "Precision: 0.8760806916426513\n",
      "Checking class weight balanced and coefficient 0.01\n",
      "Fold 0\n",
      "[[55650  1213]\n",
      " [    8    91]]\n",
      "Fold 1\n",
      "[[55603  1260]\n",
      " [    9    90]]\n",
      "Fold 2\n",
      "[[55489  1374]\n",
      " [    8    90]]\n",
      "Fold 3\n",
      "[[55540  1323]\n",
      " [    8    90]]\n",
      "Fold 4\n",
      "[[55543  1320]\n",
      " [   11    87]]\n",
      "Final Confusion Matrix\n",
      "[[5.5565e+04 1.2980e+03]\n",
      " [8.8000e+00 8.9600e+01]]\n",
      "F1 score: 0.12059219380888292\n",
      "Recall: 0.910569105691057\n",
      "Precision: 0.06457192274430672\n",
      "Checking class weight balanced and coefficient 0.016681005372000592\n",
      "Fold 0\n",
      "[[55637  1226]\n",
      " [    8    91]]\n",
      "Fold 1\n",
      "[[55595  1268]\n",
      " [    9    90]]\n",
      "Fold 2\n",
      "[[55481  1382]\n",
      " [    8    90]]\n",
      "Fold 3\n",
      "[[55539  1324]\n",
      " [    8    90]]\n",
      "Fold 4\n",
      "[[55542  1321]\n",
      " [   11    87]]\n",
      "Final Confusion Matrix\n",
      "[[5.55588e+04 1.30420e+03]\n",
      " [8.80000e+00 8.96000e+01]]\n",
      "F1 score: 0.12009114059777509\n",
      "Recall: 0.910569105691057\n",
      "Precision: 0.06428468933849907\n",
      "Checking class weight balanced and coefficient 0.027825594022071243\n",
      "Fold 0\n",
      "[[55624  1239]\n",
      " [    8    91]]\n",
      "Fold 1\n",
      "[[55593  1270]\n",
      " [    9    90]]\n",
      "Fold 2\n",
      "[[55474  1389]\n",
      " [    8    90]]\n",
      "Fold 3\n",
      "[[55540  1323]\n",
      " [    8    90]]\n",
      "Fold 4\n",
      "[[55551  1312]\n",
      " [   11    87]]\n",
      "Final Confusion Matrix\n",
      "[[5.55564e+04 1.30660e+03]\n",
      " [8.80000e+00 8.96000e+01]]\n",
      "F1 score: 0.1198983005486418\n",
      "Recall: 0.910569105691057\n",
      "Precision: 0.06417418707921502\n",
      "Checking class weight balanced and coefficient 0.046415888336127774\n",
      "Fold 0\n",
      "[[55621  1242]\n",
      " [    8    91]]\n",
      "Fold 1\n",
      "[[55586  1277]\n",
      " [    9    90]]\n",
      "Fold 2\n",
      "[[55465  1398]\n",
      " [    8    90]]\n",
      "Fold 3\n",
      "[[55541  1322]\n",
      " [    8    90]]\n",
      "Fold 4\n",
      "[[55548  1315]\n",
      " [   11    87]]\n",
      "Final Confusion Matrix\n",
      "[[5.55522e+04 1.31080e+03]\n",
      " [8.80000e+00 8.96000e+01]]\n",
      "F1 score: 0.11956231651988257\n",
      "Recall: 0.910569105691057\n",
      "Precision: 0.0639817195087118\n",
      "Checking class weight balanced and coefficient 0.0774263682681127\n",
      "Fold 0\n",
      "[[55617  1246]\n",
      " [    8    91]]\n",
      "Fold 1\n",
      "[[55584  1279]\n",
      " [    9    90]]\n",
      "Fold 2\n",
      "[[55461  1402]\n",
      " [    8    90]]\n",
      "Fold 3\n",
      "[[55538  1325]\n",
      " [    8    90]]\n",
      "Fold 4\n",
      "[[55540  1323]\n",
      " [   11    87]]\n",
      "Final Confusion Matrix\n",
      "[[5.5548e+04 1.3150e+03]\n",
      " [8.8000e+00 8.9600e+01]]\n",
      "F1 score: 0.11922821024617433\n",
      "Recall: 0.910569105691057\n",
      "Precision: 0.06379040296169729\n",
      "Checking class weight balanced and coefficient 0.1291549665014884\n",
      "Fold 0\n",
      "[[55613  1250]\n",
      " [    8    91]]\n",
      "Fold 1\n",
      "[[55584  1279]\n",
      " [    9    90]]\n",
      "Fold 2\n",
      "[[55455  1408]\n",
      " [    8    90]]\n",
      "Fold 3\n",
      "[[55540  1323]\n",
      " [    8    90]]\n",
      "Fold 4\n",
      "[[55535  1328]\n",
      " [   11    87]]\n",
      "Final Confusion Matrix\n",
      "[[5.55454e+04 1.31760e+03]\n",
      " [8.80000e+00 8.96000e+01]]\n",
      "F1 score: 0.11902231668437832\n",
      "Recall: 0.910569105691057\n",
      "Precision: 0.06367254121660035\n",
      "Checking class weight balanced and coefficient 0.21544346900318834\n"
     ]
    }
   ],
   "source": [
    "weights = [None,'balanced']\n",
    "coefficients = np.logspace(-2,0,10)\n",
    "fscore = []\n",
    "recall = []\n",
    "precision = []\n",
    "param_permuations = list(itertools.product(weights, coefficients))\n",
    "for cw,C in param_permuations:\n",
    "    print('Checking class weight {} and coefficient {}'.format(cw, C))\n",
    "    cf = train_logistic_regression(data_sc, cw, C)\n",
    "    TP = cf[1][1]\n",
    "    FP = cf[0][1]\n",
    "    FN = cf[1][0]\n",
    "    prec = TP/(TP+FP)\n",
    "    rec = TP/(TP+FN)\n",
    "    f1 = prec*rec*2/(prec+rec)\n",
    "    print('F1 score:', f1)\n",
    "    print('Recall:', rec)\n",
    "    print('Precision:', prec)\n",
    "    fscore.append(f1)\n",
    "    recall.append(rec)\n",
    "    precision.append(prec)\n",
    "\n",
    "idx = np.argmax(recall)\n",
    "best_params = param_permuations[idx]\n",
    "print('Best parameters found for Logistic Regression is {} class weights and {} coefficient'.format(best_params[0], best_params[1]))"
   ]
  },
  {
   "cell_type": "markdown",
   "metadata": {},
   "source": [
    "### We see that as we improve fraud accuracy, valid accuracy decreases and vice versa. For the best fraud precision, the results suggest that we utilize the scaled data, balanced class weights and a strong regularization (small C coefficient)"
   ]
  }
 ],
 "metadata": {
  "kernelspec": {
   "display_name": "Python 3",
   "language": "python",
   "name": "python3"
  },
  "language_info": {
   "codemirror_mode": {
    "name": "ipython",
    "version": 3
   },
   "file_extension": ".py",
   "mimetype": "text/x-python",
   "name": "python",
   "nbconvert_exporter": "python",
   "pygments_lexer": "ipython3",
   "version": "3.6.5"
  }
 },
 "nbformat": 4,
 "nbformat_minor": 2
}
