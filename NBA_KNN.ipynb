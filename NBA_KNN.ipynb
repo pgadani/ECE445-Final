{
 "cells": [
  {
   "cell_type": "code",
   "execution_count": 1,
   "metadata": {},
   "outputs": [],
   "source": [
    "import numpy as np\n",
    "from matplotlib import pyplot as plt\n",
    "from mpl_toolkits.mplot3d import Axes3D\n",
    "import math\n",
    "import pandas as pd\n",
    "from collections import Counter"
   ]
  },
  {
   "cell_type": "code",
   "execution_count": 2,
   "metadata": {},
   "outputs": [],
   "source": [
    "from sklearn.neighbors import KNeighborsClassifier"
   ]
  },
  {
   "cell_type": "code",
   "execution_count": null,
   "metadata": {},
   "outputs": [],
   "source": []
  },
  {
   "cell_type": "code",
   "execution_count": null,
   "metadata": {},
   "outputs": [],
   "source": []
  },
  {
   "cell_type": "code",
   "execution_count": null,
   "metadata": {},
   "outputs": [],
   "source": []
  },
  {
   "cell_type": "code",
   "execution_count": null,
   "metadata": {},
   "outputs": [],
   "source": []
  },
  {
   "cell_type": "code",
   "execution_count": 3,
   "metadata": {},
   "outputs": [
    {
     "name": "stdout",
     "output_type": "stream",
     "text": [
      "PTS\n",
      "FG%\n",
      "3P%\n",
      "REB\n",
      "AST\n",
      "STL\n",
      "BLK\n",
      "Height\n",
      "Pos\n",
      "Weight\n",
      "{'PG', 'SF', 'C', 'SG', 'PF'}\n"
     ]
    },
    {
     "data": {
      "text/plain": [
       "Counter({'SG': 100, 'SF': 76, 'PF': 90, 'PG': 84, 'C': 72})"
      ]
     },
     "execution_count": 3,
     "metadata": {},
     "output_type": "execute_result"
    }
   ],
   "source": [
    "nba_players = pd.read_csv('./NBA_clean.csv', index_col=0)\n",
    "nba_players = nba_players.sample(frac=1) #shuffle 100% of rows\n",
    "\n",
    "nba_players = nba_players.drop(['MIN', 'Age', 'Weight', 'BMI', 'OREB', 'DREB', 'FTM',  'FTA', 'FT%', 'TOV', 'PF', 'EFF', 'AST/TOV', 'STL/TOV', 'FGM', 'FGA', '3PM', '3PA'], axis=1)\n",
    "for stat in nba_players:\n",
    "    print(stat)\n",
    "nba_players = nba_players.reset_index(drop=True)\n",
    "#nba_players\n",
    "\n",
    "print(set(nba_players.loc[:, 'Pos']))\n",
    "Counter(nba_players.loc[:, 'Pos'])"
   ]
  },
  {
   "cell_type": "code",
   "execution_count": 4,
   "metadata": {},
   "outputs": [],
   "source": [
    "def normalize(nba_players):\n",
    "    nbamean = np.mean(nba_players.loc[:, nba_players.columns != 'Pos'], axis = 0)\n",
    "    nba_players = nba_players - nbamean\n",
    "    nbastd = np.std(nba_players.loc[:, nba_players.columns != 'Pos'], axis = 0)\n",
    "    nba_players = nba_players / nbastd\n",
    "    #for stat in nba_players.loc[:, nba_players.columns != 'Pos']:\n",
    "    #    nba_players[stat] = nba_players[stat] - np.mean(nba_players[stat])\n",
    "    #for stat in nba_players.loc[:, nba_players.columns != 'Pos']:\n",
    "    #    nba_players[stat] = nba_players[stat]/np.std(nba_players[stat])\n",
    "    return nba_players, nbamean, nbastd"
   ]
  },
  {
   "cell_type": "code",
   "execution_count": 5,
   "metadata": {},
   "outputs": [],
   "source": [
    "validation_data  = nba_players.loc[360:421, nba_players.columns != 'Pos']\n",
    "validation_labels = nba_players.loc[360:421, 'Pos']"
   ]
  },
  {
   "cell_type": "code",
   "execution_count": 6,
   "metadata": {},
   "outputs": [
    {
     "name": "stdout",
     "output_type": "stream",
     "text": [
      "[0.6465846994535519, 0.6493169398907104, 0.6518214936247723, 0.6546448087431693, 0.6546903460837887, 0.6629781420765027, 0.6657559198542805, 0.6904371584699454, 0.6960837887067396]\n"
     ]
    }
   ],
   "source": [
    "splits = [0, 60 - 1, 120 - 1, 180 - 1, 240 - 1, 300 - 1, 360 - 1]\n",
    "\n",
    "perf = []\n",
    "klist = [4,5,6,7,8,9,10,11,12]\n",
    "for k in klist:\n",
    "    KNN = KNeighborsClassifier(n_neighbors=k)\n",
    "    p = []\n",
    "    for i in range(len(splits) - 1):\n",
    "        #print(i)\n",
    "        s1 = training_data = nba_players.loc[0:splits[i]-1, nba_players.columns != 'Pos']\n",
    "        s2 = training_data = nba_players.loc[splits[i+1]+1:359, nba_players.columns != 'Pos']\n",
    "        l1 = training_data = nba_players.loc[0:splits[i]-1, 'Pos']\n",
    "        l2 = training_data = nba_players.loc[splits[i+1]+1:359,  'Pos']\n",
    "        training_data = pd.concat([s1, s2])\n",
    "        training_labels = pd.concat([l1, l2])\n",
    "        testing_data = nba_players.loc[splits[i]:splits[i+1], nba_players.columns != 'Pos']\n",
    "        testing_labels = nba_players.loc[splits[i]:splits[i+1], 'Pos']\n",
    "        training_data = training_data.reset_index(drop=True)\n",
    "        testing_data = testing_data.reset_index(drop=True)\n",
    "\n",
    "        #testing_data = normalize(testing_data)\n",
    "        training_data, tmean, tstd = normalize(training_data)\n",
    "        testing_data = (testing_data - tmean)/tstd\n",
    "        \n",
    "        KNN.fit(training_data, training_labels)\n",
    "        acc = KNN.score(testing_data, testing_labels)\n",
    "        p.append(acc)\n",
    "    perf.append(np.mean(p))\n",
    "print(perf)\n",
    "#KNN3 = KNeighborsClassifier(n_neighbors=3)\n",
    "#KNN3.fit(nba_players.loc[0:359, nba_players.columns != 'Pos'], nba_players.loc[0:359, 'Pos'])"
   ]
  },
  {
   "cell_type": "code",
   "execution_count": 7,
   "metadata": {},
   "outputs": [
    {
     "name": "stdout",
     "output_type": "stream",
     "text": [
      "12\n",
      "0.6290322580645161\n"
     ]
    }
   ],
   "source": [
    "#validate\n",
    "print(klist[np.argmax(perf)])\n",
    "KNN = KNeighborsClassifier(n_neighbors=klist[np.argmin(perf)])\n",
    "training_data = nba_players.loc[0:359, nba_players.columns != 'Pos']\n",
    "training_labels = nba_players.loc[0:359, 'Pos']\n",
    "training_data = training_data.reset_index(drop=True)\n",
    "training_data, tmean, tstd = normalize(training_data)\n",
    "KNN.fit(training_data, training_labels)\n",
    "#validation_data = normalize(validation_data)\n",
    "validation_data = (validation_data - tmean)/tstd\n",
    "acc = KNN.score(validation_data, validation_labels)\n",
    "print(acc)"
   ]
  },
  {
   "cell_type": "code",
   "execution_count": null,
   "metadata": {},
   "outputs": [],
   "source": []
  },
  {
   "cell_type": "code",
   "execution_count": null,
   "metadata": {},
   "outputs": [],
   "source": []
  },
  {
   "cell_type": "code",
   "execution_count": null,
   "metadata": {},
   "outputs": [],
   "source": []
  }
 ],
 "metadata": {
  "kernelspec": {
   "display_name": "Python 3",
   "language": "python",
   "name": "python3"
  },
  "language_info": {
   "codemirror_mode": {
    "name": "ipython",
    "version": 3
   },
   "file_extension": ".py",
   "mimetype": "text/x-python",
   "name": "python",
   "nbconvert_exporter": "python",
   "pygments_lexer": "ipython3",
   "version": "3.6.5"
  }
 },
 "nbformat": 4,
 "nbformat_minor": 2
}
