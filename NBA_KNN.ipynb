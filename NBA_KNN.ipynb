{
 "cells": [
  {
   "cell_type": "code",
   "execution_count": 1,
   "metadata": {},
   "outputs": [],
   "source": [
    "import numpy as np\n",
    "from matplotlib import pyplot as plt\n",
    "from mpl_toolkits.mplot3d import Axes3D\n",
    "import math\n",
    "import pandas as pd\n",
    "from collections import Counter"
   ]
  },
  {
   "cell_type": "code",
   "execution_count": 2,
   "metadata": {},
   "outputs": [],
   "source": [
    "from sklearn.neighbors import KNeighborsClassifier"
   ]
  },
  {
   "cell_type": "code",
   "execution_count": null,
   "metadata": {},
   "outputs": [],
   "source": []
  },
  {
   "cell_type": "code",
   "execution_count": null,
   "metadata": {},
   "outputs": [],
   "source": []
  },
  {
   "cell_type": "code",
   "execution_count": null,
   "metadata": {},
   "outputs": [],
   "source": []
  },
  {
   "cell_type": "code",
   "execution_count": null,
   "metadata": {},
   "outputs": [],
   "source": []
  },
  {
   "cell_type": "code",
   "execution_count": 3,
   "metadata": {},
   "outputs": [
    {
     "name": "stdout",
     "output_type": "stream",
     "text": [
      "MIN\n",
      "PTS\n",
      "FGM\n",
      "FGA\n",
      "FG%\n",
      "3PM\n",
      "3PA\n",
      "3P%\n",
      "FTM\n",
      "FTA\n",
      "FT%\n",
      "OREB\n",
      "DREB\n",
      "REB\n",
      "AST\n",
      "STL\n",
      "BLK\n",
      "TOV\n",
      "PF\n",
      "EFF\n",
      "AST/TOV\n",
      "STL/TOV\n",
      "Age\n",
      "Height\n",
      "Pos\n",
      "Weight\n",
      "BMI\n",
      "{'PG', 'C', 'PF', 'SG', 'SF'}\n"
     ]
    },
    {
     "data": {
      "text/plain": [
       "Counter({'C': 72, 'SG': 100, 'PG': 84, 'PF': 90, 'SF': 76})"
      ]
     },
     "execution_count": 3,
     "metadata": {},
     "output_type": "execute_result"
    }
   ],
   "source": [
    "nba_players = pd.read_csv('./NBA_clean.csv', index_col=0)\n",
    "nba_players = nba_players.sample(frac=1) #shuffle 100% of rows\n",
    "\n",
    "#nba_players = nba_players.drop(['MIN', 'Age', 'Weight', 'BMI'], axis=1)\n",
    "for stat in nba_players:\n",
    "    print(stat)\n",
    "nba_players = nba_players.reset_index(drop=True)\n",
    "#nba_players\n",
    "\n",
    "print(set(nba_players.loc[:, 'Pos']))\n",
    "Counter(nba_players.loc[:, 'Pos'])"
   ]
  },
  {
   "cell_type": "code",
   "execution_count": 4,
   "metadata": {},
   "outputs": [],
   "source": [
    "def normalize(nba_players):\n",
    "    for stat in nba_players.loc[:, nba_players.columns != 'Pos']:\n",
    "        nba_players[stat] = nba_players[stat] - np.mean(nba_players[stat])\n",
    "    for stat in nba_players.loc[:, nba_players.columns != 'Pos']:\n",
    "        nba_players[stat] = nba_players[stat]/np.std(nba_players[stat])\n",
    "    return nba_players"
   ]
  },
  {
   "cell_type": "code",
   "execution_count": 5,
   "metadata": {},
   "outputs": [],
   "source": [
    "validation_data  = nba_players.loc[360:421, nba_players.columns != 'Pos']\n",
    "validation_labels = nba_players.loc[360:421, 'Pos']"
   ]
  },
  {
   "cell_type": "code",
   "execution_count": null,
   "metadata": {},
   "outputs": [],
   "source": [
    "splits = [0, 60 - 1, 120 - 1, 180 - 1, 240 - 1, 300 - 1, 360 - 1]\n",
    "\n",
    "perf = []\n",
    "klist = [2,3,4,5,6,7,8,9,10]\n",
    "for k in klist:\n",
    "    KNN = KNeighborsClassifier(n_neighbors=k)\n",
    "    p = []\n",
    "    for i in range(len(splits) - 1):\n",
    "        #print(i)\n",
    "        s1 = training_data = nba_players.loc[0:splits[i]-1, nba_players.columns != 'Pos']\n",
    "        s2 = training_data = nba_players.loc[splits[i+1]+1:359, nba_players.columns != 'Pos']\n",
    "        l1 = training_data = nba_players.loc[0:splits[i]-1, 'Pos']\n",
    "        l2 = training_data = nba_players.loc[splits[i+1]+1:359,  'Pos']\n",
    "        training_data = pd.concat([s1, s2])\n",
    "        training_labels = pd.concat([l1, l2])\n",
    "        testing_data = nba_players.loc[splits[i]:splits[i+1], nba_players.columns != 'Pos']\n",
    "        testing_labels = nba_players.loc[splits[i]:splits[i+1], 'Pos']\n",
    "        training_data = training_data.reset_index(drop=True)\n",
    "        testing_data = testing_data.reset_index(drop=True)\n",
    "\n",
    "        testing_data = normalize(testing_data)\n",
    "        training_data = normalize(training_data)\n",
    "        \n",
    "        KNN.fit(training_data, training_labels)\n",
    "        acc = KNN.score(testing_data, testing_labels)\n",
    "        p.append(acc)\n",
    "    perf.append(np.mean(p))\n",
    "print(perf)\n",
    "#KNN3 = KNeighborsClassifier(n_neighbors=3)\n",
    "#KNN3.fit(nba_players.loc[0:359, nba_players.columns != 'Pos'], nba_players.loc[0:359, 'Pos'])"
   ]
  },
  {
   "cell_type": "code",
   "execution_count": null,
   "metadata": {},
   "outputs": [],
   "source": [
    "#validate\n",
    "print(klist[np.argmax(perf)])\n",
    "KNN = KNeighborsClassifier(n_neighbors=klist[np.argmin(perf)])\n",
    "training_data = nba_players.loc[0:359, nba_players.columns != 'Pos']\n",
    "training_labels = nba_players.loc[0:359, 'Pos']\n",
    "training_data = training_data.reset_index(drop=True)\n",
    "training_data = normalize(training_data)\n",
    "KNN.fit(training_data, training_labels)\n",
    "validation_data = normalize(validation_data)\n",
    "acc = KNN.score(validation_data, validation_labels)\n",
    "print(acc)"
   ]
  },
  {
   "cell_type": "code",
   "execution_count": null,
   "metadata": {},
   "outputs": [],
   "source": []
  },
  {
   "cell_type": "code",
   "execution_count": null,
   "metadata": {},
   "outputs": [],
   "source": []
  },
  {
   "cell_type": "code",
   "execution_count": null,
   "metadata": {},
   "outputs": [],
   "source": []
  }
 ],
 "metadata": {
  "kernelspec": {
   "display_name": "Python 3",
   "language": "python",
   "name": "python3"
  },
  "language_info": {
   "codemirror_mode": {
    "name": "ipython",
    "version": 3
   },
   "file_extension": ".py",
   "mimetype": "text/x-python",
   "name": "python",
   "nbconvert_exporter": "python",
   "pygments_lexer": "ipython3",
   "version": "3.6.5"
  }
 },
 "nbformat": 4,
 "nbformat_minor": 2
}
